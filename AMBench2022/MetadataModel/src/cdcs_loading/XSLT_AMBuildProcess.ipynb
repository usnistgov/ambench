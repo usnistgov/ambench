{
 "cells": [
  {
   "cell_type": "markdown",
   "metadata": {},
   "source": [
    "# transform Carrie's XML files to AMDocs template\n",
    "First load powder(s) so we have a PID for them to be used in the build process docs."
   ]
  },
  {
   "cell_type": "markdown",
   "metadata": {},
   "source": [
    "Would be nice to be able to use saxonm as it support more of XSLT 2 for example.<br/>\n",
    "Saxonica (https://www.saxonica.com/download/c.xml) would do so but is tricky to install on SciServer as it seems to require root privilege to put things in /usr/lib.<br/>\n",
    "Currently unpacked in ~/workspace/nist/BIN/....\n",
    "May be simpler to use Java libraries on beakerx container.\n",
    "\n",
    "Will use lxml for now  which is ok for the XSLT 1 used here."
   ]
  },
  {
   "cell_type": "code",
   "execution_count": 1,
   "metadata": {},
   "outputs": [],
   "source": [
    "import lxml\n",
    "import lxml.etree as ET\n",
    "import os\n",
    "import sys\n",
    "import glob\n",
    "import xml.dom.minidom\n",
    "import xmlschema"
   ]
  },
  {
   "cell_type": "code",
   "execution_count": 2,
   "metadata": {},
   "outputs": [],
   "source": [
    "from myconfig import CONFIG"
   ]
  },
  {
   "cell_type": "code",
   "execution_count": 16,
   "metadata": {},
   "outputs": [],
   "source": [
    "AMBENCH=CONFIG.AMBENCH_URL.split(\"/\")[2].split(\".\")[0]\n",
    "EXCEL_FILE = CONFIG.SAMPLES_EXCEL_FILE\n",
    "try : CONFIG.USER\n",
    "except: CONFIG.USER = input('username: ')\n",
    "try: CONFIG.PASS\n",
    "except : CONFIG.PASS = getpass.getpass('enter password ')\n",
    "AUTH=(CONFIG.USER, CONFIG.PASS)"
   ]
  },
  {
   "cell_type": "code",
   "execution_count": 17,
   "metadata": {},
   "outputs": [],
   "source": [
    "sys.path.insert(0, CONFIG.pyUTILS_path)\n",
    "from ambench.cdcs_utils import AMBench2022"
   ]
  },
  {
   "cell_type": "code",
   "execution_count": 18,
   "metadata": {},
   "outputs": [
    {
     "data": {
      "text/plain": [
       "'valid'"
      ]
     },
     "execution_count": 18,
     "metadata": {},
     "output_type": "execute_result"
    }
   ],
   "source": [
    "try:\n",
    "    ambench2022=AMBench2022(CONFIG.TEMPLATE,CONFIG.AMBENCH_URL,auth=AUTH)\n",
    "except:\n",
    "    ambench2022=None\n",
    "\n",
    "xsd_filename=f'{CONFIG.XSD}AMDocs.xsd'\n",
    "VALIDATOR=xmlschema.XMLSchema(xsd_filename,build=False)\n",
    "VALIDATOR.build()\n",
    "VALIDATOR.validity "
   ]
  },
  {
   "cell_type": "markdown",
   "metadata": {},
   "source": [
    "## define functions"
   ]
  },
  {
   "cell_type": "code",
   "execution_count": 29,
   "metadata": {},
   "outputs": [],
   "source": [
    "def xsd_validate(xmlfile):\n",
    "    v=VALIDATOR.is_valid(xmlfile)\n",
    "    if not(v):\n",
    "        try:\n",
    "            VALIDATOR.validate(xmlfile)\n",
    "        except Exception as e:\n",
    "            print(xmlfile,\" is not valid\\n\\n\",e,\"\\n=====\\n\")\n",
    "        return False\n",
    "    else:\n",
    "        print(xmlfile,' is valid')\n",
    "        return True\n",
    "    \n",
    "# read XSLT files, create transformers for build process and powder\n",
    "xsl_filename='AMBuildProcess.xsl'\n",
    "xslt = ET.parse(xsl_filename)\n",
    "transform = ET.XSLT(xslt)\n",
    "\n",
    "xsl_filename='AMPowder.xsl'\n",
    "xslt = ET.parse(xsl_filename)\n",
    "powder_transform = ET.XSLT(xslt)"
   ]
  },
  {
   "cell_type": "code",
   "execution_count": 25,
   "metadata": {},
   "outputs": [],
   "source": [
    "def map_powder(dom):\n",
    "    # dom contains DOM (from lxml.etree.parse) of Carrie's XML document\n",
    "    elems=dom.findall('./PowderInformation/SupplierInformation/PowderLot')\n",
    "    if len(elems) == 1:\n",
    "        lotnumber=elems[0].text\n",
    "        PID=find_powder_for_lotnumber(lotnumber)\n",
    "        if PID is None:\n",
    "            PID=''\n",
    "            is_new=True\n",
    "        else:\n",
    "            is_new=False\n",
    "        powderXML = powder_transform(dom,PID=ET.XSLT.strparam(PID))\n",
    "        powderfile=f'{POWDER_OUT}{lotnumber}.xml'\n",
    "        try:\n",
    "            powderXML.write(powderfile,xml_declaration=False, encoding='UTF-8',pretty_print=True)\n",
    "            print(\"written powder file\",powderfile)\n",
    "            if VALIDATOR.is_valid(powderfile):\n",
    "                return (lotnumber,(powderfile,is_new))\n",
    "            else:\n",
    "                print(\"XSD validation Error in\",xml_filename,\"\\n\")\n",
    "                return None\n",
    "        except Exception as e:\n",
    "            print(\"Error in\",xml_filename,\"\\n\",e)\n",
    "    else:\n",
    "        print('cannot find lotnumber for powder in',xml_filename,'no file written')\n",
    "    return None"
   ]
  },
  {
   "cell_type": "code",
   "execution_count": 19,
   "metadata": {},
   "outputs": [],
   "source": [
    "def map_buildprocess(dom):\n",
    "    elems=dom.findall('./PowderInformation/SupplierInformation/PowderLot')\n",
    "    if len(elems) == 1:\n",
    "        lotnumber=elems[0].text\n",
    "        powderPID=find_powder_for_lotnumber(lotnumber)\n",
    "    else:\n",
    "        powderPID=None\n",
    "    elems=dom.findall('./SampleID/name')\n",
    "    if len(elems) == 1:\n",
    "        buildplateId=elems[0].text\n",
    "    buildplatePID='UNKNOWN'\n",
    "    if ambench2022 is not None:\n",
    "        buildplate=ambench2022.query_buildplate_amdoc(name=buildplateId)\n",
    "        if buildplate is not None:\n",
    "            buildplatePID=buildplate.pid\n",
    "        else:\n",
    "            print(\"No buildplate found for buildplateid=\",buildplateId,\"referenced in\",xml_filename)\n",
    "    # TODO find if buildprocess exists for buildPLate, then retrieve its PID\n",
    "    PID=find_buildprocess_for_buildplatePID(buildplatePID)\n",
    "    if PID is not None:\n",
    "        is_new=False\n",
    "    else:\n",
    "        PID=''\n",
    "        is_new = True\n",
    "\n",
    "    tXML = transform(dom,PID=ET.XSLT.strparam(PID),BuildPlatePID=ET.XSLT.strparam(buildplatePID),PowderPID=ET.XSLT.strparam(powderPID))\n",
    "    buildprocess_file=f'{BUILSPROCESS_OUT}AMBuildProcess-{os.path.basename(xml_filename)}'\n",
    "    tXML.write(buildprocess_file, xml_declaration=False, encoding='UTF-8',pretty_print=True)\n",
    "    if VALIDATOR.is_valid(buildprocess_file):\n",
    "        return buildprocess_file,is_new\n",
    "    else:\n",
    "        print(\"XSD validation Error in\",xml_filename,\"\\n\",e)\n",
    "        return None"
   ]
  },
  {
   "cell_type": "code",
   "execution_count": 20,
   "metadata": {},
   "outputs": [],
   "source": [
    "def find_buildprocess_for_buildplatePID(buildplatePID):\n",
    "    # could be made more efficient, finding all processes in one query, create dict etc etc\n",
    "    MQ={\"AMDoc.AMBuildProcess.buildPlateID\":buildplatePID}\n",
    "    df=ambench2022.mongo_query(MQ)\n",
    "    if len(df) == 1:\n",
    "        dom = ET.parse(df['xml_content'][0])\n",
    "        elems=dom.findall('./pid')\n",
    "        if len(elems) == 1:\n",
    "            return elems[0].text\n",
    "    elif len(df)>1:\n",
    "        raise Exception(\"Multiple build processes defined for buildplatePID\",buildplatePID)\n",
    "    return None\n",
    "\n",
    "def find_powder_for_lotnumber(lotnumber):\n",
    "    MQ={\"AMDoc.AMPowder.lotNumber\":lotnumber}\n",
    "    df=ambench2022.mongo_query(MQ)\n",
    "    if len(df) == 1:\n",
    "        _xml=df['xml_content'][0]\n",
    "        dom = ET.fromstring(bytes(_xml, encoding='utf-8'))\n",
    "#         dom = ET.fromstring(df['xml_content'][0])\n",
    "        elems=dom.findall('./pid')\n",
    "        if len(elems) == 1:\n",
    "            return elems[0].text\n",
    "    elif len(df)>1:\n",
    "        raise Exception(\"Multiple powders defined for lotnumber\",lotnumber)\n",
    "    return None\n"
   ]
  },
  {
   "cell_type": "code",
   "execution_count": 21,
   "metadata": {},
   "outputs": [],
   "source": [
    "def load_amdocs_cdcs(amdocs):\n",
    "    uploaded={}\n",
    "    errors={}\n",
    "    for f,is_new in amdocs:\n",
    "        fn=os.path.basename(f)\n",
    "        if is_new:\n",
    "            print('upload new:', f)\n",
    "            response=ambench2022.upload_data(f)\n",
    "        else:\n",
    "            print('update existing:', f)\n",
    "            response=ambench2022.update_data(f)\n",
    "        if response.ok:\n",
    "            uploaded[fn]=response.json()    \n",
    "        else:\n",
    "            errors[fn]=response.json()\n",
    "    return uploaded,errors"
   ]
  },
  {
   "cell_type": "code",
   "execution_count": 22,
   "metadata": {},
   "outputs": [],
   "source": [
    "CARRIE=\"/home/idies/workspace/AMBench/DATA/CDCS/AltXML/carrie/\"\n",
    "carries_files=glob.glob(f'{CARRIE}AMBench2022*.xml')\n",
    "\n",
    "AMDOC_OUT=\"/home/idies/workspace/AMBench/DATA/CDCS/AltXML/amdoc/\"\n",
    "POWDER_OUT=f'{AMDOC_OUT}AMPowder/'\n",
    "os.makedirs(POWDER_OUT,exist_ok=True)\n",
    "BUILSPROCESS_OUT=f'{AMDOC_OUT}AMBuildProcess/'\n",
    "os.makedirs(BUILSPROCESS_OUT,exist_ok=True)"
   ]
  },
  {
   "cell_type": "markdown",
   "metadata": {},
   "source": [
    "## First AMPowder-s"
   ]
  },
  {
   "cell_type": "code",
   "execution_count": 30,
   "metadata": {},
   "outputs": [
    {
     "name": "stdout",
     "output_type": "stream",
     "text": [
      "written powder file /home/idies/workspace/AMBench/DATA/CDCS/AltXML/amdoc/AMPowder/K201801.xml\n",
      "written powder file /home/idies/workspace/AMBench/DATA/CDCS/AltXML/amdoc/AMPowder/K201801.xml\n",
      "written powder file /home/idies/workspace/AMBench/DATA/CDCS/AltXML/amdoc/AMPowder/K201801.xml\n",
      "written powder file /home/idies/workspace/AMBench/DATA/CDCS/AltXML/amdoc/AMPowder/K201801.xml\n",
      "written powder file /home/idies/workspace/AMBench/DATA/CDCS/AltXML/amdoc/AMPowder/K201801.xml\n",
      "written powder file /home/idies/workspace/AMBench/DATA/CDCS/AltXML/amdoc/AMPowder/K201801.xml\n",
      "written powder file /home/idies/workspace/AMBench/DATA/CDCS/AltXML/amdoc/AMPowder/K201801.xml\n",
      "written powder file /home/idies/workspace/AMBench/DATA/CDCS/AltXML/amdoc/AMPowder/K201801.xml\n",
      "written powder file /home/idies/workspace/AMBench/DATA/CDCS/AltXML/amdoc/AMPowder/K201801.xml\n",
      "written powder file /home/idies/workspace/AMBench/DATA/CDCS/AltXML/amdoc/AMPowder/K201801.xml\n"
     ]
    }
   ],
   "source": [
    "t_files=glob.glob(f'{POWDER_OUT}*.xml')\n",
    "for file in t_files:\n",
    "    os.remove(file)\n",
    "\n",
    "powder_amdocs={}\n",
    "for xml_filename in carries_files:\n",
    "    try:\n",
    "        dom = ET.parse(xml_filename)\n",
    "        powder=map_powder(dom)\n",
    "        if powder is not None:\n",
    "            powder_amdocs[powder[0]]=powder[1]\n",
    "    except Exception as ex:\n",
    "        print(\"XML Syntax error\\n\",ex)\n",
    "        raise(ex)"
   ]
  },
  {
   "cell_type": "code",
   "execution_count": 33,
   "metadata": {},
   "outputs": [
    {
     "name": "stdout",
     "output_type": "stream",
     "text": [
      "update existing: /home/idies/workspace/AMBench/DATA/CDCS/AltXML/amdoc/AMPowder/K201801.xml\n"
     ]
    }
   ],
   "source": [
    "load_result = load_amdocs_cdcs(powder_amdocs.values())"
   ]
  },
  {
   "cell_type": "markdown",
   "metadata": {},
   "source": [
    "## then AMBuildProcess"
   ]
  },
  {
   "cell_type": "code",
   "execution_count": null,
   "metadata": {},
   "outputs": [],
   "source": [
    "t_files=glob.glob(f'{BUILSPROCESS_OUT}*.xml')\n",
    "for file in t_files:\n",
    "    os.remove(file)\n",
    "\n",
    "amdocs=[]\n",
    "for xml_filename in sorted(carries_files):\n",
    "    try:\n",
    "        dom = ET.parse(xml_filename)\n",
    "        bp=map_buildprocess(dom)\n",
    "        if bp is not None:\n",
    "            amdocs.append(bp)\n",
    "        else:\n",
    "            print(\"no result for\",xml_filename)\n",
    "    except Exception as ex:\n",
    "        print(\"XML Syntax error\\n\",ex)\n",
    "        pass"
   ]
  },
  {
   "cell_type": "code",
   "execution_count": null,
   "metadata": {},
   "outputs": [],
   "source": [
    "for xmlfile,is_new in amdocs:\n",
    "    v=VALIDATOR.is_valid(xmlfile)\n",
    "    if not(v):\n",
    "        try:\n",
    "            VALIDATOR.validate(xmlfile)\n",
    "        except Exception as e:\n",
    "            print(xmlfile,\"\\n\",e,\"\\n=====\\n\")\n",
    "            raise e\n",
    "    else:\n",
    "        print(xmlfile,\"is valid\")"
   ]
  },
  {
   "cell_type": "code",
   "execution_count": null,
   "metadata": {},
   "outputs": [],
   "source": [
    "load_result = load_amdocs_cdcs(amdocs)"
   ]
  },
  {
   "cell_type": "markdown",
   "metadata": {},
   "source": [
    "## merging Carries and Barndons file\n",
    "then xslt on combined document"
   ]
  },
  {
   "cell_type": "code",
   "execution_count": null,
   "metadata": {},
   "outputs": [],
   "source": [
    "f_brandon='/home/idies/workspace/AMBench/DATA/CDCS/AltXML/brandon/AMB2022-01-718-AMMT-B6_ExampleBuildMetadata_v0.xml'\n",
    "f_carrie='/home/idies/workspace/AMBench/DATA/CDCS/AltXML/carrie/AMBench2022-IN718-AMMT-B6.xml'\n",
    "carrie, brandon = et.parse(f_carrie), et.parse(f_brandon)"
   ]
  },
  {
   "cell_type": "code",
   "execution_count": null,
   "metadata": {},
   "outputs": [],
   "source": [
    "c=carrie.getroot()\n",
    "b=brandon.getroot()\n",
    "c.append(b)\n",
    "f=f'/home/idies/workspace/AMBench/DATA/CDCS/AltXML/cb/cb-B6.xml'\n",
    "carrie.write(f)"
   ]
  },
  {
   "cell_type": "code",
   "execution_count": null,
   "metadata": {},
   "outputs": [],
   "source": [
    "\n",
    "xsd_filename='/home/idies/workspace/AMBench/DATA/CDCS/AltXML/brandon/am_schema_R2019a (Version 1).xsd'\n",
    "xsd_filename='/home/idies/workspace/AMBench/DATA/CDCS/AltXML/brandon/am_schema_R2021_test0 (Version 1).xsd'\n",
    "# xsd_filename='/home/idies/workspace/AMBench/DATA/CDCS/AltXML/brandon/AMMD-AMB2022.xsd'\n",
    "AMMT_VALIDATOR=xmlschema.XMLSchema(xsd_filename,build=False)\n",
    "AMMT_VALIDATOR.build()\n",
    "AMMT_VALIDATOR.validity "
   ]
  },
  {
   "cell_type": "code",
   "execution_count": null,
   "metadata": {},
   "outputs": [],
   "source": [
    "AMMT_VALIDATOR.validate(f_brandon)"
   ]
  },
  {
   "cell_type": "code",
   "execution_count": null,
   "metadata": {},
   "outputs": [],
   "source": []
  }
 ],
 "metadata": {
  "kernelspec": {
   "display_name": "Python 3.8 (py38)",
   "language": "python",
   "name": "py38"
  },
  "language_info": {
   "codemirror_mode": {
    "name": "ipython",
    "version": 3
   },
   "file_extension": ".py",
   "mimetype": "text/x-python",
   "name": "python",
   "nbconvert_exporter": "python",
   "pygments_lexer": "ipython3",
   "version": "3.8.5"
  }
 },
 "nbformat": 4,
 "nbformat_minor": 4
}
