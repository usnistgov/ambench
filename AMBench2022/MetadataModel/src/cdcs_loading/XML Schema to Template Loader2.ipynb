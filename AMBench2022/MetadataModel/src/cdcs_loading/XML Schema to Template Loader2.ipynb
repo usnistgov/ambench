{
 "cells": [
  {
   "cell_type": "markdown",
   "metadata": {},
   "source": [
    "# Upload XML schemas to CDCS\n",
    "This notebook is for managing XML schemas for metadata describing AM Bench 2022 series samples, build processes and measurements. It does uploading new schemas to <b>private</b> AM Bench CDCS datebase instance (henceforth called CDCS) or replacing the existing schemas by their new versions in CDCS as well as updating existing XML files in CDCS according to new ones. If you wish to access the private CDCS site, please contact Lyle E. Levine (lyle.levine@nist.gov).\n",
    "\n",
    "The steps of uploading new schemas or updating schemas are as follows:\n",
    "* You put all schema files inside a folder called <code>XSD</code> specified in <code>__CONFIG</code>. \n",
    "* Check whether a template with its title <code>TEMPLATE</code> as defined n in <code>__CONFIG</code> already exists in CDCS. Template is a name of a group of versions of an XML schema. \n",
    "  * If it does not, do the followings:\n",
    "   * Upload the schemas and create a Template for each schema in CDCS\n",
    "   * Upload XML files to CDCS template of value <code>TEMPLTE</code> of <code>__CONFIG</code>.\n",
    "  * Otherwise, the XML documents in CDCS have to be migrated to be compliant to the new version of the template while their &lt;pid&gt;s remain unchanged. \n",
    "   * Download all XML documents in the template and deleted them from CDCS. \n",
    "   * Make them valid against new schemas.\n",
    "   * Upload both the new schemas and the updated XML documents to CDCS.\n",
    "  "
   ]
  },
  {
   "cell_type": "code",
   "execution_count": null,
   "metadata": {},
   "outputs": [],
   "source": [
    "import lxml.etree as ET\n",
    "import pandas\n",
    "import os\n",
    "from pathlib import Path\n",
    "import xmlschema\n",
    "import getpass\n",
    "from cdcs import CDCS\n",
    "import requests\n",
    "import json\n",
    "import glob\n",
    "import uuid\n",
    "import sys\n",
    "import importlib\n",
    "import SciServer.Authentication as sauth"
   ]
  },
  {
   "cell_type": "markdown",
   "metadata": {},
   "source": [
    "# Initiantiate __CONFIG class \n",
    "- In order to run this notebook create your own configuration file in JSON format. Please see the example given in default_config.json.\n",
    "- Enter your json file in the argument of the constructor of <code>__CONFIG class</code> defined in config.py. If no argument is passed in the constructor, default_config.json is used."
   ]
  },
  {
   "cell_type": "code",
   "execution_count": null,
   "metadata": {},
   "outputs": [],
   "source": [
    "# Import config and instantiate __CONFIG class.\n",
    "import sys\n",
    "\n",
    "import config\n",
    "from config import __CONFIG\n",
    "\n",
    "CONFIG = __CONFIG(conf_json = \"./myconfig-sciserver.json\")\n"
   ]
  },
  {
   "cell_type": "code",
   "execution_count": null,
   "metadata": {},
   "outputs": [],
   "source": [
    "# If USER or PASS are None in the configuraton setting, enter them interactively. \n",
    "#For anonymous user do not enter anything.\n",
    "\n",
    "if CONFIG.USER is None:\n",
    "    CONFIG.USER = input('username: ')\n",
    "if CONFIG.PASS is None:\n",
    "    CONFIG.PASS = getpass.getpass('enter password ')\n",
    "\n",
    "AUTH=(CONFIG.USER, CONFIG.PASS)    \n"
   ]
  },
  {
   "cell_type": "code",
   "execution_count": null,
   "metadata": {},
   "outputs": [],
   "source": [
    "# Include the directory path for the required Python modules.\n",
    "\n",
    "sys.path.insert(0, CONFIG.pyUTILS_path)\n",
    "import ambench.cdcs_utils\n",
    "from ambench.cdcs_utils import AMBench2022, xmlschema\n",
    "from ambench.mapping import new_mapper\n",
    "#from ambench.cdcs_utils import *"
   ]
  },
  {
   "cell_type": "markdown",
   "metadata": {},
   "source": [
    "# Create AMBench2022 instance\n",
    "* AMBench2022 is a wrapper class of which base class is CDCS from pycdcs. It has additional methods including querying, and uploading XML schemas and documents in the CDCS instance."
   ]
  },
  {
   "cell_type": "code",
   "execution_count": null,
   "metadata": {
    "scrolled": false
   },
   "outputs": [],
   "source": [
    "ambench2022=AMBench2022(CONFIG.TEMPLATE,CONFIG.AMBENCH_URL,auth=AUTH)"
   ]
  },
  {
   "cell_type": "markdown",
   "metadata": {},
   "source": [
    "# Define utility function"
   ]
  },
  {
   "cell_type": "code",
   "execution_count": null,
   "metadata": {},
   "outputs": [],
   "source": [
    "def clearTemps():\n",
    "    '''\n",
    "    Remove all XML files in VALID_XML and INVALID_XML folders.\n",
    "    '''\n",
    "    ROOT=os.getcwd()\n",
    "    path = Path(ROOT)\n",
    "\n",
    "    filelist = glob.glob(os.path.join(VALID_XML, \"*.xml\"))\n",
    "    for f in filelist:\n",
    "        os.remove(f)\n",
    "    print(\"removed\",len(filelist),\"files from\",VALID_XML)\n",
    "    filelist = glob.glob(os.path.join(INVALID_XML, \"*.xml\"))\n",
    "    for f in filelist:\n",
    "        os.remove(f)\n",
    "    print(\"removed\",len(filelist),\"files from\",INVALID_XML)"
   ]
  },
  {
   "cell_type": "code",
   "execution_count": null,
   "metadata": {},
   "outputs": [],
   "source": [
    "# # TEST!!!\n",
    "# sauth.getToken()\n",
    "# import SciServer.CasJobs as cj\n",
    "# cj.executeQuery(\"select * from information_schema.tables\",\"AMBench\")"
   ]
  },
  {
   "cell_type": "markdown",
   "metadata": {},
   "source": [
    "# 0. define parameters\n",
    "input\n",
    "* url to ambench CDCS instance\n",
    "* folder with XSD files to be uploaded/updated\n",
    "* file name of the XSD file defining the root element (AMDocs.xsd)\n",
    "* name of the CDCS template\n",
    "\n",
    "objects\n",
    "* pycdcs CDCS instance\n",
    "* list of ids of all versions of the template\n",
    "* id of the current version\n",
    "* xmlschema instance for the schema"
   ]
  },
  {
   "cell_type": "markdown",
   "metadata": {},
   "source": [
    "# Make workspace folders to put Valid and Invalid XML files\n",
    "\n",
    "Create temporary workspace folders <code>VALID_XML</code> and <code>INVALID_XML</code> for downloaded and updated XML files. (<b>TODO IMPROVE HERE!!!</b>)<code>XML_WORKSPACE</code> is a path to the folder where these folders be created.\n",
    "\n",
    "If you run this notebook in SciServer Compute container, create <code>XML_WORKSPACE</code> in your SciServer scratch user volume of which its folder path given in a cell below. "
   ]
  },
  {
   "cell_type": "code",
   "execution_count": null,
   "metadata": {
    "scrolled": true
   },
   "outputs": [],
   "source": [
    "# If using SciServer Compute container, use the folder path given below two lines.\n",
    "\n",
    "# SCISERVER_USER=sauth.getKeystoneUserWithToken(token).userName\n",
    "# XML_WORKSPACE=f\"/home/idies/workspace/Temporary/{SCISERVER_USER}/scratch/AMBENCH/XML_TEMP\"\n",
    "\n",
    "#============================================================================================#\n",
    "\n",
    "# Otherwise enter path to your folder below\n",
    "# XML_WORKSPACE=\"\" "
   ]
  },
  {
   "cell_type": "code",
   "execution_count": null,
   "metadata": {},
   "outputs": [],
   "source": [
    "XML_WORKSPACE=f\"/home/idies/workspace/Temporary/jkim485/scratch/AMBENCH/XML_TEMP\" ##TEST!!"
   ]
  },
  {
   "cell_type": "code",
   "execution_count": null,
   "metadata": {},
   "outputs": [],
   "source": [
    "VALID_XML=f\"{XML_WORKSPACE}/VALID\"\n",
    "INVALID_XML=f\"{XML_WORKSPACE}/INVALID\"\n",
    "os.makedirs(VALID_XML,exist_ok=True)\n",
    "os.makedirs(INVALID_XML,exist_ok=True)\n"
   ]
  },
  {
   "cell_type": "code",
   "execution_count": null,
   "metadata": {},
   "outputs": [],
   "source": [
    "# Build XML schema objects from XSD files using xmlschema library\n",
    "\n",
    "TITLE_PREFIX='' # DO WE NEED TITLE_PREFIX???????????\n",
    "TEMPLATE=f'{TITLE_PREFIX}{CONFIG.TEMPLATE}'\n",
    "xsd_filename=f'{CONFIG.XSD}{CONFIG.ROOT_SCHEMA}Click restart the kernel and clear all output\n",
    "'\n",
    "SCHEMA=xmlschema.XMLSchema(xsd_filename,build=False)\n",
    "SCHEMA.build()\n",
    "SCHEMA.validity"
   ]
  },
  {
   "cell_type": "markdown",
   "metadata": {},
   "source": [
    "# Get templates from CDCS.\n",
    "\n",
    "<code>Template</code> is a name of a group of versions of XML schema in CDCS. By default, Template is set to a namespace of a corresponding XML schema. If there are dependencies among the schemas loaded in <code>XSD</code> defined in <code>__CONFIG</code> it is sufficient to pass the top level schema (<code>ROOT_SCHEMA</code> of <code>__CONFIG</code>) in arguments of <code>loadSchema</code> function below."
   ]
  },
  {
   "cell_type": "code",
   "execution_count": null,
   "metadata": {},
   "outputs": [],
   "source": [
    "try:\n",
    "    ambench2022=AMBench2022(TEMPLATE,CONFIG.AMBENCH_URL,auth=AUTH)\n",
    "    if ambench2022.template is None:\n",
    "        print(\"Template\",TEMPLATE,\"does not yet exists, trying to create it now\")\n",
    "        ambench2022.loadSchema(XSD,TITLE_PREFIX,CONFIG.ROOT_SCHEMA)\n",
    "#     tversionsms=ambench2022.get_template_managers(title=TEMPLATE)\n",
    "    tversionsms=ambench2022.get_template_managers()  ###THIS LINE TEST\n",
    "    print(tversionsms)\n",
    "    if len(tversionsms)>0:\n",
    "        CURRENT=tversionsms['current'][0]\n",
    "    else:\n",
    "        CURRENT = None\n",
    "#     TEMPLATE_VERSIONS=ambench2022.get_templates(title=TEMPLATE,current=False) \n",
    "    TEMPLATE_VERSIONS=ambench2022.get_templates(title=None,current=False) # this line test\n",
    "\n",
    "    print(TEMPLATE_VERSIONS)\n",
    "\n",
    "except Exception as e:\n",
    "    print(e)\n",
    "    raise(e)"
   ]
  },
  {
   "cell_type": "code",
   "execution_count": null,
   "metadata": {},
   "outputs": [],
   "source": [
    "CURRENT"
   ]
  },
  {
   "cell_type": "markdown",
   "metadata": {},
   "source": [
    "# 1. Check all loaded XML docs\n",
    "For the current version of the template!"
   ]
  },
  {
   "cell_type": "code",
   "execution_count": null,
   "metadata": {},
   "outputs": [],
   "source": [
    "AMDocs=ambench2022.get_records(template=ambench2022.template)\n",
    "print(len(AMDocs))\n",
    "AMDocs.head(3)"
   ]
  },
  {
   "cell_type": "markdown",
   "metadata": {},
   "source": [
    "for all versions"
   ]
  },
  {
   "cell_type": "raw",
   "metadata": {},
   "source": [
    "Click restart the kernel and clear all output\n",
    "all_docs={}\n",
    "i=0\n",
    "TEMPLATE_VERSIONS=ambench2022.get_templates(title=TEMPLATE,current=False)\n",
    "for t in TEMPLATE_VERSIONS.itertuples():\n",
    "    i+=1Click restart the kernel and clear all output click restart the kernel and clear all output\n",
    "    turl=AMBENCH_URL+\"/rest/data\"\n",
    "    params={\"template\":t.id}\n",
    "    resp=requests.get(turl,params=params,verify=False,auth=AUTH)\n",
    "    j=resp.json()\n",
    "    is_current = t.id==CURRENT\n",
    "    if resp.status_code==200 and len(j) > 0:\n",
    "        all_docs[t.id] = pandas.DataFrame(j)\n",
    "    print(i,t.id,'CURRENT' if is_current else 'OLD',len(j))"
   ]
  },
  {
   "cell_type": "markdown",
   "metadata": {},
   "source": [
    "# 2. check validity of retrieved XML docs wrt new schema"
   ]
  },
  {
   "cell_type": "code",
   "execution_count": null,
   "metadata": {},
   "outputs": [],
   "source": [
    "clearTemps()"
   ]
  },
  {
   "cell_type": "code",
   "execution_count": null,
   "metadata": {
    "tags": []
   },
   "outputs": [],
   "source": [
    "valid_ids=[]\n",
    "valids=[]\n",
    "invalid_ids=[]\n",
    "invalids={}\n",
    "\n",
    "for t in AMDocs.itertuples():\n",
    "    is_valid=SCHEMA.is_valid(t.xml_content)\n",
    "#     if not(is_valid):\n",
    "#         print(t.title,is_valid)\n",
    "    fname=t.title\n",
    "    if not(fname.endswith(\".xml\")):\n",
    "        fname=fname+\".xml\"\n",
    "    if is_valid:\n",
    "        valid_ids.append(t.id)\n",
    "        valids.append(t)\n",
    "        with open(f\"{VALID_XML}/{fname}\",\"w\") as f:\n",
    "            f.write(t.xml_content)\n",
    "    else:\n",
    "        invalid_ids.append(t.id)\n",
    "        with open(f\"{INVALID_XML}/{fname}\",\"w\") as f:\n",
    "            f.write(t.xml_content)\n",
    "        try:\n",
    "            SCHEMA.validate(t.xml_content)\n",
    "        except Exception as e:\n",
    "            invalids[t.title]=e\n",
    "#             print(e,\"\\n=====\\n\")\n",
    "print(len(valid_ids),\"VALID\")\n",
    "print(len(invalid_ids),\"INVALID\")"
   ]
  },
  {
   "cell_type": "markdown",
   "metadata": {},
   "source": [
    "# 3. Deal with invalid XML docs\n",
    "For now keep them in CDCS, they will be linked to the old version of the schema, hence less visible.\n",
    "Eventually we can keep them and rerun the XML creation from the  \"raw\" metadata (excel file), jsut making sure the pid is set to the correct value."
   ]
  },
  {
   "cell_type": "code",
   "execution_count": null,
   "metadata": {},
   "outputs": [],
   "source": [
    "if len(invalid_ids)>0:\n",
    "    print(\"WARNING\")\n",
    "print(len(invalid_ids),\"INVALID FILES WERE FOUND\")"
   ]
  },
  {
   "cell_type": "markdown",
   "metadata": {},
   "source": [
    "# 5. Upload new schema"
   ]
  },
  {
   "cell_type": "code",
   "execution_count": null,
   "metadata": {},
   "outputs": [],
   "source": [
    "ambench2022.loadSchema(CONFIG.XSD,TITLE_PREFIX,CONFIG.ROOT_SCHEMA)\n",
    "# XSD,TITLE_PREFIX,ROOT_SCHEMA"
   ]
  },
  {
   "cell_type": "markdown",
   "metadata": {},
   "source": [
    "## determine new CURRENT"
   ]
  },
  {
   "cell_type": "code",
   "execution_count": null,
   "metadata": {},
   "outputs": [],
   "source": [
    "OLD_CURRENT=CURRENT\n",
    "try:\n",
    "    ambench2022=AMBench2022(CONFIG.TEMPLATE,CONFIG.AMBENCH_URL,auth=AUTH)\n",
    "    if ambench2022.template is None:\n",
    "        print(\"Template\",TEMPLATE,\"does not yet exists, trying to create it now\")\n",
    "        ambench2022.loadSchema(CONFIG.XSD,TITLE_PREFIX,CONFIG.ROOT_SCHEMA)\n",
    "    tversionsms=ambench2022.get_template_managers(title=CONFIG.TEMPLATE)\n",
    "    if len(tversionsms)>0:\n",
    "        CURRENT=tversionsms['current'][0]\n",
    "    else:\n",
    "        CURRENT = None\n",
    "    TEMPLATE_VERSIONS=ambench2022.get_templates(title=CONFIG.TEMPLATE,current=False)\n",
    "    print(\"new current:\",CURRENT,\"old current:\",OLD_CURRENT)\n",
    "except Exception as e:\n",
    "    print(e)\n",
    "    raise(e)"
   ]
  },
  {
   "cell_type": "markdown",
   "metadata": {},
   "source": [
    "# 6. generate pyxb classes from new schema\n",
    "requires\n",
    "<pre>\n",
    "%pip install pyxb\n",
    "</pre>\n",
    "Do this in terminal"
   ]
  },
  {
   "cell_type": "markdown",
   "metadata": {},
   "source": [
    "# 7. Deal with valid XML docs: migrate them to new template"
   ]
  },
  {
   "cell_type": "code",
   "execution_count": null,
   "metadata": {
    "scrolled": true,
    "tags": []
   },
   "outputs": [],
   "source": [
    "# find id new template\n",
    "template_id=CURRENT\n",
    "# for k,t in todo.items():\n",
    "#     if t['title'] == TEMPLATE:\n",
    "#         template_id=t['id']\n",
    "#         break\n",
    "if template_id is not None:\n",
    "    r=ambench2022.migrate(template_id,valid_ids)\n",
    "    if r.status_code <200 or r.status_code >=400:\n",
    "        print(\"PROBLEM:\",r.content)\n",
    "    else:\n",
    "        print(\"Migration succeeded\")\n",
    "else:\n",
    "    print(\"ERROR, no CURRENT template_id detected\")"
   ]
  },
  {
   "cell_type": "code",
   "execution_count": null,
   "metadata": {},
   "outputs": [],
   "source": []
  }
 ],
 "metadata": {
  "kernelspec": {
   "display_name": "Python 3.8 (py38)",
   "language": "python",
   "name": "py38"
  },
  "language_info": {
   "codemirror_mode": {
    "name": "ipython",
    "version": 3
   },
   "file_extension": ".py",
   "mimetype": "text/x-python",
   "name": "python",
   "nbconvert_exporter": "python",
   "pygments_lexer": "ipython3",
   "version": "3.8.5"
  },
  "toc-autonumbering": false,
  "toc-showtags": true
 },
 "nbformat": 4,
 "nbformat_minor": 4
}
