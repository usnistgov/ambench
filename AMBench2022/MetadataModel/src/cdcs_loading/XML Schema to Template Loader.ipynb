{
 "cells": [
  {
   "cell_type": "markdown",
   "metadata": {},
   "source": [
    "# Find XSD files to upload, then \"load them up\"\n",
    "Read XML schemas for AMBench 2022 and upload those to a CDCS instance (short: CDCS), properly taking care of dependencies.\n",
    "This version uses Guillume's code to do the latter. Uses Kevin's code to support uploading new versions of the schemas.\n",
    "* all *.xsd files inside the 'XSD' folder\n",
    "* read xml content\n",
    "* infer included schemas, load those first \n",
    "* define template name ('title')\n",
    "* check whether the template already exists in CDCS. IF SO:\n",
    "  * Check whether the templates to be removed actually have existing XML documents loaded.<br/>\n",
    "  * These will have to be migrated to the new version of the template after those have been loaded.<br/>\n",
    "  * BUT we must preserve&lt;pid&gt;s hence the XML documents must first be downloaded, then deleted on CDCS, then uploaded again.<br/>\n",
    "  * AND we must ensure they are still valiud wrt to the new schemas!"
   ]
  },
  {
   "cell_type": "raw",
   "metadata": {},
   "source": [
    "%pip install xmlschema\n",
    "\n",
    "#%pip install pycdcs \n",
    "#seems to fail, use next\n",
    "\n",
    "%pip install git+https://github.com/lmhale99/pycdcs"
   ]
  },
  {
   "cell_type": "code",
   "execution_count": null,
   "metadata": {},
   "outputs": [],
   "source": [
    "# import lxml\n",
    "import lxml.etree as ET\n",
    "import pandas\n",
    "import os\n",
    "from pathlib import Path\n",
    "import xmlschema\n",
    "import getpass\n",
    "from cdcs import CDCS\n",
    "import requests\n",
    "import json\n",
    "# import xml.dom.minidom\n",
    "import glob\n",
    "import uuid\n",
    "import sys\n",
    "import importlib\n",
    "import SciServer.Authentication as sauth"
   ]
  },
  {
   "cell_type": "code",
   "execution_count": null,
   "metadata": {},
   "outputs": [],
   "source": [
    "import myconfig"
   ]
  },
  {
   "cell_type": "code",
   "execution_count": null,
   "metadata": {},
   "outputs": [],
   "source": [
    "importlib.reload(myconfig)\n",
    "from myconfig import *"
   ]
  },
  {
   "cell_type": "code",
   "execution_count": null,
   "metadata": {},
   "outputs": [],
   "source": [
    "sys.path.insert(0, CONFIG.pyUTILS_path)\n",
    "import ambench.cdcs_utils\n",
    "from ambench.mapping import new_mapper"
   ]
  },
  {
   "cell_type": "code",
   "execution_count": null,
   "metadata": {},
   "outputs": [],
   "source": [
    "importlib.reload(ambench.cdcs_utils)\n",
    "from ambench.cdcs_utils import *"
   ]
  },
  {
   "cell_type": "code",
   "execution_count": null,
   "metadata": {},
   "outputs": [],
   "source": [
    "AMBENCH=CONFIG.AMBENCH_URL.split(\"/\")[2].split(\".\")[0]\n",
    "EXCEL_FILE = CONFIG.SAMPLES_EXCEL_FILE\n",
    "try : \n",
    "    USER=CONFIG.USER\n",
    "except: USER = input('username: ')\n",
    "try: PASS=CONFIG.PASS\n",
    "except : PASS = getpass.getpass('enter password ')\n",
    "AUTH=(USER, PASS)\n"
   ]
  },
  {
   "cell_type": "code",
   "execution_count": null,
   "metadata": {},
   "outputs": [],
   "source": [
    "ROOT=os.getcwd()\n",
    "path = Path(ROOT)\n",
    "TEMPLATE_SCHEMA=\"AMDocs.xsd\""
   ]
  },
  {
   "cell_type": "markdown",
   "metadata": {},
   "source": [
    "# -2: define functions"
   ]
  },
  {
   "cell_type": "code",
   "execution_count": null,
   "metadata": {},
   "outputs": [],
   "source": [
    "def clearTemps():\n",
    "    filelist = glob.glob(os.path.join(VALID_XML, \"*.xml\"))\n",
    "    for f in filelist:\n",
    "        os.remove(f)\n",
    "    print(\"removed\",len(filelist),\"files from\",VALID_XML)\n",
    "    filelist = glob.glob(os.path.join(INVALID_XML, \"*.xml\"))\n",
    "    for f in filelist:\n",
    "        os.remove(f)\n",
    "    print(\"removed\",len(filelist),\"files from\",INVALID_XML)"
   ]
  },
  {
   "cell_type": "markdown",
   "metadata": {},
   "source": [
    "# -1: get credentials"
   ]
  },
  {
   "cell_type": "code",
   "execution_count": null,
   "metadata": {},
   "outputs": [],
   "source": [
    "SCISERVER_USER=sauth.getKeystoneUserWithToken(sauth.getToken()).userName"
   ]
  },
  {
   "cell_type": "raw",
   "metadata": {},
   "source": [
    "username= input('username: ')\n",
    "password = getpass.getpass('enter password ')\n",
    "AUTH=(username,password)"
   ]
  },
  {
   "cell_type": "markdown",
   "metadata": {},
   "source": [
    "# 0. define parameters\n",
    "input\n",
    "* url to ambench CDCS instance\n",
    "* folder with XSD files to be uploaded/updated\n",
    "* file name of the XSD file defining the root element (AMDocs.xsd)\n",
    "* name of the CDCS template\n",
    "\n",
    "objects\n",
    "* pycdcs CDCS instance\n",
    "* list of ids of all versions of the template\n",
    "* id of the current version\n",
    "* xmlschema instance for the schema"
   ]
  },
  {
   "cell_type": "code",
   "execution_count": null,
   "metadata": {},
   "outputs": [],
   "source": [
    "XML_WORKSPACE=f\"/home/idies/workspace/Temporary/{SCISERVER_USER}/scratch/AMBENCH/XML_TEMP\"\n",
    "VALID_XML=f\"{XML_WORKSPACE}/VALID\"\n",
    "INVALID_XML=f\"{XML_WORKSPACE}/INVALID\"\n",
    "os.makedirs(VALID_XML,exist_ok=True)\n",
    "os.makedirs(INVALID_XML,exist_ok=True)\n",
    "print(VALID_XML,INVALID_XML)"
   ]
  },
  {
   "cell_type": "code",
   "execution_count": null,
   "metadata": {},
   "outputs": [],
   "source": [
    "TITLE_PREFIX=''\n",
    "TEMPLATE=f'{TITLE_PREFIX}{CONFIG.TEMPLATE}'\n",
    "xsd_filename=f'{CONFIG.XSD}/AMDocs.xsd'\n",
    "SCHEMA=xmlschema.XMLSchema(xsd_filename,build=False,)\n",
    "SCHEMA.build()\n",
    "SCHEMA.validity"
   ]
  },
  {
   "cell_type": "code",
   "execution_count": null,
   "metadata": {},
   "outputs": [],
   "source": [
    "try:\n",
    "    ambench2022=AMBench2022(TEMPLATE,CONFIG.AMBENCH_URL,auth=AUTH)\n",
    "    if ambench2022.template is None:\n",
    "        print(\"Template\",TEMPLATE,\"does not yet exists, trying to create it now\")\n",
    "        ambench2022.loadSchema(XSD,TITLE_PREFIX,TEMPLATE_SCHEMA)\n",
    "    tversionsms=ambench2022.get_template_managers(title=TEMPLATE)\n",
    "    if len(tversionsms)>0:\n",
    "        CURRENT=tversionsms['current'][0]\n",
    "    else:\n",
    "        CURRENT = None\n",
    "    TEMPLATE_VERSIONS=ambench2022.get_templates(title=TEMPLATE,current=False)\n",
    "except Exception as e:\n",
    "    print(e)\n",
    "    raise(e)"
   ]
  },
  {
   "cell_type": "code",
   "execution_count": null,
   "metadata": {},
   "outputs": [],
   "source": [
    "CURRENT"
   ]
  },
  {
   "cell_type": "markdown",
   "metadata": {},
   "source": [
    "# 1. Check all loaded XML docs\n",
    "For the current version of the template!"
   ]
  },
  {
   "cell_type": "code",
   "execution_count": null,
   "metadata": {},
   "outputs": [],
   "source": [
    "AMDocs=ambench2022.get_records(template=ambench2022.template)\n",
    "print(len(AMDocs))\n",
    "AMDocs.head(3)"
   ]
  },
  {
   "cell_type": "markdown",
   "metadata": {},
   "source": [
    "for all versions"
   ]
  },
  {
   "cell_type": "raw",
   "metadata": {},
   "source": [
    "all_docs={}\n",
    "i=0\n",
    "TEMPLATE_VERSIONS=ambench2022.get_templates(title=TEMPLATE,current=False)\n",
    "for t in TEMPLATE_VERSIONS.itertuples():\n",
    "    i+=1\n",
    "    turl=AMBENCH_URL+\"/rest/data\"\n",
    "    params={\"template\":t.id}\n",
    "    resp=requests.get(turl,params=params,verify=False,auth=AUTH)\n",
    "    j=resp.json()\n",
    "    is_current = t.id==CURRENT\n",
    "    if resp.status_code==200 and len(j) > 0:\n",
    "        all_docs[t.id] = pandas.DataFrame(j)\n",
    "    print(i,t.id,'CURRENT' if is_current else 'OLD',len(j))"
   ]
  },
  {
   "cell_type": "markdown",
   "metadata": {},
   "source": [
    "# 2. check validity of retrieved XML docs wrt new schema"
   ]
  },
  {
   "cell_type": "code",
   "execution_count": null,
   "metadata": {},
   "outputs": [],
   "source": [
    "clearTemps()"
   ]
  },
  {
   "cell_type": "code",
   "execution_count": null,
   "metadata": {
    "tags": []
   },
   "outputs": [],
   "source": [
    "valid_ids=[]\n",
    "valids=[]\n",
    "invalid_ids=[]\n",
    "invalids={}\n",
    "\n",
    "for t in AMDocs.itertuples():\n",
    "    is_valid=SCHEMA.is_valid(t.xml_content)\n",
    "#     if not(is_valid):\n",
    "#         print(t.title,is_valid)\n",
    "    fname=t.title\n",
    "    if not(fname.endswith(\".xml\")):\n",
    "        fname=fname+\".xml\"\n",
    "    if is_valid:\n",
    "        valid_ids.append(t.id)\n",
    "        valids.append(t)\n",
    "        with open(f\"{VALID_XML}/{fname}\",\"w\") as f:\n",
    "            f.write(t.xml_content)\n",
    "    else:\n",
    "        invalid_ids.append(t.id)\n",
    "        with open(f\"{INVALID_XML}/{fname}\",\"w\") as f:\n",
    "            f.write(t.xml_content)\n",
    "        try:\n",
    "            SCHEMA.validate(t.xml_content)\n",
    "        except Exception as e:\n",
    "            invalids[t.title]=e\n",
    "#             print(e,\"\\n=====\\n\")\n",
    "print(len(valid_ids),\"VALID\")\n",
    "print(len(invalid_ids),\"INVALID\")"
   ]
  },
  {
   "cell_type": "markdown",
   "metadata": {},
   "source": [
    "# 3. Deal with invalid XML docs\n",
    "For now keep them in CDCS, they will be linked to the old version of the schema, hence less visible.\n",
    "Eventually we can keep them and rerun the XML creation from the  \"raw\" metadata (excel file), jsut making sure the pid is set to the correct value."
   ]
  },
  {
   "cell_type": "code",
   "execution_count": null,
   "metadata": {},
   "outputs": [],
   "source": [
    "if len(invalid_ids)>0:\n",
    "    print(\"WARNING\")\n",
    "print(len(invalid_ids),\"INVALID FILES WERE FOUND\")"
   ]
  },
  {
   "cell_type": "markdown",
   "metadata": {},
   "source": [
    "# 5. Upload new schema"
   ]
  },
  {
   "cell_type": "code",
   "execution_count": null,
   "metadata": {},
   "outputs": [],
   "source": [
    "ambench2022.loadSchema(CONFIG.XSD,TITLE_PREFIX,TEMPLATE_SCHEMA)\n",
    "# XSD,TITLE_PREFIX,TEMPLATE_SCHEMA"
   ]
  },
  {
   "cell_type": "markdown",
   "metadata": {},
   "source": [
    "## determine new CURRENT"
   ]
  },
  {
   "cell_type": "code",
   "execution_count": null,
   "metadata": {},
   "outputs": [],
   "source": [
    "OLD_CURRENT=CURRENT\n",
    "try:\n",
    "    ambench2022=AMBench2022(CONFIG.TEMPLATE,CONFIG.AMBENCH_URL,auth=AUTH)\n",
    "    if ambench2022.template is None:\n",
    "        print(\"Template\",TEMPLATE,\"does not yet exists, trying to create it now\")\n",
    "        ambench2022.loadSchema(CONFIG.XSD,TITLE_PREFIX,TEMPLATE_SCHEMA)\n",
    "    tversionsms=ambench2022.get_template_managers(title=CONFIG.TEMPLATE)\n",
    "    if len(tversionsms)>0:\n",
    "        CURRENT=tversionsms['current'][0]\n",
    "    else:\n",
    "        CURRENT = None\n",
    "    TEMPLATE_VERSIONS=ambench2022.get_templates(title=CONFIG.TEMPLATE,current=False)\n",
    "    print(\"new current:\",CURRENT,\"old current:\",OLD_CURRENT)\n",
    "except Exception as e:\n",
    "    print(e)\n",
    "    raise(e)"
   ]
  },
  {
   "cell_type": "markdown",
   "metadata": {},
   "source": [
    "# 6. generate pyxb classes from new schema\n",
    "requires\n",
    "<pre>\n",
    "%pip install pyxb\n",
    "</pre>\n",
    "Do this in terminal"
   ]
  },
  {
   "cell_type": "markdown",
   "metadata": {},
   "source": [
    "# 7. Deal with valid XML docs: migrate them to new template"
   ]
  },
  {
   "cell_type": "code",
   "execution_count": null,
   "metadata": {
    "scrolled": true,
    "tags": []
   },
   "outputs": [],
   "source": [
    "# find id new template\n",
    "template_id=CURRENT\n",
    "# for k,t in todo.items():\n",
    "#     if t['title'] == TEMPLATE:\n",
    "#         template_id=t['id']\n",
    "#         break\n",
    "if template_id is not None:\n",
    "    r=ambench2022.migrate(template_id,valid_ids)\n",
    "    if r.status_code <200 or r.status_code >=400:\n",
    "        print(\"PROBLEM:\",r.content)\n",
    "    else:\n",
    "        print(\"Migration succeeded\")\n",
    "else:\n",
    "    print(\"ERROR, no CURRENT template_id detected\")"
   ]
  },
  {
   "cell_type": "code",
   "execution_count": null,
   "metadata": {},
   "outputs": [],
   "source": []
  }
 ],
 "metadata": {
  "kernelspec": {
   "display_name": "Python 3.8 (py38)",
   "language": "python",
   "name": "py38"
  },
  "language_info": {
   "codemirror_mode": {
    "name": "ipython",
    "version": 3
   },
   "file_extension": ".py",
   "mimetype": "text/x-python",
   "name": "python",
   "nbconvert_exporter": "python",
   "pygments_lexer": "ipython3",
   "version": "3.8.5"
  },
  "toc-autonumbering": false,
  "toc-showtags": true
 },
 "nbformat": 4,
 "nbformat_minor": 4
}
