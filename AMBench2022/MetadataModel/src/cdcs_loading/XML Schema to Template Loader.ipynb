{
 "cells": [
  {
   "cell_type": "markdown",
   "metadata": {},
   "source": [
    "# Upload XML schemas to CDCS\n",
    "\n",
    "This notebook is for managing the AM Bench schema and XML documents.\n",
    "\n",
    "The AM Bench XML schema is an implementation of a data model that describes the Additive Manufacturing Benchmark 2022 series data. The data model provides a robust set of metadata for the build processes and their resulting specimens and\n",
    "for measurements made on these in the context of the AM Bench 2022 project. The metadata are entered in excel spreadsheets by the project scientists. The metadata in excel files are translated to XML documents compliant with the schema using Python scripts defined in <code>ambench.mapping</code> and <code>Excel to XML.ipynb</code>. Both the schema and the resulting XML documents are uploaded into <b>private</b> AM Bench CDCS datebase instance (henceforth called CDCS) using REST API provided by <code>pycdcs</code> (https://github.com/usnistgov/pycdcs).\n",
    "\n",
    "If you wish to access the private CDCS site, please contact Lyle E. Levine (lyle.levine@nist.gov).\n",
    "\n",
    "This notebook includes the followings:\n",
    "* Uploading  schemas and associated XML documents in <b>private</b> CDCS.\n",
    "* Replacing existing schemas and associated XML documents in CDCS by new versions of the schemas and the XML documents. \n",
    "\n",
    "_Please note that this notebook does not provide scripts to migrate XML documents if its schema changes from one version to a later version._ \n"
   ]
  },
  {
   "cell_type": "code",
   "execution_count": null,
   "metadata": {},
   "outputs": [],
   "source": [
    "import lxml.etree as ET\n",
    "import pandas\n",
    "import os\n",
    "from pathlib import Path\n",
    "import xmlschema\n",
    "import getpass\n",
    "from cdcs import CDCS\n",
    "import requests\n",
    "import json\n",
    "import glob\n",
    "import uuid\n",
    "import sys\n",
    "import importlib"
   ]
  },
  {
   "cell_type": "code",
   "execution_count": 1,
   "metadata": {},
   "outputs": [],
   "source": [
    "# If you run this notebook in SciServer, please run this cell after uncommenting the import statement below.\n",
    "\n",
    "# import SciServer.Authentication as sauth"
   ]
  },
  {
   "cell_type": "markdown",
   "metadata": {},
   "source": [
    "# Steps of uploading or replacing XML schemas and XML documents in CDCS \n",
    "\n",
    "In order to upload an XML schema in CDCS you need to create a <code>Template</code> first. <code>Template</code> is a name assigned to a XML schema including all its versions in CDCS. By default, Template is set to a namespace of a corresponding XML schema. If there are dependencies between a set of schemas, it is sufficient to create only a single template to represent the set of the schemas.   Therefore, for <code>CONFIG.TEMPLATE</code>, only one value is required.\n",
    "\n",
    "\n",
    "you set the top level schema (<code>CONFIG.ROOT_SCHEMA</code>) which contains the root element in arguments of <code>loadSchema</code> function below.\n",
    "\n",
    "\n",
    "* Create a configuration file in JSON format. The example is given in <code>default_config.json</code>\n",
    "* Put all files containing schemas in a folder called <code>XSD</code> in your configuration file. \n",
    "1. Instantiate <code>__CONFIG class</code> (Step 1).\n",
    "2. Connect to CDCS (Step 2).\n",
    "3. Make workspace folders to put valid and invalid XML files (Step 3).\n",
    "4. Build XML validator from schema (Step 4).\n",
    "5. Define utility function (Step 5).\n",
    "6. Get template from CDCS (Step 6).\n",
    "   Check whether a template with its value <code>TEMPLATE</code> given in configuration already exists in CDCS or not.\n",
    " \n",
    "    1. If it does not, do the followings:\n",
    "        1. Create a template whose value is <code>TEMPLATE</code> in CDCS and upload all schemas into CDCS and link to the template  (Step 6).\n",
    "        2. Upload XML files to the template in CDCS (Step 10)\n",
    "   \n",
    "   2. Otherwise, the XML documents in CDCS need to be migrated to the new version of the schema while their &lt;pid&gt;s remain unchanged. \n",
    "       1. Get the versions of template (Step 6).\n",
    "       2.  Download all XML documents in the template from CDCS (Step 7). \n",
    "       3. Make them valid against new version of schemas.\n",
    "       4. Upload both the new version of schemas (Step 9). \n",
    "       5. Upload all valid XML documents into the CDCS template (Step 10).\n",
    "\n"
   ]
  },
  {
   "cell_type": "markdown",
   "metadata": {},
   "source": [
    "## Step 1. Instantiate __CONFIG class \n",
    "- In order to run this notebook create your own configuration file in JSON format. Please see the example given in <code>default_config.json</code>.\n",
    "- Enter your JSON file in argument of the constructor of <code>__CONFIG class</code> defined in <code>config.py</code>. If no argument is passed in the constructor, <code>default_config.json</code> is used."
   ]
  },
  {
   "cell_type": "code",
   "execution_count": null,
   "metadata": {},
   "outputs": [],
   "source": [
    "# Import config and instantiate __CONFIG class.\n",
    "import sys\n",
    "\n",
    "import config\n",
    "from config import __CONFIG\n",
    "\n",
    "CONFIG = __CONFIG(conf_json = \"./your_config.json\")\n"
   ]
  },
  {
   "cell_type": "code",
   "execution_count": null,
   "metadata": {},
   "outputs": [],
   "source": [
    "# If USER or PASS are null in your configuration, you are asked enter them in the prompts interactively.\n",
    "# For anonymous user enter nothing in the prompts you get when you run this cell.\n",
    "\n",
    "if CONFIG.USER is None:\n",
    "    CONFIG.USER = input('username: ')\n",
    "if CONFIG.PASS is None:\n",
    "    CONFIG.PASS = getpass.getpass('enter password ')\n",
    "\n",
    "AUTH=(CONFIG.USER, CONFIG.PASS)    \n"
   ]
  },
  {
   "cell_type": "code",
   "execution_count": null,
   "metadata": {},
   "outputs": [],
   "source": [
    "# Include the directory path for the required Python modules. \n",
    "\n",
    "sys.path.insert(0, CONFIG.pyUTILS_path)\n",
    "import ambench.cdcs_utils\n",
    "from ambench.cdcs_utils import AMBench2022, xmlschema\n",
    "from ambench.mapping import new_mapper\n"
   ]
  },
  {
   "cell_type": "markdown",
   "metadata": {},
   "source": [
    "## 2. Create AMBench2022 instance\n",
    "* AMBench2022 is a wrapper class of which base class is <code>CDCS</code> of <code>pycdcs</code>. "
   ]
  },
  {
   "cell_type": "code",
   "execution_count": null,
   "metadata": {
    "scrolled": false
   },
   "outputs": [],
   "source": [
    "ambench2022=AMBench2022(CONFIG.TEMPLATE,CONFIG.AMBENCH_URL,auth=AUTH)"
   ]
  },
  {
   "cell_type": "markdown",
   "metadata": {},
   "source": [
    "## 3. Make workspace folders to put valid and invalid XML files\n",
    "\n",
    "Create temporary workspace folders <code>VALID_XML</code> and <code>INVALID_XML</code>. Download all existing XML files in CDCS template. Check the validity of these files against a new version of the schemas. Put compliant XML files in <code>VALID_XML</code> folder and noncompliant ones in <code>INVALID_XML</code> folder. <code>XML_WORKSPACE</code> is a path to the folder where these folders be created.\n"
   ]
  },
  {
   "cell_type": "code",
   "execution_count": 3,
   "metadata": {},
   "outputs": [],
   "source": [
    "# If you run this notebook in SciServer Compute container, create XML_WORKSPACE \n",
    "# in your SciServer scratch user volume of which folder path is given below.\n",
    "# Before running this cell, replace {SCISERVER_USER} by your SciServer username and uncomment both lines.\n",
    "#\n",
    "# SCISERVER_USER=sauth.getKeystoneUserWithToken(token).userName\n",
    "# XML_WORKSPACE=f\"/home/idies/workspace/Temporary/{SCISERVER_USER}/scratch/AMBENCH/XML_TEMP\""
   ]
  },
  {
   "cell_type": "code",
   "execution_count": null,
   "metadata": {
    "scrolled": true
   },
   "outputs": [],
   "source": [
    "# Otherwise, enter path to your folder below and uncomment the line\n",
    "\n",
    "# XML_WORKSPACE=\"\" "
   ]
  },
  {
   "cell_type": "code",
   "execution_count": null,
   "metadata": {},
   "outputs": [],
   "source": [
    "VALID_XML=f\"{XML_WORKSPACE}/VALID\"\n",
    "INVALID_XML=f\"{XML_WORKSPACE}/INVALID\"\n",
    "os.makedirs(VALID_XML,exist_ok=True)\n",
    "os.makedirs(INVALID_XML,exist_ok=True)\n"
   ]
  },
  {
   "cell_type": "markdown",
   "metadata": {},
   "source": [
    "## 4. Build XML validator from schema\n",
    "Build XML schema object using from schema files using <code>xmlschema</code> library. This object provides a schema validator which is used for validating XML documents."
   ]
  },
  {
   "cell_type": "code",
   "execution_count": null,
   "metadata": {},
   "outputs": [],
   "source": [
    "# Build XML schema objects from XSD files using xmlschema library\n",
    "\n",
    "TITLE_PREFIX=''\n",
    "TEMPLATE=f'{TITLE_PREFIX}{CONFIG.TEMPLATE}'\n",
    "xsd_filename=f'{CONFIG.XSD}{CONFIG.ROOT_SCHEMA}'\n",
    "SCHEMA=xmlschema.XMLSchema(xsd_filename,build=False)\n",
    "SCHEMA.build()\n",
    "SCHEMA.validity"
   ]
  },
  {
   "cell_type": "markdown",
   "metadata": {},
   "source": [
    "## 5. Define utility function \n",
    "Define a function deleting all XML files in <code>VALID_XML</code> and <code>INVALID_XML</code>."
   ]
  },
  {
   "cell_type": "code",
   "execution_count": null,
   "metadata": {},
   "outputs": [],
   "source": [
    "def clearTemps():\n",
    "    '''\n",
    "    Remove all XML files in VALID_XML and INVALID_XML folders.\n",
    "    '''\n",
    "    ROOT=os.getcwd()\n",
    "    path = Path(ROOT)\n",
    "\n",
    "    filelist = glob.glob(os.path.join(VALID_XML, \"*.xml\"))\n",
    "    for f in filelist:\n",
    "        os.remove(f)\n",
    "    print(\"removed\",len(filelist),\"files from\",VALID_XML)\n",
    "    filelist = glob.glob(os.path.join(INVALID_XML, \"*.xml\"))\n",
    "    for f in filelist:\n",
    "        os.remove(f)\n",
    "    print(\"removed\",len(filelist),\"files from\",INVALID_XML)"
   ]
  },
  {
   "cell_type": "markdown",
   "metadata": {},
   "source": [
    "# 6. Get template from CDCS.\n",
    "\n",
    "<code>loadSchema</code> creates template if it doesn't exist in CDCS and upload schemas to the template in CDCS."
   ]
  },
  {
   "cell_type": "code",
   "execution_count": null,
   "metadata": {},
   "outputs": [],
   "source": [
    "try:\n",
    "    ambench2022=AMBench2022(TEMPLATE,CONFIG.AMBENCH_URL,auth=AUTH)\n",
    "    if ambench2022.template is None:\n",
    "        print(\"Template\",TEMPLATE,\"does not yet exists, trying to create it now\")\n",
    "        ambench2022.loadSchema(XSD,TITLE_PREFIX,CONFIG.ROOT_SCHEMA)\n",
    "    tversionsms=ambench2022.get_template_managers(title=TEMPLATE)\n",
    "    if len(tversionsms)>0:\n",
    "        CURRENT=tversionsms['current'][0]\n",
    "    else:\n",
    "        CURRENT = None\n",
    "    TEMPLATE_VERSIONS=ambench2022.get_templates(title=TEMPLATE,current=False) \n",
    "except Exception as e:\n",
    "    print(e)\n",
    "    raise(e)"
   ]
  },
  {
   "cell_type": "code",
   "execution_count": null,
   "metadata": {},
   "outputs": [],
   "source": [
    "CURRENT"
   ]
  },
  {
   "cell_type": "markdown",
   "metadata": {},
   "source": [
    "## 7. Get all existing  XML documents and validate them against new schemas.\n",
    "Download all XML documents in template from CDCS and validate them against new schemas.\n",
    "The valid documents are put in <code>VALID_XML</code> folder and the invalid ones in <code>INVALID_XML</code>."
   ]
  },
  {
   "cell_type": "code",
   "execution_count": null,
   "metadata": {
    "scrolled": true
   },
   "outputs": [],
   "source": [
    "AMDocs=ambench2022.get_records(template=ambench2022.template)\n",
    "print(len(AMDocs))\n",
    "AMDocs.head(3)"
   ]
  },
  {
   "cell_type": "code",
   "execution_count": null,
   "metadata": {},
   "outputs": [],
   "source": [
    "clearTemps()"
   ]
  },
  {
   "cell_type": "code",
   "execution_count": null,
   "metadata": {
    "tags": []
   },
   "outputs": [],
   "source": [
    "valid_ids=[]\n",
    "valids=[]\n",
    "invalid_ids=[]\n",
    "invalids={}\n",
    "\n",
    "for t in AMDocs.itertuples():\n",
    "    is_valid=SCHEMA.is_valid(t.xml_content)\n",
    "    fname=t.title\n",
    "    if not(fname.endswith(\".xml\")):\n",
    "        fname=fname+\".xml\"\n",
    "    if is_valid:\n",
    "        valid_ids.append(t.id)\n",
    "        valids.append(t)\n",
    "        with open(f\"{VALID_XML}/{fname}\",\"w\") as f:\n",
    "            f.write(t.xml_content)\n",
    "    else:\n",
    "        invalid_ids.append(t.id)\n",
    "        with open(f\"{INVALID_XML}/{fname}\",\"w\") as f:\n",
    "            f.write(t.xml_content)\n",
    "        try:\n",
    "            SCHEMA.validate(t.xml_content)\n",
    "        except Exception as e:\n",
    "            invalids[t.title]=e\n",
    "\n",
    "print(len(valid_ids),\"VALID\")\n",
    "print(len(invalid_ids),\"INVALID\")"
   ]
  },
  {
   "cell_type": "markdown",
   "metadata": {},
   "source": [
    "## 8. Fix invalid XML documents according to new schema.\n",
    "\n",
    "This step is out of the scope for this notebook. Once you fix the invalid XML documents put them in <code>VALID_XML</code> folder. "
   ]
  },
  {
   "cell_type": "code",
   "execution_count": null,
   "metadata": {},
   "outputs": [],
   "source": [
    "if len(invalid_ids)>0:\n",
    "    print(\"WARNING\")\n",
    "print(len(invalid_ids),\"INVALID FILES WERE FOUND\")"
   ]
  },
  {
   "cell_type": "markdown",
   "metadata": {},
   "source": [
    "## 9. Upload new schema\n",
    "Once all XML documents are valid against new version of the schema, you can upload new schema to CDCS."
   ]
  },
  {
   "cell_type": "code",
   "execution_count": null,
   "metadata": {},
   "outputs": [],
   "source": [
    "ambench2022.loadSchema(CONFIG.XSD,TITLE_PREFIX,CONFIG.ROOT_SCHEMA)\n"
   ]
  },
  {
   "cell_type": "markdown",
   "metadata": {},
   "source": [
    "## 10. Determine new CURRENT\n",
    "\n",
    "Find <code>ID</code> for new template from CDCS and make it <code>CURRENT</code>. "
   ]
  },
  {
   "cell_type": "code",
   "execution_count": null,
   "metadata": {},
   "outputs": [],
   "source": [
    "OLD_CURRENT=CURRENT\n",
    "try:\n",
    "    ambench2022=AMBench2022(CONFIG.TEMPLATE,CONFIG.AMBENCH_URL,auth=AUTH)\n",
    "    if ambench2022.template is None:\n",
    "        print(\"Template\",TEMPLATE,\"does not yet exists, trying to create it now\") ##DO WE NEED THIS? ALREADY DID IT ABOVE.\n",
    "        ambench2022.loadSchema(CONFIG.XSD,TITLE_PREFIX,CONFIG.ROOT_SCHEMA)\n",
    "    tversionsms=ambench2022.get_template_managers(title=CONFIG.TEMPLATE)\n",
    "    if len(tversionsms)>0:\n",
    "        CURRENT=tversionsms['current'][0]\n",
    "    else:\n",
    "        CURRENT = None\n",
    "    TEMPLATE_VERSIONS=ambench2022.get_templates(title=CONFIG.TEMPLATE,current=False)\n",
    "    print(\"new current:\",CURRENT,\"old current:\",OLD_CURRENT)\n",
    "except Exception as e:\n",
    "    print(e)\n",
    "    raise(e)"
   ]
  },
  {
   "cell_type": "markdown",
   "metadata": {},
   "source": [
    "## 10. Migrate valid XML files to new CDCS template"
   ]
  },
  {
   "cell_type": "code",
   "execution_count": null,
   "metadata": {
    "scrolled": true,
    "tags": []
   },
   "outputs": [],
   "source": [
    "template_id=CURRENT\n",
    "if template_id is not None:\n",
    "    r=ambench2022.migrate(template_id,valid_ids)\n",
    "    if r.status_code <200 or r.status_code >=400:\n",
    "        print(\"PROBLEM:\",r.content)\n",
    "    else:\n",
    "        print(\"Migration succeeded\")\n",
    "else:\n",
    "    print(\"ERROR, no CURRENT template_id detected\")"
   ]
  },
  {
   "cell_type": "code",
   "execution_count": null,
   "metadata": {},
   "outputs": [],
   "source": []
  }
 ],
 "metadata": {
  "kernelspec": {
   "display_name": "Python 3",
   "language": "python",
   "name": "python3"
  },
  "language_info": {
   "codemirror_mode": {
    "name": "ipython",
    "version": 3
   },
   "file_extension": ".py",
   "mimetype": "text/x-python",
   "name": "python",
   "nbconvert_exporter": "python",
   "pygments_lexer": "ipython3",
   "version": "3.8.5"
  },
  "toc-autonumbering": false,
  "toc-showtags": true
 },
 "nbformat": 4,
 "nbformat_minor": 4
}
