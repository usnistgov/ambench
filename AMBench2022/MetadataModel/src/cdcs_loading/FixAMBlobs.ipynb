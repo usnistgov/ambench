{
 "cells": [
  {
   "cell_type": "markdown",
   "metadata": {},
   "source": [
    "# Fix existing AMBlob-s and AMBlobReference-s \n",
    "2022-12-04\n",
    "\n",
    "The blobs wrapped by the AMBlobs have no file name/blob_id. Want to set this to the &lt;checksum&gt;.&lt;filetype&gt;.\n"
   ]
  },
  {
   "cell_type": "code",
   "execution_count": null,
   "metadata": {},
   "outputs": [],
   "source": [
    "import sys\n",
    "import os\n",
    "import io\n",
    "import pprint\n",
    "# import lxml\n",
    "import lxml.etree as ET\n",
    "import xml.dom.minidom\n",
    "import importlib\n",
    "import glob\n",
    "import json\n",
    "import string\n",
    "import datetime\n",
    "import pandas\n",
    "import getpass\n",
    "import matplotlib.pyplot as plt\n",
    "import requests\n",
    "from PIL import Image, ImageDraw, ImageFont"
   ]
  },
  {
   "cell_type": "code",
   "execution_count": null,
   "metadata": {},
   "outputs": [],
   "source": [
    "import pyxb\n",
    "pyxb.RequireValidWhenGenerating(False);"
   ]
  },
  {
   "cell_type": "raw",
   "metadata": {},
   "source": [
    "%pip install openpyxl\n",
    "%pip install openpyxl-image-loader"
   ]
  },
  {
   "cell_type": "markdown",
   "metadata": {},
   "source": [
    "# preliminaries"
   ]
  },
  {
   "cell_type": "code",
   "execution_count": null,
   "metadata": {},
   "outputs": [],
   "source": [
    "import myconfig"
   ]
  },
  {
   "cell_type": "code",
   "execution_count": null,
   "metadata": {},
   "outputs": [],
   "source": [
    "importlib.reload(myconfig)\n",
    "from myconfig import *"
   ]
  },
  {
   "cell_type": "code",
   "execution_count": null,
   "metadata": {},
   "outputs": [],
   "source": [
    "try: CONFIG.USER\n",
    "except: CONFIG.USER = input('username: ')\n",
    "try: CONFIG.PASS\n",
    "except: CONFIG.PASS = getpass.getpass('enter password ')\n",
    "AUTH=(CONFIG.USER,CONFIG.PASS)"
   ]
  },
  {
   "cell_type": "code",
   "execution_count": null,
   "metadata": {},
   "outputs": [],
   "source": [
    "sys.path.insert(0, CONFIG.pyUTILS_path)\n",
    "import ambench.cdcs_utils\n",
    "from ambench.mapping import new_mapper\n",
    "from ambench import amdoc"
   ]
  },
  {
   "cell_type": "code",
   "execution_count": null,
   "metadata": {},
   "outputs": [],
   "source": [
    "importlib.reload(ambench.cdcs_utils)\n",
    "from ambench.cdcs_utils import *"
   ]
  },
  {
   "cell_type": "markdown",
   "metadata": {},
   "source": [
    "# create AMBench2022 instance"
   ]
  },
  {
   "cell_type": "code",
   "execution_count": null,
   "metadata": {},
   "outputs": [],
   "source": [
    "AMBENCH_URL = CONFIG.AMBENCH_URL\n",
    "AMBENCH_URL='https://test-ambench2022.nist.gov/'\n",
    "ambench2022=AMBench2022(CONFIG.TEMPLATE,AMBENCH_URL,auth=AUTH)\n",
    "# create validator from in-memory XSDs\n",
    "CDCS_VALIDATOR = ambench2022.create_schema_validator(); "
   ]
  },
  {
   "cell_type": "markdown",
   "metadata": {},
   "source": [
    "# Retrieve the blobs and reload those whose filename == 'blob'"
   ]
  },
  {
   "cell_type": "raw",
   "metadata": {},
   "source": [
    "all_blobs=ambench2022.get_blobs()"
   ]
  },
  {
   "cell_type": "raw",
   "metadata": {
    "tags": []
   },
   "source": [
    "blobs_by_checksum={}\n",
    "new_blobs_by_checksum={}\n",
    "for blob in blobs.itertuples():\n",
    "    if blob.filename == 'blob':\n",
    "        r=requests.get(blob.handle,auth=AUTH,verify=False)\n",
    "        blobbytes = r.content\n",
    "        checksum=checksum4bytes(blobbytes)  # hashlib.md5(r.content).hexdigest()\n",
    "        ftmt = imageFormatForBytes(blobbytes)\n",
    "        if checksum in blobs_by_checksum:\n",
    "#             print('already found checksum',checksum,'for handle',blob.handle)\n",
    "            blobs_by_checksum[checksum].append(blob.handle.rstrip(\"/\"))\n",
    "        else:\n",
    "            blobs_by_checksum[checksum]=[blob.handle.rstrip(\"/\")]  # r.content\n",
    "        blobid = f\"{checksum}.{frmt.lower()}\"\n",
    "        blobio = BytesIO(blobbytes)\n",
    "        blobio.name=blobid\n",
    "        handle=ambench2022.upload_blob(filename=blobid,blobbytes=blobio)\n",
    "        new_blobs_by_checksum[checksum] = handle\n",
    "        print(\"new handle for\",checksum,\":\",handle)"
   ]
  },
  {
   "cell_type": "markdown",
   "metadata": {},
   "source": [
    "### load all AMBlob-s and update their handle to a blob with filename == [checksum].[format]"
   ]
  },
  {
   "cell_type": "raw",
   "metadata": {},
   "source": [
    "amblobs=ambench2022.query_all_amblobs();\n",
    "to_be_fixed=[]\n",
    "for t in amblobs.itertuples():\n",
    "    el=xpath(t.xml_content,'//AMBlob')[0]\n",
    "    ahandle=el.xpath(\"handle/text()\")[0].rstrip(\"/\")\n",
    "    frmt=el.xpath(\"format/text()\")[0]\n",
    "    checksum=el.xpath(\"checksum/text()\")[0]\n",
    "    handles=blobs_by_checksum.get(checksum)\n",
    "    if ahandle in handles:\n",
    "#         print(\"FOUND\",checksum,ahandle)\n",
    "        new_handle=new_blobs_by_checksum.get(checksum)\n",
    "        if new_handle is not None:\n",
    "            print(\"new handle found for checksum\",checksum,new_handle)\n",
    "            to_be_fixed.append({'amblob_id':t.id,'checksum':checksum,'handle':handle,'format':frmt})\n",
    "    elif handle is None:\n",
    "        print(\"NOT FOUND checksum\",checksum)\n",
    "    else:\n",
    "        print(\"FOUND checksum\",checksum,\"BUT DIFFERENT HANDLE\",handles,'EXPECTED',ahandle)\n",
    "# to_be_fixed"
   ]
  },
  {
   "cell_type": "raw",
   "metadata": {},
   "source": [
    "with open('to_be_fixed.json','r') as f:\n",
    "    to_be_fixed=json.load(f)\n",
    "to_be_fixed[:2]"
   ]
  },
  {
   "cell_type": "markdown",
   "metadata": {},
   "source": [
    "todo\n",
    "* retrieve all blobs\n",
    "* retrieve all AMBlobs\n",
    "* for all blobs with filename 'blob' load the blob with filename based no the checksum and the format"
   ]
  },
  {
   "cell_type": "raw",
   "metadata": {},
   "source": [
    "all_blobs = ambench2022.get_blobs()"
   ]
  },
  {
   "cell_type": "raw",
   "metadata": {},
   "source": [
    "for t in all_amblobs.sort_values('title').itertuples():\n",
    "    print(t.id)\n",
    "    el=xpath(t.xml_content,'//AMBlob')[0]\n",
    "    frmt=el.xpath(\"format/text()\")[0]\n",
    "    handle=el.xpath(\"handle/text()\")[0]\n",
    "    checksum=el.xpath(\"checksum/text()\")[0]\n",
    "    \n",
    "    r=requests.get(handle,auth=AUTH,verify=False)\n",
    "    blobbytes = r.content\n",
    "    b_checksum=checksum4bytes(blobbytes)  # hashlib.md5(r.content).hexdigest()\n",
    "    b_frmt = imageFormatForBytes(blobbytes)\n",
    "    if b_checksum != checksum:\n",
    "        print(\"wrong checksums\",checksum,b_checksum)\n",
    "        continue\n",
    "    if b_frmt != frmt:\n",
    "        print(\"wrong formats\",frmt,b_frmt)\n",
    "        continue\n",
    "    \n",
    "    blobid = f\"AMBlob_{checksum}.{frmt.lower()}\"\n",
    "    blobio = BytesIO(blobbytes)\n",
    "    blobio.name = blobid\n",
    "#     new_handle = ambench2022.upload_blob(filename=blobid,blobbytes=blobio)\n",
    "    \n",
    "    amblob = amdoc.AMBlob()\n",
    "    amblob.checksum = checksum\n",
    "    amblob.handle = new_handle\n",
    "    amblob.format = frmt\n",
    "    \n",
    "    xml_content=amblob.toxml(\"utf-8\").decode('utf-8')\n",
    "#     r = ambench2022.update_data(filename=checksum,title=checksum,content=xml_content)"
   ]
  },
  {
   "cell_type": "raw",
   "metadata": {},
   "source": [
    "df=ambench2022.get_blobs()"
   ]
  },
  {
   "cell_type": "raw",
   "metadata": {},
   "source": [
    "df=df[df['filename'].str.startswith(\"AMBlob\")]\n",
    "df.sort_values('filename')"
   ]
  },
  {
   "cell_type": "code",
   "execution_count": null,
   "metadata": {},
   "outputs": [],
   "source": [
    "adf=ambench2022.query_all_amblobs()\n",
    "updated_amblobs = {}\n",
    "for t in adf.itertuples():\n",
    "    el = xpath(t.xml_content,'/AMBlob')[0]\n",
    "    handle = el.xpath(\"//*/handle/text()\")[0]\n",
    "    checksum = el.xpath(\"//*/checksum/text()\")[0]\n",
    "    r=requests.get(handle,auth=AUTH,verify=False)\n",
    "    blobbytes = r.content\n",
    "    b_checksum=checksum4bytes(blobbytes)  # hashlib.md5(r.content).hexdigest()\n",
    "    if b_checksum != checksum:\n",
    "        print(\"ERROR\")\n",
    "    updated_amblobs[checksum] = handle"
   ]
  },
  {
   "cell_type": "code",
   "execution_count": null,
   "metadata": {},
   "outputs": [],
   "source": [
    "updated_amblobs"
   ]
  },
  {
   "cell_type": "code",
   "execution_count": null,
   "metadata": {},
   "outputs": [],
   "source": [
    "def checksum4handle(handle):\n",
    "    r=requests.get(handle_old,auth=AUTH,verify=False)\n",
    "    blobbytes = r.content\n",
    "    return checksum4bytes(blobbytes) "
   ]
  },
  {
   "cell_type": "code",
   "execution_count": null,
   "metadata": {},
   "outputs": [],
   "source": [
    "amdocs = ambench2022.query_all_docs()"
   ]
  },
  {
   "cell_type": "code",
   "execution_count": null,
   "metadata": {},
   "outputs": [],
   "source": [
    "updated = []\n",
    "for t in amdocs.itertuples():\n",
    "    el=xpath(t.xml_content,'//AMDoc')[0]\n",
    "    pid=el.xpath(\"pid/text()\")[0]\n",
    "    amblobrefs=el.xpath(\"//*/checksum/..\")\n",
    "    is_updated=False\n",
    "    if len(amblobrefs) > 0:\n",
    "        for amblobref in amblobrefs:\n",
    "            d = {c.tag:c.text for c in amblobref}\n",
    "            handle_old = d['handle']\n",
    "            checksum_old = checksum4handle(handle_old)\n",
    "            handle_new = updated_amblobs[d['checksum']]\n",
    "            checksum_new = checksum4handle(handle_new)\n",
    "            if checksum_old != checksum_new:\n",
    "                print(\"Issue with\",t.title)\n",
    "            else:\n",
    "                amblobref.find('handle').text = handle_new\n",
    "                is_updated = True\n",
    "    if is_updated:\n",
    "        updated.append((t,ET.tostring(el, encoding=\"unicode\")))"
   ]
  },
  {
   "cell_type": "code",
   "execution_count": null,
   "metadata": {},
   "outputs": [],
   "source": [
    "for t,xml_content in updated[1:]:\n",
    "    print(t.title)\n",
    "    ambench2022.update_data(filename=t.title,title=t.title,content=xml_content)"
   ]
  },
  {
   "cell_type": "markdown",
   "metadata": {},
   "source": [
    "## Assign all blobs to global workspace"
   ]
  },
  {
   "cell_type": "code",
   "execution_count": null,
   "metadata": {},
   "outputs": [],
   "source": [
    "ambench2022.get_workspaces()"
   ]
  },
  {
   "cell_type": "code",
   "execution_count": null,
   "metadata": {},
   "outputs": [],
   "source": [
    "blobs = ambench2022.get_blobs()\n",
    "blobs_to_move = blobs[(blobs['filename'] != 'blob') & (~blobs[\"filename\"].str.contains('.QR.'))& (blobs[\"filename\"].str.contains('\\.'))]"
   ]
  },
  {
   "cell_type": "code",
   "execution_count": null,
   "metadata": {},
   "outputs": [],
   "source": [
    "blobs_to_move"
   ]
  },
  {
   "cell_type": "code",
   "execution_count": null,
   "metadata": {},
   "outputs": [],
   "source": [
    "ambench2022.assign_blobs(workspace='Global Public Workspace', ids=blobs_to_move['id'].values)"
   ]
  },
  {
   "cell_type": "code",
   "execution_count": null,
   "metadata": {},
   "outputs": [],
   "source": []
  }
 ],
 "metadata": {
  "kernelspec": {
   "display_name": "Python 3.8 (py38)",
   "language": "python",
   "name": "py38"
  },
  "language_info": {
   "codemirror_mode": {
    "name": "ipython",
    "version": 3
   },
   "file_extension": ".py",
   "mimetype": "text/x-python",
   "name": "python",
   "nbconvert_exporter": "python",
   "pygments_lexer": "ipython3",
   "version": "3.8.5"
  }
 },
 "nbformat": 4,
 "nbformat_minor": 4
}
