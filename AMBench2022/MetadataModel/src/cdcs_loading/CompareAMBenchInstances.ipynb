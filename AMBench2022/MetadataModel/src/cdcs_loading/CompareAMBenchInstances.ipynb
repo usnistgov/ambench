{
 "cells": [
  {
   "cell_type": "markdown",
   "metadata": {},
   "source": [
    "# checking test_ambench2022 vs ambench2022"
   ]
  },
  {
   "cell_type": "code",
   "execution_count": null,
   "metadata": {},
   "outputs": [],
   "source": [
    "import os\n",
    "import glob\n",
    "import json\n",
    "import sys\n",
    "import datetime\n",
    "import pandas\n",
    "import importlib\n",
    "from cdcs import CDCS"
   ]
  },
  {
   "cell_type": "code",
   "execution_count": null,
   "metadata": {},
   "outputs": [],
   "source": [
    "from myconfig import *"
   ]
  },
  {
   "cell_type": "code",
   "execution_count": null,
   "metadata": {},
   "outputs": [],
   "source": [
    "try: USER\n",
    "except: USER = input('username: ')\n",
    "try: PASS\n",
    "except: PASS = getpass.getpass('enter password ')\n",
    "AUTH=(USER,PASS)"
   ]
  },
  {
   "cell_type": "code",
   "execution_count": null,
   "metadata": {},
   "outputs": [],
   "source": [
    "pyUTILS_path=f\"{os.getcwd()}/py\"\n",
    "sys.path.insert(0, pyUTILS_path)\n",
    "import cdcs_utils"
   ]
  },
  {
   "cell_type": "code",
   "execution_count": null,
   "metadata": {},
   "outputs": [],
   "source": [
    "importlib.reload(cdcs_utils)\n",
    "from cdcs_utils import *"
   ]
  },
  {
   "cell_type": "code",
   "execution_count": null,
   "metadata": {},
   "outputs": [],
   "source": [
    "test_url='https://test-ambench2022.nist.gov'\n",
    "url='https://ambench2022.nist.gov'"
   ]
  },
  {
   "cell_type": "code",
   "execution_count": null,
   "metadata": {},
   "outputs": [],
   "source": [
    "test_ambench2022=AMBench2022(TEMPLATE,test_url,auth=AUTH)\n",
    "ambench2022=AMBench2022(TEMPLATE,url,auth=AUTH)"
   ]
  },
  {
   "cell_type": "code",
   "execution_count": null,
   "metadata": {},
   "outputs": [],
   "source": [
    "# test number of docs for template and their titles\n",
    "r1=test_ambench2022.get_records(template=TEMPLATE)\n",
    "r2=ambench2022.get_records(template=TEMPLATE)\n",
    "len(r1)-len(r2)"
   ]
  },
  {
   "cell_type": "code",
   "execution_count": null,
   "metadata": {},
   "outputs": [],
   "source": [
    "list(set(r1['title']).symmetric_difference(set(r2['title'])))"
   ]
  },
  {
   "cell_type": "code",
   "execution_count": null,
   "metadata": {},
   "outputs": [],
   "source": [
    "# todo more detailed comparison here\n",
    "bl1=test_ambench2022.get_blobs()\n",
    "bl2=ambench2022.get_blobs()"
   ]
  },
  {
   "cell_type": "code",
   "execution_count": null,
   "metadata": {},
   "outputs": [],
   "source": [
    "len(bl1), len(bl2)"
   ]
  },
  {
   "cell_type": "code",
   "execution_count": null,
   "metadata": {
    "tags": []
   },
   "outputs": [],
   "source": [
    "list(set(bl2['id'])-set(bl1['id']))"
   ]
  },
  {
   "cell_type": "code",
   "execution_count": null,
   "metadata": {},
   "outputs": [],
   "source": [
    "amb1=test_ambench2022.query_amblob_refs()\n",
    "amb2=ambench2022.query_amblob_refs()\n"
   ]
  },
  {
   "cell_type": "code",
   "execution_count": null,
   "metadata": {},
   "outputs": [],
   "source": [
    "list(set(amb1.keys())-set(amb2.keys()))"
   ]
  },
  {
   "cell_type": "markdown",
   "metadata": {},
   "source": [
    "## check whether pid-s are safe"
   ]
  },
  {
   "cell_type": "markdown",
   "metadata": {},
   "source": [
    "e.g. find pids for build plate and part in sapeciemens, check they exist"
   ]
  },
  {
   "cell_type": "code",
   "execution_count": null,
   "metadata": {},
   "outputs": [],
   "source": [
    "ambench=ambench2022\n",
    "specimens=ambench.query_docs_by_type('AMSpecimen')\n",
    "buildplates=ambench.query_docs_by_type(\"AMBuildPlate\")\n",
    "buildparts=ambench.query_docs_by_type(\"AMBuildPart\")\n"
   ]
  },
  {
   "cell_type": "code",
   "execution_count": null,
   "metadata": {},
   "outputs": [],
   "source": [
    "buildplates_dict={}\n",
    "for t in buildplates.itertuples():\n",
    "    root = ET.fromstring(t.xml_content)    \n",
    "    name=root.findall(f'AMBuildPlate/name')[0].text\n",
    "    pid=root.findall('pid')[0].text\n",
    "    buildplates_dict[pid]=name\n",
    "buildparts_dict={}\n",
    "for t in buildparts.itertuples():\n",
    "    root = ET.fromstring(t.xml_content)    \n",
    "    name=root.findall(f'AMBuildPart/name')[0].text\n",
    "    pid=root.findall('pid')[0].text\n",
    "    buildparts_dict[pid]=name\n"
   ]
  },
  {
   "cell_type": "code",
   "execution_count": null,
   "metadata": {},
   "outputs": [],
   "source": [
    "for t in specimens.itertuples():\n",
    "    root = ET.fromstring(t.xml_content)    \n",
    "    name=root.findall(f'AMSpecimen/name')[0].text\n",
    "    pids=root.findall('pid')[0].text\n",
    "    buildplatePID=root.findall(f'{DOC_TYPE}/buildPlateId')[0].text\n",
    "    buildpartPID=root.findall(f'{DOC_TYPE}/buildPartId')[0].text\n",
    "    print(\"buildplate\",buildplatePID,buildplates_dict[buildplatePID],name)\n",
    "    print(\"buildpart\",buildpartPID,buildparts_dict[buildpartPID],name)\n"
   ]
  },
  {
   "cell_type": "code",
   "execution_count": null,
   "metadata": {},
   "outputs": [],
   "source": []
  }
 ],
 "metadata": {
  "kernelspec": {
   "display_name": "Python 3.8 (py38)",
   "language": "python",
   "name": "py38"
  },
  "language_info": {
   "codemirror_mode": {
    "name": "ipython",
    "version": 3
   },
   "file_extension": ".py",
   "mimetype": "text/x-python",
   "name": "python",
   "nbconvert_exporter": "python",
   "pygments_lexer": "ipython3",
   "version": "3.8.5"
  }
 },
 "nbformat": 4,
 "nbformat_minor": 4
}
