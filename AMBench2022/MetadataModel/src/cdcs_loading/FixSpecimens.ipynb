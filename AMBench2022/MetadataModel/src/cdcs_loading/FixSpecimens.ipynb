{
 "cells": [
  {
   "cell_type": "markdown",
   "metadata": {},
   "source": [
    "# Fix existing faulty AMBuildPlates\n",
    "2022-02-02\n",
    "\n",
    "Drop ones with bad ID"
   ]
  },
  {
   "cell_type": "code",
   "execution_count": null,
   "metadata": {},
   "outputs": [],
   "source": [
    "import sys\n",
    "import os\n",
    "import io\n",
    "import pprint\n",
    "# import lxml\n",
    "import lxml.etree as ET\n",
    "import xml.dom.minidom\n",
    "import importlib\n",
    "import glob\n",
    "import json\n",
    "import string\n",
    "import datetime\n",
    "import pandas\n",
    "import getpass\n",
    "import matplotlib.pyplot as plt\n",
    "import requests\n",
    "from PIL import Image, ImageDraw, ImageFont"
   ]
  },
  {
   "cell_type": "code",
   "execution_count": null,
   "metadata": {},
   "outputs": [],
   "source": [
    "import pyxb\n",
    "pyxb.RequireValidWhenGenerating(False);"
   ]
  },
  {
   "cell_type": "raw",
   "metadata": {},
   "source": [
    "%pip install openpyxl\n",
    "%pip install openpyxl-image-loader"
   ]
  },
  {
   "cell_type": "markdown",
   "metadata": {},
   "source": [
    "# preliminaries"
   ]
  },
  {
   "cell_type": "code",
   "execution_count": null,
   "metadata": {},
   "outputs": [],
   "source": [
    "import myconfig"
   ]
  },
  {
   "cell_type": "code",
   "execution_count": null,
   "metadata": {},
   "outputs": [],
   "source": [
    "importlib.reload(myconfig)\n",
    "from myconfig import *"
   ]
  },
  {
   "cell_type": "code",
   "execution_count": null,
   "metadata": {},
   "outputs": [],
   "source": [
    "AMBENCH=AMBENCH_URL.split(\"/\")[2].split(\".\")[0]\n",
    "EXCEL_FILE = SAMPLES_EXCEL_FILE\n",
    "try : USER\n",
    "except: USER = input('username: ')\n",
    "try: PASS\n",
    "except : PASS = getpass.getpass('enter password ')\n",
    "AUTH=(USER, PASS)"
   ]
  },
  {
   "cell_type": "code",
   "execution_count": null,
   "metadata": {},
   "outputs": [],
   "source": [
    "sys.path.insert(0, pyUTILS_path)\n",
    "import ambench.cdcs_utils\n",
    "from ambench.mapping import new_mapper"
   ]
  },
  {
   "cell_type": "code",
   "execution_count": null,
   "metadata": {},
   "outputs": [],
   "source": [
    "importlib.reload(ambench.cdcs_utils)\n",
    "from ambench.cdcs_utils import *"
   ]
  },
  {
   "cell_type": "markdown",
   "metadata": {},
   "source": [
    "# create AMBench2022 instance"
   ]
  },
  {
   "cell_type": "code",
   "execution_count": null,
   "metadata": {},
   "outputs": [],
   "source": [
    "AMBENCH_URL='https://test-ambench2022.nist.gov/'\n",
    "ambench2022=AMBench2022(TEMPLATE,AMBENCH_URL,auth=AUTH)\n",
    "# create validator from in-memory XSDs\n",
    "CDCS_VALIDATOR = ambench2022.create_schema_validator(); "
   ]
  },
  {
   "cell_type": "code",
   "execution_count": null,
   "metadata": {},
   "outputs": [],
   "source": [
    "xsd_filename=f'{XSD}AMDocs.xsd'\n",
    "VALIDATOR=xmlschema.XMLSchema(xsd_filename,build=False)\n",
    "VALIDATOR.build()\n",
    "VALIDATOR.validity "
   ]
  },
  {
   "cell_type": "markdown",
   "metadata": {},
   "source": [
    "# Retrieve the docs"
   ]
  },
  {
   "cell_type": "code",
   "execution_count": null,
   "metadata": {},
   "outputs": [],
   "source": [
    "DOC_TYPE='AMSpecimen'\n",
    "\n",
    "outfolder=f\"{ROOT}/xml/{DOC_TYPE}/\"\n",
    "os.makedirs(outfolder,exist_ok=True)"
   ]
  },
  {
   "cell_type": "code",
   "execution_count": null,
   "metadata": {},
   "outputs": [],
   "source": [
    "docs=ambench2022.query_docs_by_type(DOC_TYPE)"
   ]
  },
  {
   "cell_type": "markdown",
   "metadata": {},
   "source": [
    "## change element tag name\n",
    "AMSpecimen -> AMBSpecimen"
   ]
  },
  {
   "cell_type": "code",
   "execution_count": null,
   "metadata": {},
   "outputs": [],
   "source": [
    "import xml.etree.ElementTree as ET\n",
    "import io"
   ]
  },
  {
   "cell_type": "code",
   "execution_count": null,
   "metadata": {},
   "outputs": [],
   "source": [
    "files=[]\n",
    "for t in docs.itertuples():\n",
    "    xml_content=t.xml_content\n",
    "    tree=ET.parse(io.StringIO(xml_content))\n",
    "    for elem in tree.findall(\"AMSpecimen\"):\n",
    "        elem.tag = \"AMBSpecimen\"\n",
    "    file=f'{outfolder}{t.title}'\n",
    "    files.append((t.id,file))\n",
    "    tree.write(file)"
   ]
  },
  {
   "cell_type": "code",
   "execution_count": null,
   "metadata": {},
   "outputs": [],
   "source": [
    "for _id,xmlfile in files:\n",
    "#     print(xmlfile)\n",
    "    v=CDCS_VALIDATOR.is_valid(xmlfile)\n",
    "    if not(v):\n",
    "        try:\n",
    "            VALIDATOR.validate(xmlfile)\n",
    "        except Exception as e:\n",
    "            print(xmlfile,\"\\n\",e,\"\\n=====\\n\")\n",
    "            raise e\n",
    "print('DONE')"
   ]
  },
  {
   "cell_type": "markdown",
   "metadata": {},
   "source": [
    "## load to CDCS"
   ]
  },
  {
   "cell_type": "code",
   "execution_count": null,
   "metadata": {},
   "outputs": [],
   "source": [
    "uploaded={}\n",
    "errors={}\n",
    "for _id,f in files:\n",
    "    # TODO check whether pid exists and if so update rather than upload??\n",
    "    fn=os.path.basename(f)\n",
    "    print('update existing:', f)\n",
    "    response=ambench2022.update_data(f)\n",
    "\n",
    "    if response.ok:\n",
    "        uploaded[fn]=response.json()    \n",
    "    else:\n",
    "        errors[fn]=response.json()"
   ]
  },
  {
   "cell_type": "markdown",
   "metadata": {},
   "source": [
    "# remove duplicates were somehow upploaded iso updating existing\n",
    "Delete duplicates"
   ]
  },
  {
   "cell_type": "code",
   "execution_count": null,
   "metadata": {},
   "outputs": [],
   "source": [
    "MQ={\"AMDoc.AMBSpecimen\":{\"$exists\":True}}\n",
    "df=ambench2022.mongo_query(MQ)"
   ]
  },
  {
   "cell_type": "code",
   "execution_count": null,
   "metadata": {},
   "outputs": [],
   "source": [
    "groups=df.groupby(['title'])"
   ]
  },
  {
   "cell_type": "code",
   "execution_count": null,
   "metadata": {},
   "outputs": [],
   "source": [
    "bad=[]\n",
    "nbad=0\n",
    "ngood=0\n",
    "for t,g in groups:\n",
    "    if len(g)>1:\n",
    "        gbad=g[g['creation_date']>='2022-02-01']\n",
    "        ggood=g[g['creation_date']<'2022-02-01']\n",
    "        bad.append(gbad)\n",
    "        nbad+=len(gbad)\n",
    "        ngood+=len(ggood)\n",
    "nbad,ngood"
   ]
  },
  {
   "cell_type": "code",
   "execution_count": null,
   "metadata": {},
   "outputs": [],
   "source": [
    "for b in bad:\n",
    "    for row in b.itertuples():\n",
    "        print(\"delete_record(\",row.id,row.title,\")\")\n",
    "        ambench2022.delete_record(row)"
   ]
  },
  {
   "cell_type": "code",
   "execution_count": null,
   "metadata": {},
   "outputs": [],
   "source": [
    "df"
   ]
  },
  {
   "cell_type": "code",
   "execution_count": null,
   "metadata": {},
   "outputs": [],
   "source": []
  }
 ],
 "metadata": {
  "kernelspec": {
   "display_name": "Python 3.8 (py38)",
   "language": "python",
   "name": "py38"
  },
  "language_info": {
   "codemirror_mode": {
    "name": "ipython",
    "version": 3
   },
   "file_extension": ".py",
   "mimetype": "text/x-python",
   "name": "python",
   "nbconvert_exporter": "python",
   "pygments_lexer": "ipython3",
   "version": "3.8.5"
  }
 },
 "nbformat": 4,
 "nbformat_minor": 4
}
