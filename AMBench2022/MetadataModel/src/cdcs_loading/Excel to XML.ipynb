{
 "cells": [
  {
   "cell_type": "markdown",
   "metadata": {},
   "source": [
    "# Translate the AM Bench metadata in Excel tables to XML documents\n",
    "\n",
    "The goal of this notebook is to generate XML documents for metadata describing AM Bench 2022 series samples, build processes and measurements entered in excel spreadsheets and optionally to upload them in <b>private</b> CDCS AM Bench project database. \n",
    "\n",
    "The persistent ID (<b>PID</b>) to an XML document is assigned by CDCS for its first time being uploaded in CDCS. Afterwards, the PID of the document remains the same even if its content changes. Therefore, generating XML documents requires to query the CDCS AM Bench database in order to check whether XML documents already exist in the CDCS or not. The PIDs of the existing documents are assigned to the updated ones.\n",
    "\n",
    "Any user can query the public CDCS AM Bench database as anonymous user. Therefore, anyone can generate XML documents. \n",
    "For uploading documents in private CDCS database you need a permission in order to do so. If you wish to get the permission, please contact Lyle E. Levine (lyle.levine@nist.gov)."
   ]
  },
  {
   "cell_type": "code",
   "execution_count": 1,
   "metadata": {},
   "outputs": [],
   "source": [
    "import sys\n",
    "import os\n",
    "import io\n",
    "import pprint\n",
    "import lxml.etree as ET\n",
    "import xml.dom.minidom\n",
    "import importlib\n",
    "import glob\n",
    "import json\n",
    "import string\n",
    "import datetime\n",
    "import pandas\n",
    "import getpass\n",
    "import matplotlib.pyplot as plt\n",
    "import requests\n",
    "from PIL import Image, ImageDraw, ImageFont"
   ]
  },
  {
   "cell_type": "code",
   "execution_count": 3,
   "metadata": {},
   "outputs": [],
   "source": [
    "# Set False for requiring to validate XML document when generate them.\n",
    "# Instead validate them after all documents are generated.\n",
    "\n",
    "import pyxb\n",
    "pyxb.RequireValidWhenGenerating(False);"
   ]
  },
  {
   "cell_type": "markdown",
   "metadata": {},
   "source": [
    "# Initiantiate __CONFIG class \n",
    "- In order to run this notebook create your own configuration file in JSON format. Please see the example given in default_config.json.\n",
    "- Enter your json file in the argument of the constructor of <code>__CONFIG class</code> defined in config.py. If no argument is passed in the constructor, default_config.json is used.\n"
   ]
  },
  {
   "cell_type": "code",
   "execution_count": 4,
   "metadata": {},
   "outputs": [],
   "source": [
    "# Import config and instantiate __CONFIG class.\n",
    "import config\n",
    "from config import __CONFIG\n",
    "\n",
    "CONFIG = __CONFIG(conf_json = \"./myconfig_linux.json\")\n"
   ]
  },
  {
   "cell_type": "code",
   "execution_count": 13,
   "metadata": {},
   "outputs": [],
   "source": [
    "# If USER or PASS are null in your configuration setting, you are asked enter them in the prompts interactively.\n",
    "# For anonymous user enter nothing in the prompts you get when you run this cell.\n",
    "\n",
    "if CONFIG.USER is None:\n",
    "    CONFIG.USER = input('username: ')\n",
    "if CONFIG.PASS is None:\n",
    "    CONFIG.PASS = getpass.getpass('enter password ')\n",
    "\n",
    "AUTH=(CONFIG.USER, CONFIG.PASS)    \n"
   ]
  },
  {
   "cell_type": "code",
   "execution_count": 6,
   "metadata": {},
   "outputs": [],
   "source": [
    "# Include the directory path for the required Python modules.\n",
    "\n",
    "sys.path.insert(0, CONFIG.pyUTILS_path)\n",
    "import ambench.cdcs_utils\n",
    "from ambench.cdcs_utils import AMBench2022, xmlschema\n",
    "from ambench.mapping import new_mapper\n"
   ]
  },
  {
   "cell_type": "markdown",
   "metadata": {},
   "source": [
    "# Create AMBench2022 instance\n",
    "* AMBench2022 is a wrapper class of which base class is CDCS from pycdcs. It has additional methods including querying, and uploading XML schemas and documents in the CDCS instance."
   ]
  },
  {
   "cell_type": "code",
   "execution_count": 7,
   "metadata": {},
   "outputs": [],
   "source": [
    "ambench2022=AMBench2022(CONFIG.TEMPLATE,CONFIG.AMBENCH_URL,auth=AUTH)"
   ]
  },
  {
   "cell_type": "markdown",
   "metadata": {},
   "source": [
    "# Create XML Validator from in-memory schema files using xmlschema."
   ]
  },
  {
   "cell_type": "code",
   "execution_count": 8,
   "metadata": {},
   "outputs": [
    {
     "data": {
      "text/plain": [
       "'valid'"
      ]
     },
     "execution_count": 8,
     "metadata": {},
     "output_type": "execute_result"
    }
   ],
   "source": [
    "# xsd_filename is a file path of ROOT_SCHEMA\n",
    "\n",
    "xsd_filename=f'{CONFIG.XSD}{CONFIG.ROOT_SCHEMA}'\n",
    "VALIDATOR=xmlschema.XMLSchema(xsd_filename,build=False)\n",
    "VALIDATOR.build()\n",
    "VALIDATOR.validity "
   ]
  },
  {
   "cell_type": "markdown",
   "metadata": {},
   "source": [
    "# Generate, Validate and Load XML files\n",
    "* Use function <code>map_them</code> to map the metadata for samples or measurements from AM Bench project entered in Excel spreadsheets to XML files.  \n",
    "    * Select the types of samples or measurements to map and pass them as argment <code>DOC_TYPES2LOAD</code> of <code>map_them</code>.\n",
    "    * There are dependencies between the XML documents because of hyper links referring from one document to another. For example, documents for measurements refer to the documents describing the specimens used in their measurements. Or a specimen document may refer to the one for a source build part, or a material and etc.  Therefore, the documents must be generated in a proper order by their types as given in <code>ALL_DOC_TYPES</code> below.\n",
    "* Validate XML documents using <code>validate_amdocs</code>.\n",
    "* Upload using <code>load_amdocs_cdcs</code>"
   ]
  },
  {
   "cell_type": "code",
   "execution_count": 9,
   "metadata": {},
   "outputs": [],
   "source": [
    "def validate_amdocs(amdocs):\n",
    "    '''\n",
    "    Validate generated XML files.\n",
    "    \n",
    "    amdocs: a dict of generated  XML files and and flag indicating \n",
    "            whether XML file is new or not.\n",
    "    '''\n",
    "    for xmlfile,is_new in amdocs.items():\n",
    "        v=VALIDATOR.is_valid(xmlfile)\n",
    "        if not(v):\n",
    "            try:\n",
    "                VALIDATOR.validate(xmlfile)\n",
    "            except Exception as e:\n",
    "                print(xmlfile,\"\\n\",e,\"\\n=====\\n\")\n",
    "                raise e\n",
    "    return True"
   ]
  },
  {
   "cell_type": "code",
   "execution_count": 10,
   "metadata": {},
   "outputs": [],
   "source": [
    "def load_amdocs_cdcs(amdocs):\n",
    "    '''\n",
    "    Load XML documents to CDCS.\n",
    "    \n",
    "    amdocs: a dict of XML files and their flags indicating whether each XML file is new or not.\n",
    "    '''\n",
    "    uploaded={}\n",
    "    errors={}\n",
    "    for f,is_new in amdocs.items():\n",
    "        fn=os.path.basename(f)\n",
    "        if is_new:\n",
    "            print('upload new:', f)\n",
    "            response=ambench2022.upload_data(f)\n",
    "        else:\n",
    "            print('update existing:', f)\n",
    "            response=ambench2022.update_data(f)\n",
    "\n",
    "        if response.ok:\n",
    "            uploaded[fn]=response.json()    \n",
    "        else:\n",
    "            errors[fn]=response.json()\n",
    "    return uploaded,errors"
   ]
  },
  {
   "cell_type": "code",
   "execution_count": 11,
   "metadata": {},
   "outputs": [],
   "source": [
    "# The order of loading doc types.\n",
    "ALL_DOC_TYPES=['Material','AMPowder','AMBuildPlate','AMBuildPart','AMBSpecimen',\n",
    "               'AMComposition', 'AMLaserAbsorptivity', 'AMRadiography',  'AMMechanicalTesting']\n",
    "\n",
    "def map_them(DOC_TYPES2LOAD,doLoad=False,breakOnError=True,folder='TEMP'):\n",
    "    '''\n",
    "    Generate, and validate XML files.  If doLoad is True upload them to the CDCS AM Bench database. \n",
    "    \n",
    "    DOC_TYPES2LOAD: List of document types to generate and upload \n",
    "    doLoad: Flag whether to upload the generated documents to the CDCS instance or not.\n",
    "    breakOnError: Flag whether to break the loop or not if there is an error in generating a document.\n",
    "    folder: Name of folder where to stage the generated documents in local file system. The full folder \n",
    "            path depends on document type <outfolder> below.\n",
    "    '''\n",
    "    all_handled={}\n",
    "    for DOC_TYPE in DOC_TYPES2LOAD:\n",
    "        print(\"DOC_TYPE:\",DOC_TYPE)\n",
    "        \n",
    "        outfolder=f\"{CONFIG.LOADING}/{folder}/{DOC_TYPE}/\"\n",
    "        os.makedirs(outfolder,exist_ok=True)\n",
    "        \n",
    "        MAPPER=new_mapper(ambench2022, DOC_TYPE, CONFIG)\n",
    "        try :\n",
    "            amdocs=MAPPER.map_from_excel(outfolder,verbose=True) \n",
    "            ok = validate_amdocs(amdocs)\n",
    "            if not ok:\n",
    "                print()\n",
    "            if doLoad and ok:\n",
    "                load_amdocs_cdcs(amdocs)\n",
    "            all_handled[DOC_TYPE]=amdocs\n",
    "        except Exception as e:\n",
    "            print(e)\n",
    "            if breakOnError:\n",
    "                break\n",
    "    return all_handled"
   ]
  },
  {
   "cell_type": "code",
   "execution_count": 12,
   "metadata": {
    "scrolled": false,
    "tags": []
   },
   "outputs": [
    {
     "name": "stdout",
     "output_type": "stream",
     "text": [
      "DOC_TYPE: Material\n",
      "Found: TI64-D1  ==>  https://ambench2022.nist.gov/pid/rest/local/cdcs/PBBOBFU60S4ZJO5D update doc from excel\n",
      "Found: AA5182-D1  ==>  https://ambench2022.nist.gov/pid/rest/local/cdcs/ULQF8WE9O3Q7DJKP update doc from excel\n",
      "Found: 718-SH1  ==>  https://ambench2022.nist.gov/pid/rest/local/cdcs/P7TVXK25GCW4ZWDS update doc from excel\n",
      "DOC_TYPE: AMPowder\n"
     ]
    },
    {
     "name": "stderr",
     "output_type": "stream",
     "text": [
      "\r",
      " 83%|████████▎ | 10/12 [00:00<?, ?it/s]"
     ]
    },
    {
     "name": "stdout",
     "output_type": "stream",
     "text": [
      "Found: K201801  ==>  https://ambench2022.nist.gov/pid/rest/local/cdcs/526BWB5BAIPV8FVB update doc from excel\n",
      "Found: M051701  ==>  https://ambench2022.nist.gov/pid/rest/local/cdcs/Z9C1W8ZDI2FSVEKB update doc from excel\n",
      "Found: M341901  ==>  https://ambench2022.nist.gov/pid/rest/local/cdcs/T5E99OQBKI2VNFUC update doc from excel\n",
      "Found: M421601  ==>  https://ambench2022.nist.gov/pid/rest/local/cdcs/L3GB36AAKOEK8QNU update doc from excel\n",
      "DOC_TYPE: AMBuildPlate\n"
     ]
    },
    {
     "name": "stderr",
     "output_type": "stream",
     "text": [
      "100%|██████████| 12/12 [00:00<00:00, 14.92it/s]\n",
      "100%|██████████| 31/31 [00:00<00:00, 49.63it/s]\n"
     ]
    },
    {
     "name": "stdout",
     "output_type": "stream",
     "text": [
      "Found: AMB2022-718-AMMT-B1  ==>  https://ambench2022.nist.gov/pid/rest/local/cdcs/N5C1HKQ9BZO3ZS66 update doc from excel\n",
      "Found: AMB2022-718-AMMT-B2  ==>  https://ambench2022.nist.gov/pid/rest/local/cdcs/T8FETDWTHOBMD3LM update doc from excel\n",
      "Found: AMB2022-718-AMMT-B3  ==>  https://ambench2022.nist.gov/pid/rest/local/cdcs/J3Q32LE63WH09S57 update doc from excel\n",
      "Found: AMB2022-718-AMMT-B4  ==>  https://ambench2022.nist.gov/pid/rest/local/cdcs/7O3WK5HX4C3LOSTA update doc from excel\n",
      "Found: AMB2022-718-AMMT-B5  ==>  https://ambench2022.nist.gov/pid/rest/local/cdcs/UNQ4PM46IB11Y04O update doc from excel\n",
      "Found: AMB2022-718-AMMT-B6  ==>  https://ambench2022.nist.gov/pid/rest/local/cdcs/GK1GVW851DEFIW2Y update doc from excel\n",
      "Found: AMB2022-718-AMMT-B7  ==>  https://ambench2022.nist.gov/pid/rest/local/cdcs/RRWX582XWX7TLZCC update doc from excel\n",
      "Found: AMB2022-718-AMMT-B8  ==>  https://ambench2022.nist.gov/pid/rest/local/cdcs/L3K0CEHHHWE2SDKL update doc from excel\n",
      "Found: AMB2022-718-AMMT-B9  ==>  https://ambench2022.nist.gov/pid/rest/local/cdcs/CEQBRYJNHYYU54W9 update doc from excel\n",
      "Found: AMB2018-625-CBM-B3  ==>  https://ambench2022.nist.gov/pid/rest/local/cdcs/BKZVOB5XRL6VN5MM update doc from excel\n",
      "Found: AMB2022-625-CBM-B1  ==>  https://ambench2022.nist.gov/pid/rest/local/cdcs/JGQNREM427JM6RVI update doc from excel\n",
      "Found: AMB2022-625-CBM-B2  ==>  https://ambench2022.nist.gov/pid/rest/local/cdcs/D9UBTK5111PJAW1K update doc from excel\n"
     ]
    },
    {
     "name": "stderr",
     "output_type": "stream",
     "text": [
      "\r",
      " 11%|█         | 10/89 [00:00<?, ?it/s]"
     ]
    },
    {
     "name": "stdout",
     "output_type": "stream",
     "text": [
      "DOC_TYPE: AMBuildPart\n"
     ]
    },
    {
     "name": "stderr",
     "output_type": "stream",
     "text": [
      "100%|██████████| 89/89 [00:01<00:00, 63.20it/s]\n",
      "100%|██████████| 31/31 [00:00<00:00, 51.14it/s]\n"
     ]
    },
    {
     "name": "stdout",
     "output_type": "stream",
     "text": [
      "Found: AMB2022-718-AMMT-B1-P1  ==>  https://ambench2022.nist.gov/pid/rest/local/cdcs/9R95DBQAKEOTPG3W\n",
      "Found: AMB2022-718-AMMT-B1-P2  ==>  https://ambench2022.nist.gov/pid/rest/local/cdcs/RWDS54PZO7CMWJA9\n",
      "Found: AMB2022-718-AMMT-B1-P3  ==>  https://ambench2022.nist.gov/pid/rest/local/cdcs/HJGQ0BFFAA2P51UO\n",
      "Found: AMB2022-718-AMMT-B1-P4  ==>  https://ambench2022.nist.gov/pid/rest/local/cdcs/9O4RNB9LFNCK3P1S\n",
      "Found: AMB2022-718-AMMT-B1-G1  ==>  https://ambench2022.nist.gov/pid/rest/local/cdcs/3U6GCHGCDGALWKHJ\n",
      "Found: AMB2022-718-AMMT-B1-G2  ==>  https://ambench2022.nist.gov/pid/rest/local/cdcs/LJEZRG1RUE9PUVCT\n",
      "Found: AMB2022-718-AMMT-B2-P1  ==>  https://ambench2022.nist.gov/pid/rest/local/cdcs/8UBBVZYAL1KYHV7W\n",
      "Found: AMB2022-718-AMMT-B2-P2  ==>  https://ambench2022.nist.gov/pid/rest/local/cdcs/83AB6W7IIQY4GU6B\n",
      "Found: AMB2022-718-AMMT-B2-P3  ==>  https://ambench2022.nist.gov/pid/rest/local/cdcs/AK7RV2QPGWFD3WQ2\n",
      "Found: AMB2022-718-AMMT-B2-P4  ==>  https://ambench2022.nist.gov/pid/rest/local/cdcs/4Q601943GH5766V8\n",
      "Found: AMB2022-718-AMMT-B2-G1  ==>  https://ambench2022.nist.gov/pid/rest/local/cdcs/931GQKT90VV2KWC7\n",
      "Found: AMB2022-718-AMMT-B2-G2  ==>  https://ambench2022.nist.gov/pid/rest/local/cdcs/MHTL2MVY1L21UGDD\n",
      "Found: AMB2022-718-AMMT-B3-P1  ==>  https://ambench2022.nist.gov/pid/rest/local/cdcs/O6PDP6ZBLI61D6WH\n",
      "Found: AMB2022-718-AMMT-B3-P2  ==>  https://ambench2022.nist.gov/pid/rest/local/cdcs/86QHQ30A59M8U7OS\n",
      "Found: AMB2022-718-AMMT-B3-P3  ==>  https://ambench2022.nist.gov/pid/rest/local/cdcs/J5M0NNGJY4PKXKZD\n",
      "Found: AMB2022-718-AMMT-B3-P4  ==>  https://ambench2022.nist.gov/pid/rest/local/cdcs/LC12YEFY0OQV94TJ\n",
      "Found: AMB2022-718-AMMT-B3-G1  ==>  https://ambench2022.nist.gov/pid/rest/local/cdcs/TZT6B9DIG413VMK6\n",
      "Found: AMB2022-718-AMMT-B3-G2  ==>  https://ambench2022.nist.gov/pid/rest/local/cdcs/RZXZ5A7OKTO5AFY4\n",
      "Found: AMB2022-718-AMMT-B4-P1  ==>  https://ambench2022.nist.gov/pid/rest/local/cdcs/C2LEO4J8PJ1638XV\n",
      "Found: AMB2022-718-AMMT-B4-P2  ==>  https://ambench2022.nist.gov/pid/rest/local/cdcs/8W8P2LI3ZDR1316A\n",
      "Found: AMB2022-718-AMMT-B4-P3  ==>  https://ambench2022.nist.gov/pid/rest/local/cdcs/DV0NYXCBKWBBSXXS\n",
      "Found: AMB2022-718-AMMT-B4-P4  ==>  https://ambench2022.nist.gov/pid/rest/local/cdcs/94T765NPX9VJED12\n",
      "Found: AMB2022-718-AMMT-B4-G1  ==>  https://ambench2022.nist.gov/pid/rest/local/cdcs/ORIIAHUI7CDE8IQQ\n",
      "Found: AMB2022-718-AMMT-B4-G2  ==>  https://ambench2022.nist.gov/pid/rest/local/cdcs/GNK2PCSL9AUGBIM5\n",
      "Found: AMB2022-718-AMMT-B5-P1  ==>  https://ambench2022.nist.gov/pid/rest/local/cdcs/CXPO3NO1K1KY1F6U\n",
      "Found: AMB2022-718-AMMT-B5-P2  ==>  https://ambench2022.nist.gov/pid/rest/local/cdcs/G0KIACS2TJL2F2HZ\n",
      "Found: AMB2022-718-AMMT-B5-P3  ==>  https://ambench2022.nist.gov/pid/rest/local/cdcs/JCBXHS5DNG8Z9OBP\n",
      "Found: AMB2022-718-AMMT-B5-P4  ==>  https://ambench2022.nist.gov/pid/rest/local/cdcs/3RZV7P1R2TVKLWIH\n",
      "Found: AMB2022-718-AMMT-B5-G1  ==>  https://ambench2022.nist.gov/pid/rest/local/cdcs/A2JTES85FF6DRCAY\n",
      "Found: AMB2022-718-AMMT-B5-G2  ==>  https://ambench2022.nist.gov/pid/rest/local/cdcs/ZL6T7O5IFYHUKL8L\n",
      "Found: AMB2022-718-AMMT-B6-P1  ==>  https://ambench2022.nist.gov/pid/rest/local/cdcs/4K4YIN4FEO2UIGMK\n",
      "Found: AMB2022-718-AMMT-B6-P2  ==>  https://ambench2022.nist.gov/pid/rest/local/cdcs/DMHR8E6BY4TUKUHD\n",
      "Found: AMB2022-718-AMMT-B6-P3  ==>  https://ambench2022.nist.gov/pid/rest/local/cdcs/ACWTLPS56INCJ5CD\n",
      "Found: AMB2022-718-AMMT-B6-P4  ==>  https://ambench2022.nist.gov/pid/rest/local/cdcs/IHRS9ZJ0QQBDU5W6\n",
      "Found: AMB2022-718-AMMT-B6-G1  ==>  https://ambench2022.nist.gov/pid/rest/local/cdcs/B5IGGDEBYXSK5JSJ\n",
      "Found: AMB2022-718-AMMT-B6-G2  ==>  https://ambench2022.nist.gov/pid/rest/local/cdcs/JD9HU3I9WGNX617F\n",
      "Found: AMB2022-718-AMMT-B7-P1  ==>  https://ambench2022.nist.gov/pid/rest/local/cdcs/WSFAEYIP1KCK7TPU\n",
      "Found: AMB2022-718-AMMT-B7-P2  ==>  https://ambench2022.nist.gov/pid/rest/local/cdcs/P9PI0J8KKEDGMIVE\n",
      "Found: AMB2022-718-AMMT-B7-P3  ==>  https://ambench2022.nist.gov/pid/rest/local/cdcs/4OW1IHMXVXGNYIGB\n",
      "Found: AMB2022-718-AMMT-B7-P4  ==>  https://ambench2022.nist.gov/pid/rest/local/cdcs/IVZDPL4OFF2NT5XN\n",
      "Found: AMB2022-718-AMMT-B7-G1  ==>  https://ambench2022.nist.gov/pid/rest/local/cdcs/A4O8GNVQEGI1015R\n",
      "Found: AMB2022-718-AMMT-B7-G2  ==>  https://ambench2022.nist.gov/pid/rest/local/cdcs/R6RKU6NRPXW87RMK\n",
      "Found: AMB2022-718-AMMT-B8-P1  ==>  https://ambench2022.nist.gov/pid/rest/local/cdcs/4OWMWZ1Z01GJAWS5\n",
      "Found: AMB2022-718-AMMT-B8-P2  ==>  https://ambench2022.nist.gov/pid/rest/local/cdcs/SUY42N07GDVOBRKM\n",
      "Found: AMB2022-718-AMMT-B8-P3  ==>  https://ambench2022.nist.gov/pid/rest/local/cdcs/3TTUOI3IJJMT0HBB\n",
      "Found: AMB2022-718-AMMT-B8-P4  ==>  https://ambench2022.nist.gov/pid/rest/local/cdcs/DQUHE21KUO6IK7MU\n",
      "Found: AMB2022-718-AMMT-B8-G1  ==>  https://ambench2022.nist.gov/pid/rest/local/cdcs/FQ527PQFOD3CPJXB\n",
      "Found: AMB2022-718-AMMT-B8-G2  ==>  https://ambench2022.nist.gov/pid/rest/local/cdcs/5E5TBVGICBJ9FZY5\n",
      "Found: AMB2022-718-AMMT-B9-P1  ==>  https://ambench2022.nist.gov/pid/rest/local/cdcs/IPPISG3FNSJ529P6\n",
      "Found: AMB2022-718-AMMT-B9-P2  ==>  https://ambench2022.nist.gov/pid/rest/local/cdcs/M9H6VNCYCLDZH41M\n",
      "Found: AMB2022-718-AMMT-B9-P3  ==>  https://ambench2022.nist.gov/pid/rest/local/cdcs/CU563JK96UQ49E0V\n",
      "Found: AMB2022-718-AMMT-B9-P4  ==>  https://ambench2022.nist.gov/pid/rest/local/cdcs/VTZVMWWME3HS2OG8\n",
      "Found: AMB2022-718-AMMT-B9-G1  ==>  https://ambench2022.nist.gov/pid/rest/local/cdcs/GRAYCK4MC8H9E2M8\n",
      "Found: AMB2022-718-AMMT-B9-G2  ==>  https://ambench2022.nist.gov/pid/rest/local/cdcs/E8ICD1BKCYQ9KN3N\n",
      "Found: AMB2022-625-CBM-B1-T1  ==>  https://ambench2022.nist.gov/pid/rest/local/cdcs/5GRNOZI8TQH49KEM\n",
      "Found: AMB2022-625-CBM-B1-T2  ==>  https://ambench2022.nist.gov/pid/rest/local/cdcs/P4MDGBVHPW4WN8U0\n",
      "Found: AMB2022-625-CBM-B1-T3  ==>  https://ambench2022.nist.gov/pid/rest/local/cdcs/1Y4ZCJ4UH0II7WX2\n",
      "Found: AMB2022-625-CBM-B1-T4  ==>  https://ambench2022.nist.gov/pid/rest/local/cdcs/J2QHJNAYKG502CW4\n",
      "Found: AMB2022-625-CBM-B1-T5  ==>  https://ambench2022.nist.gov/pid/rest/local/cdcs/TCLRKAEZO4GE3V0X\n",
      "Found: AMB2022-625-CBM-B1-T6  ==>  https://ambench2022.nist.gov/pid/rest/local/cdcs/XQCPNW5WZTJ5NYE3\n",
      "Found: AMB2022-625-CBM-B1-T7  ==>  https://ambench2022.nist.gov/pid/rest/local/cdcs/YF1HZ4YE5VY7ELTE\n",
      "Found: AMB2022-625-CBM-B1-T8  ==>  https://ambench2022.nist.gov/pid/rest/local/cdcs/2JHMUFCZLHO6MZ4F\n",
      "Found: AMB2022-625-CBM-B1-TH1  ==>  https://ambench2022.nist.gov/pid/rest/local/cdcs/4LCAX143ZEML04UH\n",
      "Found: AMB2022-625-CBM-B1-TH2  ==>  https://ambench2022.nist.gov/pid/rest/local/cdcs/P3GPLB43ZYN5ZSM3\n",
      "Found: AMB2022-625-CBM-B1-TH3  ==>  https://ambench2022.nist.gov/pid/rest/local/cdcs/CDOILQTORT6W8KOV\n",
      "Found: AMB2022-625-CBM-B2-0-X.01  ==>  https://ambench2022.nist.gov/pid/rest/local/cdcs/S18LC7U1IYDIJ0D6\n",
      "Found: AMB2022-625-CBM-B2-0-X.11  ==>  https://ambench2022.nist.gov/pid/rest/local/cdcs/7G3LMRK7TDBAIEPH\n",
      "Found: AMB2022-625-CBM-B2-0-X.20  ==>  https://ambench2022.nist.gov/pid/rest/local/cdcs/9PX000GF45XLM9A7\n",
      "Found: AMB2022-625-CBM-B2-0-XY.05  ==>  https://ambench2022.nist.gov/pid/rest/local/cdcs/BFQLY7QC2CZMQZPV\n",
      "Found: AMB2022-625-CBM-B2-0-XY.10  ==>  https://ambench2022.nist.gov/pid/rest/local/cdcs/9OSFQ5UAAKTLXGF0\n",
      "Found: AMB2022-625-CBM-B2-0-XY.20  ==>  https://ambench2022.nist.gov/pid/rest/local/cdcs/Q8C6Q1J6XMWGMECJ\n",
      "Found: AMB2022-625-CBM-B2-30-XY.01  ==>  https://ambench2022.nist.gov/pid/rest/local/cdcs/IZ4YKGQUY8EXPYST\n",
      "Found: AMB2022-625-CBM-B2-30-XY.12  ==>  https://ambench2022.nist.gov/pid/rest/local/cdcs/6P03FIPJDRMQR0G2\n",
      "Found: AMB2022-625-CBM-B2-30-XY.18  ==>  https://ambench2022.nist.gov/pid/rest/local/cdcs/L5Y3XIB21L0JGFVL\n",
      "Found: AMB2022-625-CBM-B2-45-XY.02  ==>  https://ambench2022.nist.gov/pid/rest/local/cdcs/MQJHF68NGIC2S8F0\n",
      "Found: AMB2022-625-CBM-B2-45-XY.08  ==>  https://ambench2022.nist.gov/pid/rest/local/cdcs/5AXBY5M6I90AJCZZ\n",
      "Found: AMB2022-625-CBM-B2-45-XY.13  ==>  https://ambench2022.nist.gov/pid/rest/local/cdcs/QGJ0O9AMT95C108A\n",
      "Found: AMB2022-625-CBM-B2-60-X.05  ==>  https://ambench2022.nist.gov/pid/rest/local/cdcs/Q9HFPOPCA67RSTEX\n",
      "Found: AMB2022-625-CBM-B2-60-X.12  ==>  https://ambench2022.nist.gov/pid/rest/local/cdcs/TMF6HBMU8DWQRRVY\n",
      "Found: AMB2022-625-CBM-B2-60-X.14  ==>  https://ambench2022.nist.gov/pid/rest/local/cdcs/AYD2FHPI5G1YKJ2O\n",
      "Found: AMB2022-625-CBM-B2-60-XY.04  ==>  https://ambench2022.nist.gov/pid/rest/local/cdcs/SZDRPNXF6822EKTP\n"
     ]
    },
    {
     "name": "stdout",
     "output_type": "stream",
     "text": [
      "Found: AMB2022-625-CBM-B2-60-XY.09  ==>  https://ambench2022.nist.gov/pid/rest/local/cdcs/4SBNV2RT73WIZ3SV\n",
      "Found: AMB2022-625-CBM-B2-60-XY.15  ==>  https://ambench2022.nist.gov/pid/rest/local/cdcs/C6JLM0BF93YZZEHQ\n",
      "Found: AMB2022-625-CBM-B2-90-X.08  ==>  https://ambench2022.nist.gov/pid/rest/local/cdcs/DLR93FQ06IQNSF1I\n",
      "Found: AMB2022-625-CBM-B2-90-X.13  ==>  https://ambench2022.nist.gov/pid/rest/local/cdcs/61P1GZZZARWPUMMV\n",
      "Found: AMB2022-625-CBM-B2-90-X.19  ==>  https://ambench2022.nist.gov/pid/rest/local/cdcs/G5WGNOWHNL5UFN5V\n",
      "Found: AMB2022-625-CBM-B2-90-XY.07  ==>  https://ambench2022.nist.gov/pid/rest/local/cdcs/CGLVIHMJ3V6GJXL7\n",
      "Found: AMB2022-625-CBM-B2-90-XY.16  ==>  https://ambench2022.nist.gov/pid/rest/local/cdcs/OTMZ399IKULT4K2C\n",
      "Found: AMB2022-625-CBM-B2-90-XY.17  ==>  https://ambench2022.nist.gov/pid/rest/local/cdcs/V5BDQKY9W8HA16QA\n"
     ]
    },
    {
     "name": "stderr",
     "output_type": "stream",
     "text": [
      "\r",
      "  4%|▍         | 10/232 [00:00<?, ?it/s]"
     ]
    },
    {
     "name": "stdout",
     "output_type": "stream",
     "text": [
      "DOC_TYPE: AMBSpecimen\n"
     ]
    },
    {
     "name": "stderr",
     "output_type": "stream",
     "text": [
      "100%|██████████| 232/232 [00:03<00:00, 58.45it/s]\n",
      "100%|██████████| 31/31 [00:00<00:00, 51.17it/s]\n"
     ]
    },
    {
     "name": "stdout",
     "output_type": "stream",
     "text": [
      "Found: AAMB2022-AA5182-D1-O1  ==>  https://ambench2022.nist.gov/pid/rest/local/cdcs/8TEPCWHESGSBCP87\n",
      "Found: AAMB2022-AA5182-D1-O2  ==>  https://ambench2022.nist.gov/pid/rest/local/cdcs/F2ESHH5RBWLXVI08\n",
      "Found: AAMB2022-TI64-D1-O1  ==>  https://ambench2022.nist.gov/pid/rest/local/cdcs/0S8GGK8HHYCHY1JY\n",
      "Found: AAMB2022-TI64-D1-O2  ==>  https://ambench2022.nist.gov/pid/rest/local/cdcs/JYEB4AF3KG1S72TE\n",
      "Found: AMB2022-625-CBM-B1-T2-O1  ==>  https://ambench2022.nist.gov/pid/rest/local/cdcs/P91I7LPR8X61F1KA\n",
      "Found: AMB2022-625-CBM-B1-T3-O1  ==>  https://ambench2022.nist.gov/pid/rest/local/cdcs/KTX3BU3SKR2HOCSF\n",
      "Found: AMB2022-625-CBM-B1-T4-O1  ==>  https://ambench2022.nist.gov/pid/rest/local/cdcs/37KAX1RK1CA06XVD\n",
      "Found: AMB2022-625-CBM-B1-T5-O1  ==>  https://ambench2022.nist.gov/pid/rest/local/cdcs/ZYA5HQBB2YOEUVIE\n",
      "Found: AMB2022-625-CBM-B1-T6-O1  ==>  https://ambench2022.nist.gov/pid/rest/local/cdcs/N3KVCQHDWXRDVYQY\n",
      "Found: AMB2022-625-CBM-B1-T7-O1  ==>  https://ambench2022.nist.gov/pid/rest/local/cdcs/HH4J92KYMRANG83U\n",
      "Found: AMB2022-625-CBM-B1-T8-O1  ==>  https://ambench2022.nist.gov/pid/rest/local/cdcs/SZH4H5NZLQOIRH03\n",
      "Found: AMB2022-625-CBM-B1-TH1-F  ==>  https://ambench2022.nist.gov/pid/rest/local/cdcs/M7FSWR0NCPTQGAVJ\n",
      "Found: AMB2022-625-CBM-B2-0-X.01-1  ==>  https://ambench2022.nist.gov/pid/rest/local/cdcs/M3E2J4E9KWPFK0GW\n",
      "Found: AMB2022-625-CBM-B2-0-X.01-2  ==>  https://ambench2022.nist.gov/pid/rest/local/cdcs/Q0CD3XM0I4ZWZXUL\n",
      "Found: AMB2022-625-CBM-B2-0-X.01-3  ==>  https://ambench2022.nist.gov/pid/rest/local/cdcs/TLQBE624UETVZT62\n",
      "Found: AMB2022-625-CBM-B2-0-X.01-4  ==>  https://ambench2022.nist.gov/pid/rest/local/cdcs/1MQ47LX4LJGEPKZ6\n",
      "Found: AMB2022-625-CBM-B2-0-X.11-1  ==>  https://ambench2022.nist.gov/pid/rest/local/cdcs/M4H62AW2WGLRTT1K\n",
      "Found: AMB2022-625-CBM-B2-0-X.11-2  ==>  https://ambench2022.nist.gov/pid/rest/local/cdcs/CIML4CKNP33TE1ZW\n",
      "Found: AMB2022-625-CBM-B2-0-X.11-3  ==>  https://ambench2022.nist.gov/pid/rest/local/cdcs/VRCQ2Y6XDRX8IOEE\n",
      "Found: AMB2022-625-CBM-B2-0-X.11-4  ==>  https://ambench2022.nist.gov/pid/rest/local/cdcs/WXPXNUVZ9DDZL3AJ\n",
      "Found: AMB2022-625-CBM-B2-0-X.20-1  ==>  https://ambench2022.nist.gov/pid/rest/local/cdcs/B7OI4RW2XPZKOOHI\n",
      "Found: AMB2022-625-CBM-B2-0-X.20-2  ==>  https://ambench2022.nist.gov/pid/rest/local/cdcs/KPQCAKR5BGF4K0NV\n",
      "Found: AMB2022-625-CBM-B2-0-X.20-3  ==>  https://ambench2022.nist.gov/pid/rest/local/cdcs/GTYDD10ZE4ABE6KR\n",
      "Found: AMB2022-625-CBM-B2-0-X.20-4  ==>  https://ambench2022.nist.gov/pid/rest/local/cdcs/M0CZ99F7AYJ8PCOC\n",
      "Found: AMB2022-625-CBM-B2-0-XY.05-1  ==>  https://ambench2022.nist.gov/pid/rest/local/cdcs/9GG463YHHFX7JN5J\n",
      "Found: AMB2022-625-CBM-B2-0-XY.05-2  ==>  https://ambench2022.nist.gov/pid/rest/local/cdcs/SPQQWQQ0BUVDC6C9\n",
      "Found: AMB2022-625-CBM-B2-0-XY.05-3  ==>  https://ambench2022.nist.gov/pid/rest/local/cdcs/KV1V4QEVZSTON9J5\n",
      "Found: AMB2022-625-CBM-B2-0-XY.05-4  ==>  https://ambench2022.nist.gov/pid/rest/local/cdcs/4QXG5USUKDRV3RNU\n",
      "Found: AMB2022-625-CBM-B2-0-XY.10-1  ==>  https://ambench2022.nist.gov/pid/rest/local/cdcs/OQ24T2JBPHF37TRF\n",
      "Found: AMB2022-625-CBM-B2-0-XY.10-2  ==>  https://ambench2022.nist.gov/pid/rest/local/cdcs/BXDKV1ST71JOGMDR\n",
      "Found: AMB2022-625-CBM-B2-0-XY.10-3  ==>  https://ambench2022.nist.gov/pid/rest/local/cdcs/XWP922LU12QJ7LPO\n",
      "Found: AMB2022-625-CBM-B2-0-XY.10-4  ==>  https://ambench2022.nist.gov/pid/rest/local/cdcs/TNFDXTMFGC2MT6SH\n",
      "Found: AMB2022-625-CBM-B2-0-XY.20-1  ==>  https://ambench2022.nist.gov/pid/rest/local/cdcs/LDTSU3SSW206W69L\n",
      "Found: AMB2022-625-CBM-B2-0-XY.20-2  ==>  https://ambench2022.nist.gov/pid/rest/local/cdcs/99FLF9AHF4HWXQSV\n",
      "Found: AMB2022-625-CBM-B2-0-XY.20-3  ==>  https://ambench2022.nist.gov/pid/rest/local/cdcs/X8OGMLC3M6E273BI\n",
      "Found: AMB2022-625-CBM-B2-0-XY.20-4  ==>  https://ambench2022.nist.gov/pid/rest/local/cdcs/BSK161L9DWNJIRUC\n",
      "Found: AMB2022-625-CBM-B2-30-XY.01-1  ==>  https://ambench2022.nist.gov/pid/rest/local/cdcs/SK4353K6M7B9OXNH\n",
      "Found: AMB2022-625-CBM-B2-30-XY.01-2  ==>  https://ambench2022.nist.gov/pid/rest/local/cdcs/8GTOJCY9DNJB9NI9\n",
      "Found: AMB2022-625-CBM-B2-30-XY.01-3  ==>  https://ambench2022.nist.gov/pid/rest/local/cdcs/46PTJ5Z638I8P6M6\n",
      "Found: AMB2022-625-CBM-B2-30-XY.01-4  ==>  https://ambench2022.nist.gov/pid/rest/local/cdcs/Y0GXV4V5P0T15UXD\n",
      "Found: AMB2022-625-CBM-B2-30-XY.12-1  ==>  https://ambench2022.nist.gov/pid/rest/local/cdcs/BV1HC5OJ1U6OKHQG\n",
      "Found: AMB2022-625-CBM-B2-30-XY.12-2  ==>  https://ambench2022.nist.gov/pid/rest/local/cdcs/PASWLQMJED953K6X\n",
      "Found: AMB2022-625-CBM-B2-30-XY.12-3  ==>  https://ambench2022.nist.gov/pid/rest/local/cdcs/ZQRNENQPJNIQWLSX\n",
      "Found: AMB2022-625-CBM-B2-30-XY.18-1  ==>  https://ambench2022.nist.gov/pid/rest/local/cdcs/1O1BJT9ZXQPWTEF6\n",
      "Found: AMB2022-625-CBM-B2-30-XY.18-2  ==>  https://ambench2022.nist.gov/pid/rest/local/cdcs/KB5FZS6REPPGV0WJ\n",
      "Found: AMB2022-625-CBM-B2-45-XY.02-1  ==>  https://ambench2022.nist.gov/pid/rest/local/cdcs/0KWVIFMB1TE1100P\n",
      "Found: AMB2022-625-CBM-B2-45-XY.02-2  ==>  https://ambench2022.nist.gov/pid/rest/local/cdcs/7OLIBXXAEPXEIZLY\n",
      "Found: AMB2022-625-CBM-B2-45-XY.02-3  ==>  https://ambench2022.nist.gov/pid/rest/local/cdcs/YK49RRTO1HD8SUX2\n",
      "Found: AMB2022-625-CBM-B2-45-XY.02-4  ==>  https://ambench2022.nist.gov/pid/rest/local/cdcs/CB1LQ0CAN8OJWU2U\n",
      "Found: AMB2022-625-CBM-B2-45-XY.08-1  ==>  https://ambench2022.nist.gov/pid/rest/local/cdcs/FLZM076QA4NPRFA2\n",
      "Found: AMB2022-625-CBM-B2-45-XY.08-2  ==>  https://ambench2022.nist.gov/pid/rest/local/cdcs/41TJNNPRPECN4VNU\n",
      "Found: AMB2022-625-CBM-B2-45-XY.08-3  ==>  https://ambench2022.nist.gov/pid/rest/local/cdcs/I4N35PX4SJLO991X\n",
      "Found: AMB2022-625-CBM-B2-45-XY.08-4  ==>  https://ambench2022.nist.gov/pid/rest/local/cdcs/3O78K98QVBB5BQ9J\n",
      "Found: AMB2022-625-CBM-B2-45-XY.13-1  ==>  https://ambench2022.nist.gov/pid/rest/local/cdcs/ZKYJL3IIQIPW77OK\n",
      "Found: AMB2022-625-CBM-B2-45-XY.13-2  ==>  https://ambench2022.nist.gov/pid/rest/local/cdcs/GNKR191LVZXCOV4L\n",
      "Found: AMB2022-625-CBM-B2-45-XY.13-3  ==>  https://ambench2022.nist.gov/pid/rest/local/cdcs/02ZFY4GC9SCUHRGN\n",
      "Found: AMB2022-625-CBM-B2-45-XY.13-4  ==>  https://ambench2022.nist.gov/pid/rest/local/cdcs/QS5AZKDDV6XCJCV7\n",
      "Found: AMB2022-625-CBM-B2-60-X.05-1  ==>  https://ambench2022.nist.gov/pid/rest/local/cdcs/481DEX93L76CP4L2\n",
      "Found: AMB2022-625-CBM-B2-60-X.05-2  ==>  https://ambench2022.nist.gov/pid/rest/local/cdcs/2Q89XEBQG9QALDMK\n",
      "Found: AMB2022-625-CBM-B2-60-X.05-3  ==>  https://ambench2022.nist.gov/pid/rest/local/cdcs/LPP11UBYL5686SOM\n",
      "Found: AMB2022-625-CBM-B2-60-X.05-4  ==>  https://ambench2022.nist.gov/pid/rest/local/cdcs/RQXL6BV7WXTWS3QE\n",
      "Found: AMB2022-625-CBM-B2-60-X.12-1  ==>  https://ambench2022.nist.gov/pid/rest/local/cdcs/Z3OTE3BK77XGZ4DG\n",
      "Found: AMB2022-625-CBM-B2-60-X.12-2  ==>  https://ambench2022.nist.gov/pid/rest/local/cdcs/RSZ042HUHY2HUWFO\n",
      "Found: AMB2022-625-CBM-B2-60-X.12-3  ==>  https://ambench2022.nist.gov/pid/rest/local/cdcs/Y4M3OM17M235U3JY\n",
      "Found: AMB2022-625-CBM-B2-60-X.12-4  ==>  https://ambench2022.nist.gov/pid/rest/local/cdcs/I24FW2BZO54X02WY\n",
      "Found: AMB2022-625-CBM-B2-60-X.14-1  ==>  https://ambench2022.nist.gov/pid/rest/local/cdcs/PWFKCXAH02SQAWDG\n",
      "Found: AMB2022-625-CBM-B2-60-X.14-2  ==>  https://ambench2022.nist.gov/pid/rest/local/cdcs/2GGKSK0HZUDM7MME\n",
      "Found: AMB2022-625-CBM-B2-60-X.14-3  ==>  https://ambench2022.nist.gov/pid/rest/local/cdcs/SMPCP1C5R5QF2FEO\n",
      "Found: AMB2022-625-CBM-B2-60-X.14-4  ==>  https://ambench2022.nist.gov/pid/rest/local/cdcs/F9F9273FV11EI02H\n",
      "Found: AMB2022-625-CBM-B2-60-XY.04-1  ==>  https://ambench2022.nist.gov/pid/rest/local/cdcs/CF3YA9D53E5WPGZV\n",
      "Found: AMB2022-625-CBM-B2-60-XY.04-2  ==>  https://ambench2022.nist.gov/pid/rest/local/cdcs/4FZ20U9HIOSG49W7\n",
      "Found: AMB2022-625-CBM-B2-60-XY.04-3  ==>  https://ambench2022.nist.gov/pid/rest/local/cdcs/R6CM9RF0XVBR2HAK\n",
      "Found: AMB2022-625-CBM-B2-60-XY.04-4  ==>  https://ambench2022.nist.gov/pid/rest/local/cdcs/7QT6KV7D72QMT0NS\n",
      "Found: AMB2022-625-CBM-B2-60-XY.09-1  ==>  https://ambench2022.nist.gov/pid/rest/local/cdcs/KE3EW0KND5E1DCBY\n",
      "Found: AMB2022-625-CBM-B2-60-XY.09-2  ==>  https://ambench2022.nist.gov/pid/rest/local/cdcs/L5HV151RQ7TIREF0\n",
      "Found: AMB2022-625-CBM-B2-60-XY.09-3  ==>  https://ambench2022.nist.gov/pid/rest/local/cdcs/D4Q7O3PG7BRCDZEY\n",
      "Found: AMB2022-625-CBM-B2-60-XY.09-4  ==>  https://ambench2022.nist.gov/pid/rest/local/cdcs/0OTU7Q78ADS7YLKI\n",
      "Found: AMB2022-625-CBM-B2-60-XY.15-1  ==>  https://ambench2022.nist.gov/pid/rest/local/cdcs/SB7UXHCWCJJBYY15\n"
     ]
    },
    {
     "name": "stdout",
     "output_type": "stream",
     "text": [
      "Found: AMB2022-625-CBM-B2-60-XY.15-2  ==>  https://ambench2022.nist.gov/pid/rest/local/cdcs/T4I1J94R5C2JQS94\n",
      "Found: AMB2022-625-CBM-B2-60-XY.15-3  ==>  https://ambench2022.nist.gov/pid/rest/local/cdcs/O07C6MB2PXPCB2NN\n",
      "Found: AMB2022-625-CBM-B2-60-XY.15-4  ==>  https://ambench2022.nist.gov/pid/rest/local/cdcs/1JJINZP831GA7TS0\n",
      "Found: AMB2022-625-CBM-B2-90-X.08-1  ==>  https://ambench2022.nist.gov/pid/rest/local/cdcs/9UWZQBL1ZF49BYQR\n",
      "Found: AMB2022-625-CBM-B2-90-X.08-2  ==>  https://ambench2022.nist.gov/pid/rest/local/cdcs/7L10AN16ZKMFSRK6\n",
      "Found: AMB2022-625-CBM-B2-90-X.08-3  ==>  https://ambench2022.nist.gov/pid/rest/local/cdcs/775WOUV3IM3VTXBA\n",
      "Found: AMB2022-625-CBM-B2-90-X.08-4  ==>  https://ambench2022.nist.gov/pid/rest/local/cdcs/8TBQS2KS6PHWB0VW\n",
      "Found: AMB2022-625-CBM-B2-90-X.13-1  ==>  https://ambench2022.nist.gov/pid/rest/local/cdcs/7CQAHLIQI7RG2H86\n",
      "Found: AMB2022-625-CBM-B2-90-X.13-2  ==>  https://ambench2022.nist.gov/pid/rest/local/cdcs/BKNDTXBQNO8W0PH3\n",
      "Found: AMB2022-625-CBM-B2-90-X.13-3  ==>  https://ambench2022.nist.gov/pid/rest/local/cdcs/BAUFRJ8NTC8CLE5R\n",
      "Found: AMB2022-625-CBM-B2-90-X.13-4  ==>  https://ambench2022.nist.gov/pid/rest/local/cdcs/CSD95FYIS30UCM5V\n",
      "Found: AMB2022-625-CBM-B2-90-X.19-1  ==>  https://ambench2022.nist.gov/pid/rest/local/cdcs/Y2A8Y0G701TJ1BVG\n",
      "Found: AMB2022-625-CBM-B2-90-X.19-2  ==>  https://ambench2022.nist.gov/pid/rest/local/cdcs/528T5O8KIX11S3TV\n",
      "Found: AMB2022-625-CBM-B2-90-X.19-3  ==>  https://ambench2022.nist.gov/pid/rest/local/cdcs/D4MUB994UGT9PGLF\n",
      "Found: AMB2022-625-CBM-B2-90-X.19-4  ==>  https://ambench2022.nist.gov/pid/rest/local/cdcs/0PHNCKT4ZVU6CXSM\n",
      "Found: AMB2022-625-CBM-B2-90-XY.07-1  ==>  https://ambench2022.nist.gov/pid/rest/local/cdcs/HNAAMWZK51JJT7NS\n",
      "Found: AMB2022-625-CBM-B2-90-XY.07-2  ==>  https://ambench2022.nist.gov/pid/rest/local/cdcs/31TCSO16E3PZ7STJ\n",
      "Found: AMB2022-625-CBM-B2-90-XY.07-3  ==>  https://ambench2022.nist.gov/pid/rest/local/cdcs/APO76KKNC6VJ53JZ\n",
      "Found: AMB2022-625-CBM-B2-90-XY.07-4  ==>  https://ambench2022.nist.gov/pid/rest/local/cdcs/7TVXYWFAQZRX10W1\n",
      "Found: AMB2022-625-CBM-B2-90-XY.16-1  ==>  https://ambench2022.nist.gov/pid/rest/local/cdcs/VPJRJOWTSAONLCWM\n",
      "Found: AMB2022-625-CBM-B2-90-XY.16-2  ==>  https://ambench2022.nist.gov/pid/rest/local/cdcs/1YM8MEUUZ8926FJO\n",
      "Found: AMB2022-625-CBM-B2-90-XY.16-3  ==>  https://ambench2022.nist.gov/pid/rest/local/cdcs/ZRID4HLDR3ESFD4K\n",
      "Found: AMB2022-625-CBM-B2-90-XY.16-4  ==>  https://ambench2022.nist.gov/pid/rest/local/cdcs/Z0MW0AQVNBJW8T6E\n",
      "Found: AMB2022-625-CBM-B2-90-XY.17-1  ==>  https://ambench2022.nist.gov/pid/rest/local/cdcs/7W98OVJP4YVLZF6T\n",
      "Found: AMB2022-625-CBM-B2-90-XY.17-2  ==>  https://ambench2022.nist.gov/pid/rest/local/cdcs/1GJMN8QRS6NIYSHH\n",
      "Found: AMB2022-625-CBM-B2-90-XY.17-3  ==>  https://ambench2022.nist.gov/pid/rest/local/cdcs/MO81I19EPI9B2FGF\n",
      "Found: AMB2022-625-CBM-B2-90-XY.17-4  ==>  https://ambench2022.nist.gov/pid/rest/local/cdcs/OU0L7OGQQBO0CVEB\n",
      "Found: AMB2022-718-AMMT-B6-P1-L1  ==>  https://ambench2022.nist.gov/pid/rest/local/cdcs/XW4PH4IXQTG8YHCL\n",
      "Found: AMB2022-718-AMMT-B6-P1-L10-W1  ==>  https://ambench2022.nist.gov/pid/rest/local/cdcs/ACWC5VMC5WVL6MJ5\n",
      "Found: AMB2022-718-AMMT-B6-P1-L10-W2  ==>  https://ambench2022.nist.gov/pid/rest/local/cdcs/T3LU285FV3220EBG\n",
      "Found: AMB2022-718-AMMT-B6-P1-L10-W3  ==>  https://ambench2022.nist.gov/pid/rest/local/cdcs/P3LOS47L8B2TPI1K\n",
      "Found: AMB2022-718-AMMT-B6-P1-L10-W4  ==>  https://ambench2022.nist.gov/pid/rest/local/cdcs/INKWS7BU2W6S1NJC\n",
      "Found: AMB2022-718-AMMT-B6-P1-L11  ==>  https://ambench2022.nist.gov/pid/rest/local/cdcs/0B24W2U8JLFDZ34E\n",
      "Found: AMB2022-718-AMMT-B6-P1-L12  ==>  https://ambench2022.nist.gov/pid/rest/local/cdcs/DCPLL1V55ZF9YYSQ\n",
      "Found: AMB2022-718-AMMT-B6-P1-L2  ==>  https://ambench2022.nist.gov/pid/rest/local/cdcs/EC7FFB16S68N6BAA\n",
      "Found: AMB2022-718-AMMT-B6-P1-L3  ==>  https://ambench2022.nist.gov/pid/rest/local/cdcs/JTCNG79K0N3JCV2G\n",
      "Found: AMB2022-718-AMMT-B6-P1-L4  ==>  https://ambench2022.nist.gov/pid/rest/local/cdcs/Y4P49TJV5EZR6R36\n",
      "Found: AMB2022-718-AMMT-B6-P1-L5  ==>  https://ambench2022.nist.gov/pid/rest/local/cdcs/D9QMQT61IDD41VGO\n",
      "Found: AMB2022-718-AMMT-B6-P1-L6  ==>  https://ambench2022.nist.gov/pid/rest/local/cdcs/UF87KWNW78AXF2QK\n",
      "Found: AMB2022-718-AMMT-B6-P1-L7  ==>  https://ambench2022.nist.gov/pid/rest/local/cdcs/H1JR82GZW5C6AEY6\n",
      "Found: AMB2022-718-AMMT-B6-P1-L8  ==>  https://ambench2022.nist.gov/pid/rest/local/cdcs/Z4HPOU7LKGR9Y9RK\n",
      "Found: AMB2022-718-AMMT-B6-P1-L9  ==>  https://ambench2022.nist.gov/pid/rest/local/cdcs/GU3Z6C2F6AX02UHC\n",
      "Found: AMB2022-718-AMMT-B6-P2-L1  ==>  https://ambench2022.nist.gov/pid/rest/local/cdcs/WXVWVM83A1JBWDA3\n",
      "Found: AMB2022-718-AMMT-B6-P2-L10-W1  ==>  https://ambench2022.nist.gov/pid/rest/local/cdcs/39822OHLDFIV6DLY\n",
      "Did not find: AMB2022-718-AMMT-B6-P2-L10-W2\n",
      "Found: AMB2022-718-AMMT-B6-P2-L10-W3  ==>  https://ambench2022.nist.gov/pid/rest/local/cdcs/VMO1ZO6HYEE11ZW9\n",
      "Did not find: AMB2022-718-AMMT-B6-P2-L10-W4\n",
      "Found: AMB2022-718-AMMT-B6-P2-L11  ==>  https://ambench2022.nist.gov/pid/rest/local/cdcs/ZV55I3ESIQ527BDN\n",
      "Found: AMB2022-718-AMMT-B6-P2-L12  ==>  https://ambench2022.nist.gov/pid/rest/local/cdcs/SH0B3Z3C0INAS6DR\n",
      "Found: AMB2022-718-AMMT-B6-P2-L2  ==>  https://ambench2022.nist.gov/pid/rest/local/cdcs/KAZVJW336N5O2N5K\n",
      "Found: AMB2022-718-AMMT-B6-P2-L3  ==>  https://ambench2022.nist.gov/pid/rest/local/cdcs/CIJFRBQF8J1FCB2I\n",
      "Found: AMB2022-718-AMMT-B6-P2-L4  ==>  https://ambench2022.nist.gov/pid/rest/local/cdcs/OXTWF1IMWYFGFT07\n",
      "Found: AMB2022-718-AMMT-B6-P2-L5  ==>  https://ambench2022.nist.gov/pid/rest/local/cdcs/DNAL4N4SEICJ6MB7\n",
      "Did not find: AMB2022-718-AMMT-B6-P2-L6\n",
      "Found: AMB2022-718-AMMT-B6-P2-L7  ==>  https://ambench2022.nist.gov/pid/rest/local/cdcs/SOP0ERUYM72O1IWD\n",
      "Found: AMB2022-718-AMMT-B6-P2-L8  ==>  https://ambench2022.nist.gov/pid/rest/local/cdcs/OH3ODGRLNQO3QDK7\n",
      "Found: AMB2022-718-AMMT-B6-P2-L9  ==>  https://ambench2022.nist.gov/pid/rest/local/cdcs/TTO57SBRSSO25T5S\n",
      "Found: AMB2022-718-AMMT-B6-P3-L1  ==>  https://ambench2022.nist.gov/pid/rest/local/cdcs/V4OR88O44EM8BQWG\n",
      "Found: AMB2022-718-AMMT-B6-P3-L10-W1  ==>  https://ambench2022.nist.gov/pid/rest/local/cdcs/TFXL3YLS9O46BLMC\n",
      "Found: AMB2022-718-AMMT-B6-P3-L10-W2  ==>  https://ambench2022.nist.gov/pid/rest/local/cdcs/3J8ZIC6HSMT1JPTA\n",
      "Found: AMB2022-718-AMMT-B6-P3-L10-W3  ==>  https://ambench2022.nist.gov/pid/rest/local/cdcs/MSLBOH13C00S3VEF\n",
      "Found: AMB2022-718-AMMT-B6-P3-L10-W4  ==>  https://ambench2022.nist.gov/pid/rest/local/cdcs/9NB2F8O88EJOKQB2\n",
      "Found: AMB2022-718-AMMT-B6-P3-L11  ==>  https://ambench2022.nist.gov/pid/rest/local/cdcs/SUTLQ4UL932ULQ65\n",
      "Found: AMB2022-718-AMMT-B6-P3-L12  ==>  https://ambench2022.nist.gov/pid/rest/local/cdcs/2Y4I6ATATL23KIE6\n",
      "Found: AMB2022-718-AMMT-B6-P3-L2  ==>  https://ambench2022.nist.gov/pid/rest/local/cdcs/OS02XIX0QF0VDF50\n",
      "Found: AMB2022-718-AMMT-B6-P3-L3  ==>  https://ambench2022.nist.gov/pid/rest/local/cdcs/UNW328F02J9Z48TN\n",
      "Found: AMB2022-718-AMMT-B6-P3-L4  ==>  https://ambench2022.nist.gov/pid/rest/local/cdcs/7N0RLFU9ACHC4Y4E\n",
      "Found: AMB2022-718-AMMT-B6-P3-L5  ==>  https://ambench2022.nist.gov/pid/rest/local/cdcs/Q0J9CLPABHROVE4L\n",
      "Found: AMB2022-718-AMMT-B6-P3-L6  ==>  https://ambench2022.nist.gov/pid/rest/local/cdcs/6RY5EQULFAGKJWZR\n",
      "Found: AMB2022-718-AMMT-B6-P3-L7  ==>  https://ambench2022.nist.gov/pid/rest/local/cdcs/IQHHYQZ7QLTAW40I\n",
      "Found: AMB2022-718-AMMT-B6-P3-L8  ==>  https://ambench2022.nist.gov/pid/rest/local/cdcs/LTXOCTU52AI0LBTN\n",
      "Found: AMB2022-718-AMMT-B6-P3-L9  ==>  https://ambench2022.nist.gov/pid/rest/local/cdcs/GM6OGLBD8AS6SQCN\n",
      "Found: AMB2022-718-AMMT-B6-P3-O1  ==>  https://ambench2022.nist.gov/pid/rest/local/cdcs/UZ11YEUQE7S7CNLP\n",
      "Found: AMB2022-718-AMMT-B6-P3-O2  ==>  https://ambench2022.nist.gov/pid/rest/local/cdcs/PFTRWXMBXRHV1ASU\n",
      "Found: AMB2022-718-AMMT-B6-P4-L1  ==>  https://ambench2022.nist.gov/pid/rest/local/cdcs/ITWPRMKZ1J50033B\n",
      "Found: AMB2022-718-AMMT-B6-P4-L10-W1  ==>  https://ambench2022.nist.gov/pid/rest/local/cdcs/QIHGKPE407YKA3JW\n",
      "Found: AMB2022-718-AMMT-B6-P4-L10-W2  ==>  https://ambench2022.nist.gov/pid/rest/local/cdcs/9JLP0F1PLUEM52HC\n",
      "Found: AMB2022-718-AMMT-B6-P4-L10-W3  ==>  https://ambench2022.nist.gov/pid/rest/local/cdcs/K1I2W164KAV7CWY5\n",
      "Found: AMB2022-718-AMMT-B6-P4-L10-W4  ==>  https://ambench2022.nist.gov/pid/rest/local/cdcs/77Q8LK7L1RZZ1W2J\n",
      "Found: AMB2022-718-AMMT-B6-P4-L11  ==>  https://ambench2022.nist.gov/pid/rest/local/cdcs/OPBYST2Z6GTQB6PR\n"
     ]
    },
    {
     "name": "stdout",
     "output_type": "stream",
     "text": [
      "Found: AMB2022-718-AMMT-B6-P4-L12  ==>  https://ambench2022.nist.gov/pid/rest/local/cdcs/M88U34XLE20E2RSY\n",
      "Found: AMB2022-718-AMMT-B6-P4-L2  ==>  https://ambench2022.nist.gov/pid/rest/local/cdcs/S37P7UQRHQPPPFTW\n",
      "Found: AMB2022-718-AMMT-B6-P4-L3  ==>  https://ambench2022.nist.gov/pid/rest/local/cdcs/FEOKRWYNIAOVEGGQ\n",
      "Found: AMB2022-718-AMMT-B6-P4-L4  ==>  https://ambench2022.nist.gov/pid/rest/local/cdcs/S108V9NST8L7EULL\n",
      "Found: AMB2022-718-AMMT-B6-P4-L5  ==>  https://ambench2022.nist.gov/pid/rest/local/cdcs/Z5WXPI4KPW9WKQQW\n",
      "Found: AMB2022-718-AMMT-B6-P4-L6  ==>  https://ambench2022.nist.gov/pid/rest/local/cdcs/TXGC9FL1RBBOXEUR\n",
      "Found: AMB2022-718-AMMT-B6-P4-L7  ==>  https://ambench2022.nist.gov/pid/rest/local/cdcs/OHJQQ62JN8VNOW2K\n",
      "Found: AMB2022-718-AMMT-B6-P4-L8  ==>  https://ambench2022.nist.gov/pid/rest/local/cdcs/D93U63Z62MU2QGUX\n",
      "Found: AMB2022-718-AMMT-B6-P4-L9  ==>  https://ambench2022.nist.gov/pid/rest/local/cdcs/F2BM53DV1E6CXBBQ\n",
      "Found: AMB2022-718-AMMT-B7-P1-L1  ==>  https://ambench2022.nist.gov/pid/rest/local/cdcs/MVKKMMNKXRYWVGK4\n",
      "Found: AMB2022-718-AMMT-B7-P1-L10-W1  ==>  https://ambench2022.nist.gov/pid/rest/local/cdcs/UIOCNE7KYDARX1D9\n",
      "Found: AMB2022-718-AMMT-B7-P1-L10-W2  ==>  https://ambench2022.nist.gov/pid/rest/local/cdcs/BT5RTLVLOSOO7TAK\n",
      "Found: AMB2022-718-AMMT-B7-P1-L10-W3  ==>  https://ambench2022.nist.gov/pid/rest/local/cdcs/8X639B7FBL6605B5\n",
      "Found: AMB2022-718-AMMT-B7-P1-L10-W4  ==>  https://ambench2022.nist.gov/pid/rest/local/cdcs/06XQ0028F137JE5H\n",
      "Found: AMB2022-718-AMMT-B7-P1-L11  ==>  https://ambench2022.nist.gov/pid/rest/local/cdcs/NCUVNECKVMWCGN7Z\n",
      "Found: AMB2022-718-AMMT-B7-P1-L12  ==>  https://ambench2022.nist.gov/pid/rest/local/cdcs/9Q9KDG4PF8EA6AUN\n",
      "Found: AMB2022-718-AMMT-B7-P1-L2  ==>  https://ambench2022.nist.gov/pid/rest/local/cdcs/R66GFVH2DC1QX1L7\n",
      "Found: AMB2022-718-AMMT-B7-P1-L3  ==>  https://ambench2022.nist.gov/pid/rest/local/cdcs/LNESPI5K1B5V1PCI\n",
      "Found: AMB2022-718-AMMT-B7-P1-L4  ==>  https://ambench2022.nist.gov/pid/rest/local/cdcs/9ELHX1JYMWCRXDSY\n",
      "Found: AMB2022-718-AMMT-B7-P1-L5  ==>  https://ambench2022.nist.gov/pid/rest/local/cdcs/22HBVQMI8BLV0H6D\n",
      "Found: AMB2022-718-AMMT-B7-P1-L6  ==>  https://ambench2022.nist.gov/pid/rest/local/cdcs/XYIJGS52VN6YL0ZN\n",
      "Found: AMB2022-718-AMMT-B7-P1-L7  ==>  https://ambench2022.nist.gov/pid/rest/local/cdcs/2QZIFSX1PRX1W7BT\n",
      "Found: AMB2022-718-AMMT-B7-P1-L7-L8-L9-O1  ==>  https://ambench2022.nist.gov/pid/rest/local/cdcs/R08DIO0MJLALXUKY\n",
      "Found: AMB2022-718-AMMT-B7-P1-L7-L8-L9-O2  ==>  https://ambench2022.nist.gov/pid/rest/local/cdcs/2VFF2G7BBSZWS8GI\n",
      "Found: AMB2022-718-AMMT-B7-P1-L8  ==>  https://ambench2022.nist.gov/pid/rest/local/cdcs/ZNUJP0GDCANC2VXT\n",
      "Found: AMB2022-718-AMMT-B7-P1-L9  ==>  https://ambench2022.nist.gov/pid/rest/local/cdcs/OTYQ58TUP737HZWI\n",
      "Found: AMB2022-718-AMMT-B8-P1-L1  ==>  https://ambench2022.nist.gov/pid/rest/local/cdcs/8YJ38JEVNGUZXVHV\n",
      "Found: AMB2022-718-AMMT-B8-P1-L10  ==>  https://ambench2022.nist.gov/pid/rest/local/cdcs/MG8PS8YQGQ7SCXRU\n",
      "Found: AMB2022-718-AMMT-B8-P1-L8  ==>  https://ambench2022.nist.gov/pid/rest/local/cdcs/0YEOM3V0HMID74CS\n",
      "Found: AMB2022-718-AMMT-B8-P1-L9-O1  ==>  https://ambench2022.nist.gov/pid/rest/local/cdcs/DOYWMPQITW3NEO1G\n",
      "Found: AMB2022-718-AMMT-B8-P2-L1-L2-L3  ==>  https://ambench2022.nist.gov/pid/rest/local/cdcs/EMS9ZLZNLZRCWW33\n",
      "Found: AMB2022-718-AMMT-B8-P2-L10  ==>  https://ambench2022.nist.gov/pid/rest/local/cdcs/BEWWY28L1DQIRW0V\n",
      "Found: AMB2022-718-AMMT-B8-P2-L11  ==>  https://ambench2022.nist.gov/pid/rest/local/cdcs/XA9H7YX0EFBKGK14\n",
      "Found: AMB2022-718-AMMT-B8-P2-L12  ==>  https://ambench2022.nist.gov/pid/rest/local/cdcs/C9LEWGS82H27OTI5\n",
      "Found: AMB2022-718-AMMT-B8-P2-L4-L5-L6  ==>  https://ambench2022.nist.gov/pid/rest/local/cdcs/87VHD8AEDGDSJGBY\n",
      "Found: AMB2022-718-AMMT-B8-P2-L7  ==>  https://ambench2022.nist.gov/pid/rest/local/cdcs/VDSTLX0KNPG4JWI3\n",
      "Found: AMB2022-718-AMMT-B8-P2-L8  ==>  https://ambench2022.nist.gov/pid/rest/local/cdcs/X0TKQ19S0ZTP1MSO\n",
      "Found: AMB2022-718-AMMT-B8-P2-L9  ==>  https://ambench2022.nist.gov/pid/rest/local/cdcs/086KGHXAXKR3U9ZF\n",
      "Found: AMB2022-718-AMMT-B8-P3-L1  ==>  https://ambench2022.nist.gov/pid/rest/local/cdcs/1RI1QSRA9AUMX917\n",
      "Found: AMB2022-718-AMMT-B8-P3-L10-W1  ==>  https://ambench2022.nist.gov/pid/rest/local/cdcs/E21SE1QTBDZOZG1B\n",
      "Found: AMB2022-718-AMMT-B8-P3-L10-W2  ==>  https://ambench2022.nist.gov/pid/rest/local/cdcs/FGJZ5MMZ7NIEH1YJ\n",
      "Found: AMB2022-718-AMMT-B8-P3-L10-W3  ==>  https://ambench2022.nist.gov/pid/rest/local/cdcs/XZXTO25D7899ZPID\n",
      "Found: AMB2022-718-AMMT-B8-P3-L10-W4  ==>  https://ambench2022.nist.gov/pid/rest/local/cdcs/LA6HRU261SLHU2DX\n",
      "Found: AMB2022-718-AMMT-B8-P3-L11  ==>  https://ambench2022.nist.gov/pid/rest/local/cdcs/TI15XLNSK628E4LN\n",
      "Found: AMB2022-718-AMMT-B8-P3-L12  ==>  https://ambench2022.nist.gov/pid/rest/local/cdcs/FPBTAPBL90KH0I3N\n",
      "Found: AMB2022-718-AMMT-B8-P3-L2  ==>  https://ambench2022.nist.gov/pid/rest/local/cdcs/DY66IUVUQA2VXP7K\n",
      "Found: AMB2022-718-AMMT-B8-P3-L3  ==>  https://ambench2022.nist.gov/pid/rest/local/cdcs/0YVB2RIMZRSC0UO8\n",
      "Found: AMB2022-718-AMMT-B8-P3-L4  ==>  https://ambench2022.nist.gov/pid/rest/local/cdcs/J3A6HNONOTIA0S9E\n",
      "Found: AMB2022-718-AMMT-B8-P3-L5  ==>  https://ambench2022.nist.gov/pid/rest/local/cdcs/3NRMCNXLRSFUUIUE\n",
      "Found: AMB2022-718-AMMT-B8-P3-L6  ==>  https://ambench2022.nist.gov/pid/rest/local/cdcs/C16SWV69R4BJIJYG\n",
      "Found: AMB2022-718-AMMT-B8-P3-L7  ==>  https://ambench2022.nist.gov/pid/rest/local/cdcs/Y29H83AEVNG67XJ8\n",
      "Found: AMB2022-718-AMMT-B8-P3-L8  ==>  https://ambench2022.nist.gov/pid/rest/local/cdcs/BROMMD3AY46SBFN0\n",
      "Found: AMB2022-718-AMMT-B8-P3-L9  ==>  https://ambench2022.nist.gov/pid/rest/local/cdcs/IQ2TKRVKOJ394789\n",
      "Found: AMB2022-718-AMMT-B8-P4-L1  ==>  https://ambench2022.nist.gov/pid/rest/local/cdcs/CKP05MRR3Z02PZTB\n",
      "Found: AMB2022-718-AMMT-B8-P4-L10-W1  ==>  https://ambench2022.nist.gov/pid/rest/local/cdcs/8J913NEWEINFESSR\n",
      "Found: AMB2022-718-AMMT-B8-P4-L10-W2  ==>  https://ambench2022.nist.gov/pid/rest/local/cdcs/TV580VA8VUKWW4B8\n",
      "Found: AMB2022-718-AMMT-B8-P4-L10-W3  ==>  https://ambench2022.nist.gov/pid/rest/local/cdcs/SWKTT0S9IXK54RXY\n",
      "Found: AMB2022-718-AMMT-B8-P4-L10-W4  ==>  https://ambench2022.nist.gov/pid/rest/local/cdcs/OVTK9QAMI5OMPKCQ\n",
      "Found: AMB2022-718-AMMT-B8-P4-L11  ==>  https://ambench2022.nist.gov/pid/rest/local/cdcs/O2JWQBEVH9ADSSMP\n",
      "Found: AMB2022-718-AMMT-B8-P4-L12  ==>  https://ambench2022.nist.gov/pid/rest/local/cdcs/QOICVYTSFLYHT3G0\n",
      "Found: AMB2022-718-AMMT-B8-P4-L2  ==>  https://ambench2022.nist.gov/pid/rest/local/cdcs/T465G0YLMWK8QU5L\n",
      "Found: AMB2022-718-AMMT-B8-P4-L3  ==>  https://ambench2022.nist.gov/pid/rest/local/cdcs/U8GEVE8SRLIORFZV\n",
      "Found: AMB2022-718-AMMT-B8-P4-L4  ==>  https://ambench2022.nist.gov/pid/rest/local/cdcs/C5IM9Y4HHOTFTCHE\n",
      "Found: AMB2022-718-AMMT-B8-P4-L5  ==>  https://ambench2022.nist.gov/pid/rest/local/cdcs/Q6L0D32XEMZVQDW8\n",
      "Found: AMB2022-718-AMMT-B8-P4-L6  ==>  https://ambench2022.nist.gov/pid/rest/local/cdcs/OY4N59O63R3ET6BK\n",
      "Found: AMB2022-718-AMMT-B8-P4-L7  ==>  https://ambench2022.nist.gov/pid/rest/local/cdcs/ELQ809SYI24UDPDA\n",
      "Found: AMB2022-718-AMMT-B8-P4-L8  ==>  https://ambench2022.nist.gov/pid/rest/local/cdcs/AR9X3O6YVPOUONFA\n",
      "Found: AMB2022-718-AMMT-B8-P4-L9  ==>  https://ambench2022.nist.gov/pid/rest/local/cdcs/2XZG8JNTJH43HZPQ\n",
      "Found: AMB2022-718-SH1-BP1  ==>  https://ambench2022.nist.gov/pid/rest/local/cdcs/MRX3GWUS8IFQJZ8F\n",
      "Found: AMB2022-718-SH1-BP2  ==>  https://ambench2022.nist.gov/pid/rest/local/cdcs/KOUB09S8A4H03HC3\n",
      "Found: AMB2022-718-SH1-BP3  ==>  https://ambench2022.nist.gov/pid/rest/local/cdcs/U1BN13KEDBRAHY8B\n",
      "Found: AMB2022-718-SH1-BP4  ==>  https://ambench2022.nist.gov/pid/rest/local/cdcs/ZMQSODBQDPEPM4HQ\n",
      "Found: AMB2022-718-SH1-BP5  ==>  https://ambench2022.nist.gov/pid/rest/local/cdcs/PO0XDBC5CH3KGYFI\n",
      "Found: AMB2022-718-SH1-BP6  ==>  https://ambench2022.nist.gov/pid/rest/local/cdcs/D1YPER5K16TVZUWO\n"
     ]
    },
    {
     "name": "stderr",
     "output_type": "stream",
     "text": [
      "\r",
      " 91%|█████████ | 10/11 [00:00<?, ?it/s]"
     ]
    },
    {
     "name": "stdout",
     "output_type": "stream",
     "text": [
      "DOC_TYPE: AMComposition\n"
     ]
    },
    {
     "name": "stderr",
     "output_type": "stream",
     "text": [
      "100%|██████████| 11/11 [00:00<00:00,  6.27it/s]\n"
     ]
    },
    {
     "name": "stdout",
     "output_type": "stream",
     "text": [
      "Reading excel  2.869717836380005\n"
     ]
    },
    {
     "name": "stderr",
     "output_type": "stream",
     "text": [
      "100%|██████████| 31/31 [00:00<00:00, 49.20it/s]\n",
      "100%|██████████| 232/232 [00:04<00:00, 46.14it/s]\n",
      "100%|██████████| 89/89 [00:01<00:00, 58.14it/s]\n",
      "100%|██████████| 12/12 [00:00<00:00, 12.47it/s]\n"
     ]
    },
    {
     "name": "stdout",
     "output_type": "stream",
     "text": [
      "Upload pids  7.200128078460693\n",
      "Found: AMB2022-Composition-625-CBM-B1  ==>  https://ambench2022.nist.gov/pid/rest/local/cdcs/IMJZE3R8RO5TH1UV update doc from excel\n",
      "Found: AMB2022-Composition-625-CBM-B2  ==>  https://ambench2022.nist.gov/pid/rest/local/cdcs/TFV1IB90L387192H update doc from excel\n",
      "Found: AMB2022-Composition-718-AMMT-B6-G1  ==>  https://ambench2022.nist.gov/pid/rest/local/cdcs/QY9I4Y9GNU6RE4OM update doc from excel\n",
      "Found: AMB2022-Composition-718-AMMT-B8-G1  ==>  https://ambench2022.nist.gov/pid/rest/local/cdcs/EJHNWPVUMHI7OV6H update doc from excel\n",
      "Found: Composition-625-M051701  ==>  https://ambench2022.nist.gov/pid/rest/local/cdcs/Z15LK4TE26HB7CMV update doc from excel\n",
      "Found: Composition-625-M341901  ==>  https://ambench2022.nist.gov/pid/rest/local/cdcs/LJTEV30CQAB1SPWO update doc from excel\n",
      "Found: Composition-625-M421601  ==>  https://ambench2022.nist.gov/pid/rest/local/cdcs/YNA120FKF1ETADPW update doc from excel\n",
      "Found: Composition-718-K201801  ==>  https://ambench2022.nist.gov/pid/rest/local/cdcs/6Y1VILNQ3I7NUKDS update doc from excel\n",
      "Found: Composition-718-SH1  ==>  https://ambench2022.nist.gov/pid/rest/local/cdcs/41FK39HUDQTYMMWS update doc from excel\n",
      "Found: Composition-AA5182-D1  ==>  https://ambench2022.nist.gov/pid/rest/local/cdcs/285119Q3MO5NM1X7 update doc from excel\n",
      "Found: Composition-TI64-D1  ==>  https://ambench2022.nist.gov/pid/rest/local/cdcs/8TJLES21F3WJMKDP update doc from excel\n",
      "DOC_TYPE: AMLaserAbsorptivity\n",
      "Reading excel  3.0300376415252686\n"
     ]
    },
    {
     "name": "stderr",
     "output_type": "stream",
     "text": [
      "100%|██████████| 31/31 [00:00<00:00, 52.44it/s]\n",
      "100%|██████████| 232/232 [00:03<00:00, 56.03it/s]\n",
      "100%|██████████| 89/89 [00:01<00:00, 62.43it/s]\n",
      "100%|██████████| 12/12 [00:00<00:00, 15.72it/s]\n"
     ]
    },
    {
     "name": "stdout",
     "output_type": "stream",
     "text": [
      "Upload pids  6.320193290710449\n",
      "Found: A-AMB2022_Absorptivity_Al2c_061  ==>  https://ambench2022.nist.gov/pid/rest/local/cdcs/L8BMNDKVX8DKQEMF update doc from excel\n",
      "Found: A-AMB2022_Absorptivity_Al2g_065  ==>  https://ambench2022.nist.gov/pid/rest/local/cdcs/W75ZX5D8FA1UN70X update doc from excel\n",
      "Found: A-AMB2022_Absorptivity_Ti2f_015  ==>  https://ambench2022.nist.gov/pid/rest/local/cdcs/TI1684B7PP82ID71 update doc from excel\n",
      "Found: A-AMB2022_Absorptivity_Ti4d_031  ==>  https://ambench2022.nist.gov/pid/rest/local/cdcs/JS9IB22HC4LSBFWB update doc from excel\n",
      "DOC_TYPE: AMRadiography\n",
      "Reading excel  3.045515298843384\n"
     ]
    },
    {
     "name": "stderr",
     "output_type": "stream",
     "text": [
      "100%|██████████| 31/31 [00:00<00:00, 53.67it/s]\n",
      "100%|██████████| 232/232 [00:04<00:00, 45.39it/s]\n",
      "100%|██████████| 89/89 [00:01<00:00, 54.53it/s]\n",
      "100%|██████████| 12/12 [00:00<00:00, 16.38it/s]\n"
     ]
    },
    {
     "name": "stdout",
     "output_type": "stream",
     "text": [
      "Upload pids  7.357876777648926\n",
      "Found: A-AMB2022_Radiography_Al2c_061  ==>  https://ambench2022.nist.gov/pid/rest/local/cdcs/N4BAW7ID8NGTRQHK update doc from excel\n",
      "Found: A-AMB2022_Radiography_Al2g_065  ==>  https://ambench2022.nist.gov/pid/rest/local/cdcs/1XDD92OY83X7IMOJ update doc from excel\n",
      "Found: A-AMB2022_Radiography_Ti2f_015  ==>  https://ambench2022.nist.gov/pid/rest/local/cdcs/C5CAA8VPDWYF0GF8 update doc from excel\n",
      "Found: A-AMB2022_Radiography_Ti4d_031  ==>  https://ambench2022.nist.gov/pid/rest/local/cdcs/YL2TS0PN0T5B56XU update doc from excel\n",
      "DOC_TYPE: AMMechanicalTesting\n"
     ]
    },
    {
     "name": "stderr",
     "output_type": "stream",
     "text": [
      "100%|██████████| 100/100 [00:01<00:00, 49.88it/s]\n"
     ]
    },
    {
     "name": "stdout",
     "output_type": "stream",
     "text": [
      "Reading excel  3.085355043411255\n"
     ]
    },
    {
     "name": "stderr",
     "output_type": "stream",
     "text": [
      "100%|██████████| 31/31 [00:00<00:00, 52.34it/s]\n",
      "100%|██████████| 232/232 [00:03<00:00, 58.49it/s]\n",
      "100%|██████████| 89/89 [00:01<00:00, 60.84it/s]\n",
      "100%|██████████| 12/12 [00:00<00:00, 15.32it/s]\n"
     ]
    },
    {
     "name": "stdout",
     "output_type": "stream",
     "text": [
      "Upload pids  6.188572645187378\n",
      "Found: AMB2022_Mech-Testing_44519001  ==>  https://ambench2022.nist.gov/pid/rest/local/cdcs/8AJQPZXAX2MD83YA update doc from excel\n",
      "Found: AMB2022_Mech-Testing_44519002  ==>  https://ambench2022.nist.gov/pid/rest/local/cdcs/9KG30PFO133OE10N update doc from excel\n",
      "Found: AMB2022_Mech-Testing_44519003  ==>  https://ambench2022.nist.gov/pid/rest/local/cdcs/GBLHRU6WNCHG65R8 update doc from excel\n",
      "Found: AMB2022_Mech-Testing_44522001  ==>  https://ambench2022.nist.gov/pid/rest/local/cdcs/RJ6FMA4GC5EDRSSA update doc from excel\n",
      "Found: AMB2022_Mech-Testing_44522002  ==>  https://ambench2022.nist.gov/pid/rest/local/cdcs/JVOD3OUUBPYC8ZO9 update doc from excel\n",
      "Found: AMB2022_Mech-Testing_44522003  ==>  https://ambench2022.nist.gov/pid/rest/local/cdcs/GXK73SNYHQFRG5F2 update doc from excel\n",
      "Found: AMB2022_Mech-Testing_625-CBM-B1-TH1-F  ==>  https://ambench2022.nist.gov/pid/rest/local/cdcs/LT0F73ZNQW0QLBKX update doc from excel\n",
      "Found: AMB2022_Mech-Testing_625-CBM-B2-0-X.01-1  ==>  https://ambench2022.nist.gov/pid/rest/local/cdcs/SA1SJSBPWYSTGIKM update doc from excel\n",
      "Found: AMB2022_Mech-Testing_625-CBM-B2-0-X.01-2  ==>  https://ambench2022.nist.gov/pid/rest/local/cdcs/IY04UW1XA0J9ISS5 update doc from excel\n",
      "Found: AMB2022_Mech-Testing_625-CBM-B2-0-X.01-3  ==>  https://ambench2022.nist.gov/pid/rest/local/cdcs/PUXVO7YGMMWKQ84K update doc from excel\n",
      "Found: AMB2022_Mech-Testing_625-CBM-B2-0-X.01-4  ==>  https://ambench2022.nist.gov/pid/rest/local/cdcs/ZEWTGYI6HAQWSG12 update doc from excel\n",
      "Found: AMB2022_Mech-Testing_625-CBM-B2-0-X.11-1  ==>  https://ambench2022.nist.gov/pid/rest/local/cdcs/534Y6DR55Y2I6N9Z update doc from excel\n",
      "Found: AMB2022_Mech-Testing_625-CBM-B2-0-X.11-2  ==>  https://ambench2022.nist.gov/pid/rest/local/cdcs/YMJU6BDM0QQ5ISZQ update doc from excel\n",
      "Found: AMB2022_Mech-Testing_625-CBM-B2-0-X.11-3  ==>  https://ambench2022.nist.gov/pid/rest/local/cdcs/KVK2Q3ATQ6T8CHMW update doc from excel\n",
      "Found: AMB2022_Mech-Testing_625-CBM-B2-0-X.11-4  ==>  https://ambench2022.nist.gov/pid/rest/local/cdcs/7UG0XHKEOQJJTMQK update doc from excel\n",
      "Found: AMB2022_Mech-Testing_625-CBM-B2-0-X.20-1  ==>  https://ambench2022.nist.gov/pid/rest/local/cdcs/S5VYRGTK1F4OPYOM update doc from excel\n",
      "Found: AMB2022_Mech-Testing_625-CBM-B2-0-X.20-2  ==>  https://ambench2022.nist.gov/pid/rest/local/cdcs/5WTBC0NN4I8856QN update doc from excel\n",
      "Found: AMB2022_Mech-Testing_625-CBM-B2-0-X.20-3  ==>  https://ambench2022.nist.gov/pid/rest/local/cdcs/0VHT9YE0CG0QDGZA update doc from excel\n",
      "Found: AMB2022_Mech-Testing_625-CBM-B2-0-X.20-4  ==>  https://ambench2022.nist.gov/pid/rest/local/cdcs/RNW4UWLC76FPYP06 update doc from excel\n",
      "Found: AMB2022_Mech-Testing_625-CBM-B2-0-XY.05-1  ==>  https://ambench2022.nist.gov/pid/rest/local/cdcs/8G5BN16DSIVCPXYP update doc from excel\n",
      "Found: AMB2022_Mech-Testing_625-CBM-B2-0-XY.05-2  ==>  https://ambench2022.nist.gov/pid/rest/local/cdcs/GUZXE6DBIHI0SAD9 update doc from excel\n",
      "Found: AMB2022_Mech-Testing_625-CBM-B2-0-XY.05-3  ==>  https://ambench2022.nist.gov/pid/rest/local/cdcs/8IYBLGAZYK5B1JU0 update doc from excel\n",
      "Found: AMB2022_Mech-Testing_625-CBM-B2-0-XY.05-4  ==>  https://ambench2022.nist.gov/pid/rest/local/cdcs/UJXH0FC778DKZN8O update doc from excel\n",
      "Found: AMB2022_Mech-Testing_625-CBM-B2-0-XY.10-1  ==>  https://ambench2022.nist.gov/pid/rest/local/cdcs/93K803MB1FNS2IZ7 update doc from excel\n",
      "Found: AMB2022_Mech-Testing_625-CBM-B2-0-XY.10-2  ==>  https://ambench2022.nist.gov/pid/rest/local/cdcs/9N9RD27R4WA5XWL4 update doc from excel\n",
      "Found: AMB2022_Mech-Testing_625-CBM-B2-0-XY.10-3  ==>  https://ambench2022.nist.gov/pid/rest/local/cdcs/JFDCJHW1MD239FP6 update doc from excel\n",
      "Found: AMB2022_Mech-Testing_625-CBM-B2-0-XY.10-4  ==>  https://ambench2022.nist.gov/pid/rest/local/cdcs/FBZBZHX8QQ1ZUPJI update doc from excel\n",
      "Found: AMB2022_Mech-Testing_625-CBM-B2-0-XY.20-1  ==>  https://ambench2022.nist.gov/pid/rest/local/cdcs/CE1GMEK7GBBKEH0W update doc from excel\n",
      "Found: AMB2022_Mech-Testing_625-CBM-B2-0-XY.20-2  ==>  https://ambench2022.nist.gov/pid/rest/local/cdcs/C16KZC4SV1IG60LQ update doc from excel\n",
      "Found: AMB2022_Mech-Testing_625-CBM-B2-0-XY.20-3  ==>  https://ambench2022.nist.gov/pid/rest/local/cdcs/8Y0KYXXQOYK4OVSY update doc from excel\n",
      "Found: AMB2022_Mech-Testing_625-CBM-B2-0-XY.20-4  ==>  https://ambench2022.nist.gov/pid/rest/local/cdcs/KOMMX8F4DY941ZHU update doc from excel\n",
      "Found: AMB2022_Mech-Testing_625-CBM-B2-30-XY.01-1  ==>  https://ambench2022.nist.gov/pid/rest/local/cdcs/249BJO8V2GBIBCSN update doc from excel\n",
      "Found: AMB2022_Mech-Testing_625-CBM-B2-30-XY.01-2  ==>  https://ambench2022.nist.gov/pid/rest/local/cdcs/RBYTCT9U489EKGZ7 update doc from excel\n",
      "Found: AMB2022_Mech-Testing_625-CBM-B2-30-XY.01-3  ==>  https://ambench2022.nist.gov/pid/rest/local/cdcs/WS3PKL78ZKK1UPMJ update doc from excel\n",
      "Found: AMB2022_Mech-Testing_625-CBM-B2-30-XY.01-4  ==>  https://ambench2022.nist.gov/pid/rest/local/cdcs/90SVMANY24ONL5OM update doc from excel\n",
      "Found: AMB2022_Mech-Testing_625-CBM-B2-30-XY.12-1  ==>  https://ambench2022.nist.gov/pid/rest/local/cdcs/KWJJHRQZNXZ8WBB1 update doc from excel\n",
      "Found: AMB2022_Mech-Testing_625-CBM-B2-30-XY.12-2  ==>  https://ambench2022.nist.gov/pid/rest/local/cdcs/PGIQK9CF8P5AE7LE update doc from excel\n",
      "Found: AMB2022_Mech-Testing_625-CBM-B2-30-XY.12-3  ==>  https://ambench2022.nist.gov/pid/rest/local/cdcs/WVXOWCWJE584GG7L update doc from excel\n",
      "Found: AMB2022_Mech-Testing_625-CBM-B2-30-XY.18-1  ==>  https://ambench2022.nist.gov/pid/rest/local/cdcs/RVEI8LIHW96MFGPX update doc from excel\n",
      "Found: AMB2022_Mech-Testing_625-CBM-B2-30-XY.18-2  ==>  https://ambench2022.nist.gov/pid/rest/local/cdcs/NIE0LSY4RVKTAXAF update doc from excel\n",
      "Found: AMB2022_Mech-Testing_625-CBM-B2-45-XY.02-1  ==>  https://ambench2022.nist.gov/pid/rest/local/cdcs/010387F1OA9VNZWD update doc from excel\n",
      "Found: AMB2022_Mech-Testing_625-CBM-B2-45-XY.02-2  ==>  https://ambench2022.nist.gov/pid/rest/local/cdcs/YLUU0G9BP7NFTPHI update doc from excel\n",
      "Found: AMB2022_Mech-Testing_625-CBM-B2-45-XY.02-3  ==>  https://ambench2022.nist.gov/pid/rest/local/cdcs/O95BU8X4BFN0YI2N update doc from excel\n",
      "Found: AMB2022_Mech-Testing_625-CBM-B2-45-XY.02-4  ==>  https://ambench2022.nist.gov/pid/rest/local/cdcs/UI75V2PM2S9XJLRC update doc from excel\n",
      "Found: AMB2022_Mech-Testing_625-CBM-B2-45-XY.08-1  ==>  https://ambench2022.nist.gov/pid/rest/local/cdcs/5QPFIPUEXHVETKF9 update doc from excel\n",
      "Found: AMB2022_Mech-Testing_625-CBM-B2-45-XY.08-2  ==>  https://ambench2022.nist.gov/pid/rest/local/cdcs/CV8QWPUE5OJJJ16H update doc from excel\n",
      "Found: AMB2022_Mech-Testing_625-CBM-B2-45-XY.08-3  ==>  https://ambench2022.nist.gov/pid/rest/local/cdcs/2N9KO1FRE3TB3T41 update doc from excel\n",
      "Found: AMB2022_Mech-Testing_625-CBM-B2-45-XY.08-4  ==>  https://ambench2022.nist.gov/pid/rest/local/cdcs/6MX1WQ44HSJGQPXL update doc from excel\n",
      "Found: AMB2022_Mech-Testing_625-CBM-B2-45-XY.13-1  ==>  https://ambench2022.nist.gov/pid/rest/local/cdcs/439OP63W0Y6QP6Z5 update doc from excel\n",
      "Found: AMB2022_Mech-Testing_625-CBM-B2-45-XY.13-2  ==>  https://ambench2022.nist.gov/pid/rest/local/cdcs/BWYHGEMSPQ9GX7C1 update doc from excel\n",
      "Found: AMB2022_Mech-Testing_625-CBM-B2-45-XY.13-3  ==>  https://ambench2022.nist.gov/pid/rest/local/cdcs/O83D2U0W0KIGMC0K update doc from excel\n",
      "Found: AMB2022_Mech-Testing_625-CBM-B2-45-XY.13-4  ==>  https://ambench2022.nist.gov/pid/rest/local/cdcs/V0I4OXKYHPQD6CSM update doc from excel\n",
      "Found: AMB2022_Mech-Testing_625-CBM-B2-60-X.05-1  ==>  https://ambench2022.nist.gov/pid/rest/local/cdcs/5JXJWHVOPLDEDNAU update doc from excel\n",
      "Found: AMB2022_Mech-Testing_625-CBM-B2-60-X.05-2  ==>  https://ambench2022.nist.gov/pid/rest/local/cdcs/FBY6UV4EQE9JGB52 update doc from excel\n",
      "Found: AMB2022_Mech-Testing_625-CBM-B2-60-X.05-3  ==>  https://ambench2022.nist.gov/pid/rest/local/cdcs/9YWW3XJ1645WN3X1 update doc from excel\n",
      "Found: AMB2022_Mech-Testing_625-CBM-B2-60-X.05-4  ==>  https://ambench2022.nist.gov/pid/rest/local/cdcs/0KK9IR036JFTFKXK update doc from excel\n",
      "Found: AMB2022_Mech-Testing_625-CBM-B2-60-X.12-1  ==>  https://ambench2022.nist.gov/pid/rest/local/cdcs/XNMX5C3V98W4RDE1 update doc from excel\n",
      "Found: AMB2022_Mech-Testing_625-CBM-B2-60-X.12-2  ==>  https://ambench2022.nist.gov/pid/rest/local/cdcs/1W4O3HJK5CUYM291 update doc from excel\n"
     ]
    },
    {
     "name": "stdout",
     "output_type": "stream",
     "text": [
      "Found: AMB2022_Mech-Testing_625-CBM-B2-60-X.12-3  ==>  https://ambench2022.nist.gov/pid/rest/local/cdcs/KJL5QHQPUL60MV9D update doc from excel\n",
      "Found: AMB2022_Mech-Testing_625-CBM-B2-60-X.12-4  ==>  https://ambench2022.nist.gov/pid/rest/local/cdcs/P3BLWKEM5FVRWUDK update doc from excel\n",
      "Found: AMB2022_Mech-Testing_625-CBM-B2-60-X.14-1  ==>  https://ambench2022.nist.gov/pid/rest/local/cdcs/QECRJGY9QGPNFW0J update doc from excel\n",
      "Found: AMB2022_Mech-Testing_625-CBM-B2-60-X.14-2  ==>  https://ambench2022.nist.gov/pid/rest/local/cdcs/AYTTGF50B1TG3KDQ update doc from excel\n",
      "Found: AMB2022_Mech-Testing_625-CBM-B2-60-X.14-3  ==>  https://ambench2022.nist.gov/pid/rest/local/cdcs/VX9GILX5G8UEPLMS update doc from excel\n",
      "Found: AMB2022_Mech-Testing_625-CBM-B2-60-X.14-4  ==>  https://ambench2022.nist.gov/pid/rest/local/cdcs/YR59WU8M9KIHRUW2 update doc from excel\n",
      "Found: AMB2022_Mech-Testing_625-CBM-B2-60-XY.04-1  ==>  https://ambench2022.nist.gov/pid/rest/local/cdcs/085206XQT3QAA8MO update doc from excel\n",
      "Found: AMB2022_Mech-Testing_625-CBM-B2-60-XY.04-2  ==>  https://ambench2022.nist.gov/pid/rest/local/cdcs/7A4ETFKNU7WZK6Z8 update doc from excel\n",
      "Found: AMB2022_Mech-Testing_625-CBM-B2-60-XY.04-3  ==>  https://ambench2022.nist.gov/pid/rest/local/cdcs/EEBYCYIDYMZRPMK1 update doc from excel\n",
      "Found: AMB2022_Mech-Testing_625-CBM-B2-60-XY.04-4  ==>  https://ambench2022.nist.gov/pid/rest/local/cdcs/OI7NDDK9S66XS6PT update doc from excel\n",
      "Found: AMB2022_Mech-Testing_625-CBM-B2-60-XY.09-1  ==>  https://ambench2022.nist.gov/pid/rest/local/cdcs/TZHY6NOL0B5665AK update doc from excel\n",
      "Found: AMB2022_Mech-Testing_625-CBM-B2-60-XY.09-2  ==>  https://ambench2022.nist.gov/pid/rest/local/cdcs/RCOGPWBFTGC43LCJ update doc from excel\n",
      "Found: AMB2022_Mech-Testing_625-CBM-B2-60-XY.09-3  ==>  https://ambench2022.nist.gov/pid/rest/local/cdcs/B8DIJHCGNLDVSV3M update doc from excel\n",
      "Found: AMB2022_Mech-Testing_625-CBM-B2-60-XY.09-4  ==>  https://ambench2022.nist.gov/pid/rest/local/cdcs/6WVF6YLWZUZ7JFE5 update doc from excel\n",
      "Found: AMB2022_Mech-Testing_625-CBM-B2-60-XY.15-1  ==>  https://ambench2022.nist.gov/pid/rest/local/cdcs/VGDCI670LSSASWC4 update doc from excel\n",
      "Found: AMB2022_Mech-Testing_625-CBM-B2-60-XY.15-2  ==>  https://ambench2022.nist.gov/pid/rest/local/cdcs/I5YJRCUZNN6HUF7C update doc from excel\n",
      "Found: AMB2022_Mech-Testing_625-CBM-B2-60-XY.15-3  ==>  https://ambench2022.nist.gov/pid/rest/local/cdcs/KMC1ZRDPKG60BY6B update doc from excel\n",
      "Found: AMB2022_Mech-Testing_625-CBM-B2-60-XY.15-4  ==>  https://ambench2022.nist.gov/pid/rest/local/cdcs/668ITZ6E5VYJRVPE update doc from excel\n",
      "Found: AMB2022_Mech-Testing_625-CBM-B2-90-X.08-1  ==>  https://ambench2022.nist.gov/pid/rest/local/cdcs/P23KLMJA002N9QNN update doc from excel\n",
      "Found: AMB2022_Mech-Testing_625-CBM-B2-90-X.08-2  ==>  https://ambench2022.nist.gov/pid/rest/local/cdcs/LAASRFEW0ANSMKCP update doc from excel\n",
      "Found: AMB2022_Mech-Testing_625-CBM-B2-90-X.08-3  ==>  https://ambench2022.nist.gov/pid/rest/local/cdcs/UO17GUYBX984L13H update doc from excel\n",
      "Found: AMB2022_Mech-Testing_625-CBM-B2-90-X.08-4  ==>  https://ambench2022.nist.gov/pid/rest/local/cdcs/OLY6CMXEZG8OIOD3 update doc from excel\n",
      "Found: AMB2022_Mech-Testing_625-CBM-B2-90-X.13-1  ==>  https://ambench2022.nist.gov/pid/rest/local/cdcs/UBZEJMS56BA6GBNI update doc from excel\n",
      "Found: AMB2022_Mech-Testing_625-CBM-B2-90-X.13-2  ==>  https://ambench2022.nist.gov/pid/rest/local/cdcs/QCRUZ7OPPCQRW87K update doc from excel\n",
      "Found: AMB2022_Mech-Testing_625-CBM-B2-90-X.13-3  ==>  https://ambench2022.nist.gov/pid/rest/local/cdcs/7MOG5BSMS5V1MMFV update doc from excel\n",
      "Found: AMB2022_Mech-Testing_625-CBM-B2-90-X.13-4  ==>  https://ambench2022.nist.gov/pid/rest/local/cdcs/FKXU8YKDG6KBH4OP update doc from excel\n",
      "Found: AMB2022_Mech-Testing_625-CBM-B2-90-X.19-1  ==>  https://ambench2022.nist.gov/pid/rest/local/cdcs/JAP0M8PMRCMX6V14 update doc from excel\n",
      "Found: AMB2022_Mech-Testing_625-CBM-B2-90-X.19-2  ==>  https://ambench2022.nist.gov/pid/rest/local/cdcs/9X70VD557YFKTJDJ update doc from excel\n",
      "Found: AMB2022_Mech-Testing_625-CBM-B2-90-X.19-3  ==>  https://ambench2022.nist.gov/pid/rest/local/cdcs/AH3PUFTETEW0FHI7 update doc from excel\n",
      "Found: AMB2022_Mech-Testing_625-CBM-B2-90-X.19-4  ==>  https://ambench2022.nist.gov/pid/rest/local/cdcs/H1LGTJQOI1JJRYZD update doc from excel\n",
      "Found: AMB2022_Mech-Testing_625-CBM-B2-90-XY.07-1  ==>  https://ambench2022.nist.gov/pid/rest/local/cdcs/8ZZPXC24C72B2QWD update doc from excel\n",
      "Found: AMB2022_Mech-Testing_625-CBM-B2-90-XY.07-2  ==>  https://ambench2022.nist.gov/pid/rest/local/cdcs/J5BSY04HST5QKUR7 update doc from excel\n",
      "Found: AMB2022_Mech-Testing_625-CBM-B2-90-XY.07-3  ==>  https://ambench2022.nist.gov/pid/rest/local/cdcs/J91EX0RHI92HQHRS update doc from excel\n",
      "Found: AMB2022_Mech-Testing_625-CBM-B2-90-XY.07-4  ==>  https://ambench2022.nist.gov/pid/rest/local/cdcs/NC3RMC70RPICBTC5 update doc from excel\n",
      "Found: AMB2022_Mech-Testing_625-CBM-B2-90-XY.16-1  ==>  https://ambench2022.nist.gov/pid/rest/local/cdcs/CXF2ZIIR712FFFBB update doc from excel\n",
      "Found: AMB2022_Mech-Testing_625-CBM-B2-90-XY.16-2  ==>  https://ambench2022.nist.gov/pid/rest/local/cdcs/OUNCL3PECQ7IXSDT update doc from excel\n",
      "Found: AMB2022_Mech-Testing_625-CBM-B2-90-XY.16-3  ==>  https://ambench2022.nist.gov/pid/rest/local/cdcs/JB7ZB2SDEKNNO76X update doc from excel\n",
      "Found: AMB2022_Mech-Testing_625-CBM-B2-90-XY.16-4  ==>  https://ambench2022.nist.gov/pid/rest/local/cdcs/FACHXWZMISJBYPHO update doc from excel\n",
      "Found: AMB2022_Mech-Testing_625-CBM-B2-90-XY.17-1  ==>  https://ambench2022.nist.gov/pid/rest/local/cdcs/RPTYSW3JT0GLTLRZ update doc from excel\n",
      "Found: AMB2022_Mech-Testing_625-CBM-B2-90-XY.17-2  ==>  https://ambench2022.nist.gov/pid/rest/local/cdcs/Z7AOZF3J0RI9YVAZ update doc from excel\n",
      "Found: AMB2022_Mech-Testing_625-CBM-B2-90-XY.17-3  ==>  https://ambench2022.nist.gov/pid/rest/local/cdcs/UMOM4RCT8S9T0HQ7 update doc from excel\n",
      "Found: AMB2022_Mech-Testing_625-CBM-B2-90-XY.17-4  ==>  https://ambench2022.nist.gov/pid/rest/local/cdcs/EL3XD30H0K4JMZ6M update doc from excel\n",
      "CPU times: user 58.8 s, sys: 1.19 s, total: 59.9 s\n",
      "Wall time: 2min 36s\n"
     ]
    }
   ],
   "source": [
    "%%time\n",
    "# Specify the list of AM Bench documnent types to map\n",
    "doc_types=ALL_DOC_TYPES\n",
    "\n",
    "r=map_them(doc_types,doLoad=False)"
   ]
  },
  {
   "cell_type": "code",
   "execution_count": null,
   "metadata": {},
   "outputs": [],
   "source": []
  },
  {
   "cell_type": "code",
   "execution_count": null,
   "metadata": {},
   "outputs": [],
   "source": []
  }
 ],
 "metadata": {
  "kernelspec": {
   "display_name": "Python 3",
   "language": "python",
   "name": "python3"
  },
  "language_info": {
   "codemirror_mode": {
    "name": "ipython",
    "version": 3
   },
   "file_extension": ".py",
   "mimetype": "text/x-python",
   "name": "python",
   "nbconvert_exporter": "python",
   "pygments_lexer": "ipython3",
   "version": "3.8.5"
  }
 },
 "nbformat": 4,
 "nbformat_minor": 4
}
