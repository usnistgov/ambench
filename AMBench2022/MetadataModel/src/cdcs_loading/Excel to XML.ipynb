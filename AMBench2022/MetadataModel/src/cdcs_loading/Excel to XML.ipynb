{
 "cells": [
  {
   "cell_type": "markdown",
   "metadata": {},
   "source": [
    "# Translate the AM Bench metadata in Excel tables to XML documents\n",
    "\n",
    "The goal of this notebook is to generate XML documents describing AM Bench 2022 series data.\n",
    "\n",
    "The AM Bench XML schema is an implementation of a data model that describes the Additive Manufacturing Benchmark 2022 series data. The data model provides a robust set of metadata for the build processes and their resulting specimens and\n",
    "for measurements made on these in the context of the AM Bench 2022 project. The metadata are entered in excel spreadsheets by the project scientists. The metadata in excel files are translated to XML documents compliant with the schema using Python scripts defined in <code>ambench.mapping</code> in this notebook. Both the schema and the XML documents are uploaded into <b>private</b> AM Bench CDCS datebase instance (henceforth called CDCS) using REST API provided by <code>pycdcs</code> (https://github.com/usnistgov/pycdcs). This is described in <code>XML Schema to Template Loader.ipynb</code>.\n",
    "\n",
    "This notebook includes the followings:\n",
    "\n",
    "* Generating XML files.\n",
    "* Validate the generated XML files against XML schema.\n",
    "* Optionally uploading the XML files in CDCS.\n",
    "\n",
    "Generating AM Bench XML files requires querying CDCS database (Please see <b>Persistent Identifier</b> below). Any user can query the public CDCS AM Bench database as anonymous user. Therefore, anyone can generate XML documents. \n",
    "\n",
    "_For uploading documents in private CDCS database you need a permission in order to do so._ If you wish to get the permission, please contact Lyle E. Levine (lyle.levine@nist.gov)."
   ]
  },
  {
   "cell_type": "markdown",
   "metadata": {},
   "source": [
    "\n",
    "# Persistent Identifier\n",
    "\n",
    "All AM Bench XML documents have unique identifier called _Persistent Identifier_. The persistent Identifier (<b>PID</b>) to an XML document is assigned by CDCS for its first time being uploaded in CDCS. Afterwards, the PID of the document remains the same even if its content changes. Therefore, generating XML documents requires to query the CDCS AM Bench database in order to check whether XML documents already exist in the CDCS or not. The PIDs of the existing documents are assigned to the updated ones.\n",
    "The PIDs can be obtained from public CDCS by using REST API provided by <code>pycdcs</code>. \n"
   ]
  },
  {
   "cell_type": "markdown",
   "metadata": {},
   "source": [
    "# Relationship between AM Bench XML files.\n",
    "\n",
    "There are dependencies among the AM Bench XML documents because of hyper links referring from one AM Bench XML file to another. For example, XML documents for measurements refer to another XML documents describing the specimens used in their measurements. Or an XML document for a specimen may refer to the one for its  source build part, or its source material.  Therefore, the XML files must be generated in a proper order by their document types as given in <code>ALL_DOC_TYPES</code> below in this notebook."
   ]
  },
  {
   "cell_type": "markdown",
   "metadata": {},
   "source": [
    "# Steps of Generating, and upoading XML files\n",
    "\n",
    "Before running this notebook: \n",
    "* Create a configuration file in JSON format. The example is given in <code>default_config.json</code>\n",
    "\n",
    "0. Import Python libraries (Step 0).\n",
    "1. Instantiate <code>__CONFIG class</code> (Step 1).\n",
    "2. Connect to CDCS (Step 2).\n",
    "3. Create XML validator (Step 3).\n",
    "4. Define functions used in this notebook (Step 4). The function <code>map_them</code> plays a role of an application controller. \n",
    "\n",
    "5. Generate, validate and upload XML files (Step 5).\n",
    "    1. Select which document types to generate XML documents and pass them as argment <code>DOC_TYPES2LOAD</code> of <code>map_them</code>. \n",
    "    2. Upon completion of generating all XML files, validate them  using <code>validate_amdocs</code> in <code>map_them</code>.\n",
    "    3. Optionall, upload the XML files to CDCS."
   ]
  },
  {
   "cell_type": "markdown",
   "metadata": {},
   "source": [
    "## Step 0. Import Python modules\n",
    "Import Python modules required by running this notebook."
   ]
  },
  {
   "cell_type": "code",
   "execution_count": null,
   "metadata": {},
   "outputs": [],
   "source": [
    "import sys\n",
    "import os\n",
    "import io\n",
    "import pprint\n",
    "import lxml.etree as ET\n",
    "import xml.dom.minidom\n",
    "import importlib\n",
    "import glob\n",
    "import json\n",
    "import string\n",
    "import datetime\n",
    "import pandas\n",
    "import getpass\n",
    "import matplotlib.pyplot as plt\n",
    "import requests\n",
    "from PIL import Image, ImageDraw, ImageFont"
   ]
  },
  {
   "cell_type": "code",
   "execution_count": null,
   "metadata": {},
   "outputs": [],
   "source": [
    "# Set False for requiring to validate XML document when generate them.\n",
    "# Instead validate them after all documents are generated.\n",
    "\n",
    "import pyxb\n",
    "pyxb.RequireValidWhenGenerating(False);"
   ]
  },
  {
   "cell_type": "markdown",
   "metadata": {},
   "source": [
    "## Step 1. Instantiate __CONFIG class \n",
    "- In order to run this notebook create your own configuration file in JSON format. Please see the example given in <code>default_config.json</code>.\n",
    "- Enter your JSON file in argument of the constructor of <code>__CONFIG class</code> defined in <code>config.py</code>. If no argument is passed in the constructor, <code>default_config.json</code> is used."
   ]
  },
  {
   "cell_type": "code",
   "execution_count": null,
   "metadata": {},
   "outputs": [],
   "source": [
    "# Import config and instantiate __CONFIG class.\n",
    "import config\n",
    "from config import __CONFIG\n",
    "\n",
    "CONFIG = __CONFIG(conf_json = \"./your_config.json\")\n"
   ]
  },
  {
   "cell_type": "code",
   "execution_count": null,
   "metadata": {},
   "outputs": [],
   "source": [
    "# If USER or PASS are null in your configuration, you are asked enter them in the prompts interactively.\n",
    "# For anonymous user enter nothing in the prompts you get when you run this cell.\n",
    "\n",
    "if CONFIG.USER is None:\n",
    "    CONFIG.USER = input('username: ')\n",
    "if CONFIG.PASS is None:\n",
    "    CONFIG.PASS = getpass.getpass('enter password ')\n",
    "\n",
    "AUTH=(CONFIG.USER, CONFIG.PASS)    \n"
   ]
  },
  {
   "cell_type": "code",
   "execution_count": null,
   "metadata": {},
   "outputs": [],
   "source": [
    "# Include the directory path for the required Python modules.\n",
    "\n",
    "sys.path.insert(0, CONFIG.pyUTILS_path)\n",
    "import ambench.cdcs_utils\n",
    "from ambench.cdcs_utils import AMBench2022, xmlschema\n",
    "from ambench.mapping import new_mapper\n"
   ]
  },
  {
   "cell_type": "markdown",
   "metadata": {},
   "source": [
    "## Step 2. Create AMBench2022 instance\n",
    "* AMBench2022 is a wrapper class of which base class is <code>CDCS</code> of <code>pycdcs</code>. "
   ]
  },
  {
   "cell_type": "code",
   "execution_count": null,
   "metadata": {},
   "outputs": [],
   "source": [
    "ambench2022=AMBench2022(CONFIG.TEMPLATE,CONFIG.AMBENCH_URL,auth=AUTH)"
   ]
  },
  {
   "cell_type": "markdown",
   "metadata": {},
   "source": [
    "## Step 3. Create XML Validator \n",
    "Create XML validator from in-memory schema files using xmlschema."
   ]
  },
  {
   "cell_type": "code",
   "execution_count": null,
   "metadata": {},
   "outputs": [],
   "source": [
    "# xsd_filename is a file path of ROOT_SCHEMA\n",
    "\n",
    "xsd_filename=f'{CONFIG.XSD}{CONFIG.ROOT_SCHEMA}'\n",
    "VALIDATOR=xmlschema.XMLSchema(xsd_filename,build=False)\n",
    "VALIDATOR.build()\n",
    "VALIDATOR.validity "
   ]
  },
  {
   "cell_type": "markdown",
   "metadata": {},
   "source": [
    "## Step 4. Define functions "
   ]
  },
  {
   "cell_type": "code",
   "execution_count": null,
   "metadata": {},
   "outputs": [],
   "source": [
    "def validate_amdocs(amdocs):\n",
    "    '''\n",
    "    Validate generated XML files.\n",
    "    \n",
    "    amdocs: a dict of generated  XML files and and flag indicating \n",
    "            whether XML file is new or not.\n",
    "    '''\n",
    "    for xmlfile,is_new in amdocs.items():\n",
    "        v=VALIDATOR.is_valid(xmlfile)\n",
    "        if not(v):\n",
    "            try:\n",
    "                VALIDATOR.validate(xmlfile)\n",
    "            except Exception as e:\n",
    "                print(xmlfile,\"\\n\",e,\"\\n=====\\n\")\n",
    "                raise e\n",
    "    return True"
   ]
  },
  {
   "cell_type": "code",
   "execution_count": null,
   "metadata": {},
   "outputs": [],
   "source": [
    "def load_amdocs_cdcs(amdocs):\n",
    "    '''\n",
    "    Load XML documents to CDCS.\n",
    "    \n",
    "    amdocs: a dict of XML files and their flags indicating whether each XML file is new or not.\n",
    "    '''\n",
    "    uploaded={}\n",
    "    errors={}\n",
    "    for f,is_new in amdocs.items():\n",
    "        fn=os.path.basename(f)\n",
    "        if is_new:\n",
    "            print('upload new:', f)\n",
    "            response=ambench2022.upload_data(f)\n",
    "        else:\n",
    "            print('update existing:', f)\n",
    "            response=ambench2022.update_data(f)\n",
    "\n",
    "        if response.ok:\n",
    "            uploaded[fn]=response.json()    \n",
    "        else:\n",
    "            errors[fn]=response.json()\n",
    "    return uploaded,errors"
   ]
  },
  {
   "cell_type": "code",
   "execution_count": null,
   "metadata": {},
   "outputs": [],
   "source": [
    "# The list of all document types. \n",
    "# The order of generating XML files by documented types is according to the index of \n",
    "# document type element in this list.\n",
    "# More document types will be added here as they become available.\n",
    "ALL_DOC_TYPES=['Material','AMPowder','AMBuildPlate','AMBuildPart','AMBSpecimen',\n",
    "               'AMComposition', 'AMLaserAbsorptivity', 'AMRadiography',  'AMMechanicalTesting']"
   ]
  },
  {
   "cell_type": "code",
   "execution_count": null,
   "metadata": {},
   "outputs": [],
   "source": [
    "def map_them(DOC_TYPES2LOAD,doLoad=False,breakOnError=True,folder='TEMP'):\n",
    "    '''\n",
    "    Generate, and validate XML files.  If doLoad is True upload them to the CDCS AM Bench database. \n",
    "    \n",
    "    DOC_TYPES2LOAD: List of document types to generate and upload \n",
    "    doLoad: Flag whether to upload the generated documents to the CDCS instance or not.\n",
    "    breakOnError: Flag whether to break the loop or not if there is an error in generating a document.\n",
    "    folder: Name of folder where to stage the generated documents in local file system. The full folder \n",
    "            path depends on document type <outfolder> below.\n",
    "    '''\n",
    "    all_handled={}\n",
    "    for DOC_TYPE in DOC_TYPES2LOAD:\n",
    "        print(\"DOC_TYPE:\",DOC_TYPE)\n",
    "        \n",
    "        outfolder=f\"{CONFIG.LOADING}/{folder}/{DOC_TYPE}/\"\n",
    "        os.makedirs(outfolder,exist_ok=True)\n",
    "        \n",
    "        MAPPER=new_mapper(ambench2022, DOC_TYPE, CONFIG)\n",
    "        try :\n",
    "            amdocs=MAPPER.map_from_excel(outfolder,verbose=True) \n",
    "            ok = validate_amdocs(amdocs)\n",
    "            if not ok:\n",
    "                print()\n",
    "            if doLoad and ok:\n",
    "                load_amdocs_cdcs(amdocs)\n",
    "            all_handled[DOC_TYPE]=amdocs\n",
    "        except Exception as e:\n",
    "            print(e)\n",
    "            if breakOnError:\n",
    "                break\n",
    "    return all_handled"
   ]
  },
  {
   "cell_type": "markdown",
   "metadata": {},
   "source": [
    "## Step 5. Generate XML files\n",
    "Generate XML files for document types specified in <code>doc_types</code>. Optionally, upload the generated files in private CDCS."
   ]
  },
  {
   "cell_type": "code",
   "execution_count": null,
   "metadata": {
    "scrolled": false,
    "tags": []
   },
   "outputs": [],
   "source": [
    "%%time\n",
    "# Specify the list of AM Bench documnent types to map\n",
    "doc_types=ALL_DOC_TYPES\n",
    "\n",
    "r=map_them(doc_types,doLoad=False)"
   ]
  },
  {
   "cell_type": "code",
   "execution_count": null,
   "metadata": {},
   "outputs": [],
   "source": []
  },
  {
   "cell_type": "code",
   "execution_count": null,
   "metadata": {},
   "outputs": [],
   "source": []
  }
 ],
 "metadata": {
  "kernelspec": {
   "display_name": "Python 3",
   "language": "python",
   "name": "python3"
  },
  "language_info": {
   "codemirror_mode": {
    "name": "ipython",
    "version": 3
   },
   "file_extension": ".py",
   "mimetype": "text/x-python",
   "name": "python",
   "nbconvert_exporter": "python",
   "pygments_lexer": "ipython3",
   "version": "3.8.5"
  }
 },
 "nbformat": 4,
 "nbformat_minor": 4
}
