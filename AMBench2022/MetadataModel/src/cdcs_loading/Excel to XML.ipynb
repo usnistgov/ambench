{
 "cells": [
  {
   "cell_type": "markdown",
   "metadata": {},
   "source": [
    "# DOC_TYPE: Mapping excel to XML\n",
    "\n",
    "The goal of this notebook is to generate XML documents for AMDoc Types from the metadata entered in excel and optionally to upload them in the <b>private</b> CDCS AM Bench project site. The persistent ID (<b>PID</b>) to an XML document is assigned by CDCS for its first time being uploaded in CDCS. Afterwards, the PID of the document remains the same regardless whether its content changes. \n",
    "\n",
    "For generating XML documents only you can use public CDCS site as anonymous user. For uploading documents you need a permission in order to do so. If you wish to get the permission, please contact Lyle E. Levine (lyle.levine@nist.gov)."
   ]
  },
  {
   "cell_type": "code",
   "execution_count": null,
   "metadata": {},
   "outputs": [],
   "source": [
    "import sys\n",
    "import os\n",
    "import io\n",
    "import pprint\n",
    "import lxml.etree as ET\n",
    "import xml.dom.minidom\n",
    "import importlib\n",
    "import glob\n",
    "import json\n",
    "import string\n",
    "import datetime\n",
    "import pandas\n",
    "import getpass\n",
    "import matplotlib.pyplot as plt\n",
    "import requests\n",
    "from PIL import Image, ImageDraw, ImageFont"
   ]
  },
  {
   "cell_type": "code",
   "execution_count": null,
   "metadata": {},
   "outputs": [],
   "source": [
    "# Set False for requiring to validate XML document when generate them.\n",
    "# Instead validate them after all documents are generated.\n",
    "\n",
    "import pyxb\n",
    "pyxb.RequireValidWhenGenerating(False);"
   ]
  },
  {
   "cell_type": "markdown",
   "metadata": {},
   "source": [
    "# Initiantiate __CONFIG class \n",
    "- In order to run this notebook create your own configuration file in JSON format. Please see the example given in default_config.json.\n",
    "- Enter your json file in the argument of the constructor of <code>__CONFIG class</code> defined in config.py. If no argument is passed in the constructor, default_config.json is used.\n"
   ]
  },
  {
   "cell_type": "code",
   "execution_count": null,
   "metadata": {},
   "outputs": [],
   "source": [
    "# Import config and instantiate __CONFIG class.\n",
    "import config\n",
    "from config import __CONFIG\n",
    "\n",
    "CONFIG = __CONFIG(conf_json = \"./myconfig-sciserver.json\")\n"
   ]
  },
  {
   "cell_type": "code",
   "execution_count": null,
   "metadata": {},
   "outputs": [],
   "source": [
    "# If USER or PASS are null in your configuration setting, enter them interactively.\n",
    "# For anonymous user enter nothing.\n",
    "\n",
    "if CONFIG.USER is None:\n",
    "    CONFIG.USER = input('username: ')\n",
    "if CONFIG.PASS is None:\n",
    "    CONFIG.PASS = getpass.getpass('enter password ')\n",
    "\n",
    "AUTH=(CONFIG.USER, CONFIG.PASS)    \n"
   ]
  },
  {
   "cell_type": "code",
   "execution_count": null,
   "metadata": {},
   "outputs": [],
   "source": [
    "# Include the directory path for the required Python modules.\n",
    "\n",
    "sys.path.insert(0, CONFIG.pyUTILS_path)\n",
    "import ambench.cdcs_utils\n",
    "from ambench.cdcs_utils import AMBench2022, xmlschema\n",
    "from ambench.mapping import new_mapper\n"
   ]
  },
  {
   "cell_type": "markdown",
   "metadata": {},
   "source": [
    "# Create AMBench2022 instance\n",
    "* AMBench2022 is a wrapper class of which base class is CDCS from pycdcs. It has additional methods including querying, and uploading XML schemas and documents in the CDCS instance."
   ]
  },
  {
   "cell_type": "code",
   "execution_count": null,
   "metadata": {},
   "outputs": [],
   "source": [
    "ambench2022=AMBench2022(CONFIG.TEMPLATE,CONFIG.AMBENCH_URL,auth=AUTH)"
   ]
  },
  {
   "cell_type": "markdown",
   "metadata": {},
   "source": [
    "# Create XML Validator from in-memory schema files using xmlschema."
   ]
  },
  {
   "cell_type": "code",
   "execution_count": null,
   "metadata": {},
   "outputs": [],
   "source": [
    "# xsd_filename is a file path of ROOT_SCHEMA\n",
    "\n",
    "xsd_filename=f'{CONFIG.XSD}{CONFIG.ROOT_SCHEMA}'\n",
    "VALIDATOR=xmlschema.XMLSchema(xsd_filename,build=False)\n",
    "VALIDATOR.build()\n",
    "VALIDATOR.validity "
   ]
  },
  {
   "cell_type": "markdown",
   "metadata": {},
   "source": [
    "# Generate, Validate and Load XML files\n",
    "* Use function <code>map_them</code> to map the metadata for samples or measurements from AM Bench project entered in Excel spreadsheets to XML files.  \n",
    "    * Select the types of samples or measurements to map and pass them as argment <code>DOC_TYPES2LOAD</code> of <code>map_them</code>.\n",
    "    * There are dependencies between the XML documents because of hyper links referring from one document to another. For example, documents for measurements refer to the documents describing the specimens used in their measurements. Or a specimen document may refer to the one for a source build part, or a material and etc.  Therefore, the documents must be generated in a proper order by their types as given in <code>ALL_DOC_TYPES</code> below.\n",
    "* Validate XML documents using <code>validate_amdocs</code>.\n",
    "* Upload using <code>load_amdocs_cdcs</code>"
   ]
  },
  {
   "cell_type": "code",
   "execution_count": null,
   "metadata": {},
   "outputs": [],
   "source": [
    "def validate_amdocs(amdocs):\n",
    "    '''\n",
    "    Validate generated XML files.\n",
    "    \n",
    "    amdocs: a dict of generated  XML files and and flag indicating \n",
    "            whether XML file is new or not.\n",
    "    '''\n",
    "    for xmlfile,is_new in amdocs.items():\n",
    "        v=VALIDATOR.is_valid(xmlfile)\n",
    "        if not(v):\n",
    "            try:\n",
    "                VALIDATOR.validate(xmlfile)\n",
    "            except Exception as e:\n",
    "                print(xmlfile,\"\\n\",e,\"\\n=====\\n\")\n",
    "                raise e\n",
    "    return True"
   ]
  },
  {
   "cell_type": "code",
   "execution_count": null,
   "metadata": {},
   "outputs": [],
   "source": [
    "def load_amdocs_cdcs(amdocs):\n",
    "    '''\n",
    "    Load XML documents to CDCS.\n",
    "    \n",
    "    amdocs: a dict of XML files and their flags indicating whether each XML file is new or not.\n",
    "    '''\n",
    "    uploaded={}\n",
    "    errors={}\n",
    "    for f,is_new in amdocs.items():\n",
    "        fn=os.path.basename(f)\n",
    "        if is_new:\n",
    "            print('upload new:', f)\n",
    "            response=ambench2022.upload_data(f)\n",
    "        else:\n",
    "            print('update existing:', f)\n",
    "            response=ambench2022.update_data(f)\n",
    "\n",
    "        if response.ok:\n",
    "            uploaded[fn]=response.json()    \n",
    "        else:\n",
    "            errors[fn]=response.json()\n",
    "    return uploaded,errors"
   ]
  },
  {
   "cell_type": "code",
   "execution_count": null,
   "metadata": {},
   "outputs": [],
   "source": [
    "# The order of loading doc types.\n",
    "ALL_DOC_TYPES=['Material','AMPowder','AMBuildPlate','AMBuildPart','AMBSpecimen',\n",
    "               'AMComposition', 'AMLaserAbsorptivity', 'AMRadiography',  'AMMechanicalTesting']\n",
    "\n",
    "def map_them(DOC_TYPES2LOAD,doLoad=False,breakOnError=True,folder='TEMP'):\n",
    "    '''\n",
    "    Generate, and validate XML files.  If doLoad is True upload them to the CDCS AM Bench database. \n",
    "    \n",
    "    DOC_TYPES2LOAD: List of document types to generate and upload \n",
    "    doLoad: Flag whether to upload the generated documents to the CDCS instance or not.\n",
    "    breakOnError: Flag whether to break the loop or not if there is an error in generating a document.\n",
    "    folder: Name of folder where to stage the generated documents in local file system. The full folder \n",
    "            path depends on document type <outfolder> below.\n",
    "    '''\n",
    "    all_handled={}\n",
    "    for DOC_TYPE in DOC_TYPES2LOAD:\n",
    "        print(\"DOC_TYPE:\",DOC_TYPE)\n",
    "        \n",
    "        outfolder=f\"{CONFIG.LOADING}/{folder}/{DOC_TYPE}/\"\n",
    "        os.makedirs(outfolder,exist_ok=True)\n",
    "        \n",
    "        MAPPER=new_mapper(ambench2022, DOC_TYPE, CONFIG)\n",
    "        try :\n",
    "            amdocs=MAPPER.map_from_excel(outfolder,verbose=True) \n",
    "            ok = validate_amdocs(amdocs)\n",
    "            if not ok:\n",
    "                print()\n",
    "            if doLoad and ok:\n",
    "                load_amdocs_cdcs(amdocs)\n",
    "            all_handled[DOC_TYPE]=amdocs\n",
    "        except Exception as e:\n",
    "            print(e)\n",
    "            if breakOnError:\n",
    "                break\n",
    "    return all_handled"
   ]
  },
  {
   "cell_type": "code",
   "execution_count": null,
   "metadata": {
    "scrolled": false,
    "tags": []
   },
   "outputs": [],
   "source": [
    "%%time\n",
    "# Specify the list of AM Bench documnent types to map\n",
    "doc_types=ALL_DOC_TYPES\n",
    "\n",
    "r=map_them(doc_types,doLoad=False)"
   ]
  },
  {
   "cell_type": "code",
   "execution_count": null,
   "metadata": {},
   "outputs": [],
   "source": []
  },
  {
   "cell_type": "code",
   "execution_count": null,
   "metadata": {},
   "outputs": [],
   "source": []
  }
 ],
 "metadata": {
  "kernelspec": {
   "display_name": "Python 3.8 (py38)",
   "language": "python",
   "name": "py38"
  },
  "language_info": {
   "codemirror_mode": {
    "name": "ipython",
    "version": 3
   },
   "file_extension": ".py",
   "mimetype": "text/x-python",
   "name": "python",
   "nbconvert_exporter": "python",
   "pygments_lexer": "ipython3",
   "version": "3.8.5"
  }
 },
 "nbformat": 4,
 "nbformat_minor": 4
}
