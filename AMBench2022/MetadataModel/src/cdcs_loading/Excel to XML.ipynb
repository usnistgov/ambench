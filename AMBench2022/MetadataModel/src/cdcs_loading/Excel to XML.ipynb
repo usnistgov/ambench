{
 "cells": [
  {
   "cell_type": "markdown",
   "metadata": {},
   "source": [
    "# DOC_TYPE: Mapping excel to XML\n",
    "\n",
    "The goal of this notebook is to generate XML documents for AMDoc Types from the metadata entered in excel and optionally to upload them in the <b>private</b> CDCS AM Bench project site. The persistent ID (<b>PID</b>) to an XML document is assigned by CDCS for its first time being uploaded in CDCS. Afterwards, the PID of the document remains the same regardless whether its content changes. \n",
    "\n",
    "For generating XML documents only you can use public CDCS site as anonymous user. For uploading documents you need a permission in order to do so. If you wish to get the permission, please contact Lyle E. Levine (lyle.levine@nist.gov)."
   ]
  },
  {
   "cell_type": "code",
   "execution_count": 1,
   "metadata": {},
   "outputs": [],
   "source": [
    "import sys\n",
    "import os\n",
    "import io\n",
    "import pprint\n",
    "import lxml.etree as ET\n",
    "import xml.dom.minidom\n",
    "import importlib\n",
    "import glob\n",
    "import json\n",
    "import string\n",
    "import datetime\n",
    "import pandas\n",
    "import getpass\n",
    "import matplotlib.pyplot as plt\n",
    "import requests\n",
    "from PIL import Image, ImageDraw, ImageFont"
   ]
  },
  {
   "cell_type": "code",
   "execution_count": 2,
   "metadata": {},
   "outputs": [],
   "source": [
    "# Set False for requiring to validate XML document when generate them.\n",
    "# Instead validate them after all documents are generated.\n",
    "\n",
    "import pyxb\n",
    "pyxb.RequireValidWhenGenerating(False);"
   ]
  },
  {
   "cell_type": "markdown",
   "metadata": {},
   "source": [
    "# Initiantiate __CONFIG class \n",
    "- In order to run this notebook create your own configuration file in JSON format. Please see the example given in default_config.json.\n",
    "- Enter your json file in the argument of the constructor of <code>__CONFIG class</code> defined in config.py. If no argument is passed in the constructor, default_config.json is used.\n"
   ]
  },
  {
   "cell_type": "code",
   "execution_count": 3,
   "metadata": {},
   "outputs": [
    {
     "name": "stdout",
     "output_type": "stream",
     "text": [
      "TEMPLATE: AMDocs, AMBENCH_URL: https://ambench2022.nist.gov/, LOADING: C:/AnacondaTest/test/ambench/AMBench2022/MetadataModel/src/cdcs_loading, ROOT_SCHEMA: AMDocs.xsd, XSD: C:/AnacondaTest/test/ambench/AMBench2022/MetadataModel/model/xsd/, pyUTILS_path: ../py, SAMPLES_EXCEL_FILE: C:/AnacondaTest/test/ambench/AMBench2022/MetadataModel/model/xlsx/AM-Bench 2022 Samples.xlsx, MEAS_EXCEL_FILE: ../../model/xlsx/AM-Bench 2022 Measurements.xlsx, CONTRIBUTORS_EXCEL_FILE: C:/AnacondaTest/test/ambench/AMBench2022/MetadataModel/model/xlsx/Contributors.xlsx, USER: None, PASS: None\n"
     ]
    }
   ],
   "source": [
    "# Import config and instantiate __CONFIG class.\n",
    "import config\n",
    "from config import __CONFIG\n",
    "\n",
    "CONFIG = __CONFIG(conf_json = \"./myconfig.json\")\n",
    "\n",
    "attrs = vars(CONFIG)\n",
    "print(', '.join(\"%s: %s\" % item for item in attrs.items()))"
   ]
  },
  {
   "cell_type": "code",
   "execution_count": 4,
   "metadata": {},
   "outputs": [
    {
     "name": "stdout",
     "output_type": "stream",
     "text": [
      "username: \n",
      "enter password ········\n"
     ]
    }
   ],
   "source": [
    "# If USER or PASS are null in your configuration setting, enter them interactively.\n",
    "# For anonymous user enter nothing.\n",
    "\n",
    "if CONFIG.USER is None:\n",
    "    CONFIG.USER = input('username: ')\n",
    "if CONFIG.PASS is None:\n",
    "    CONFIG.PASS = getpass.getpass('enter password ')\n",
    "\n",
    "AUTH=(CONFIG.USER, CONFIG.PASS)    \n"
   ]
  },
  {
   "cell_type": "code",
   "execution_count": 5,
   "metadata": {},
   "outputs": [],
   "source": [
    "# Include the directory path for the required Python modules.\n",
    "\n",
    "sys.path.insert(0, CONFIG.pyUTILS_path)\n",
    "import ambench.cdcs_utils\n",
    "from ambench.cdcs_utils import AMBench2022, xmlschema\n",
    "from ambench.mapping import new_mapper\n"
   ]
  },
  {
   "cell_type": "markdown",
   "metadata": {},
   "source": [
    "# Create AMBench2022 instance\n",
    "* AMBench2022 is a wrapper class of which base class is CDCS from pycdcs. It has additional methods including querying, and uploading XML schemas and documents in the CDCS instance."
   ]
  },
  {
   "cell_type": "code",
   "execution_count": 6,
   "metadata": {},
   "outputs": [],
   "source": [
    "ambench2022=AMBench2022(CONFIG.TEMPLATE,CONFIG.AMBENCH_URL,auth=AUTH)"
   ]
  },
  {
   "cell_type": "markdown",
   "metadata": {},
   "source": [
    "# Create XML Validator from in-memory schema files using xmlschema."
   ]
  },
  {
   "cell_type": "code",
   "execution_count": 7,
   "metadata": {},
   "outputs": [
    {
     "data": {
      "text/plain": [
       "'valid'"
      ]
     },
     "execution_count": 7,
     "metadata": {},
     "output_type": "execute_result"
    }
   ],
   "source": [
    "# xsd_filename is a file path of ROOT_SCHEMA\n",
    "\n",
    "xsd_filename=f'{CONFIG.XSD}{CONFIG.ROOT_SCHEMA}'\n",
    "VALIDATOR=xmlschema.XMLSchema(xsd_filename,build=False)\n",
    "VALIDATOR.build()\n",
    "VALIDATOR.validity "
   ]
  },
  {
   "cell_type": "markdown",
   "metadata": {},
   "source": [
    "# Generate, Validate and Load XML files\n",
    "* Use function <code>map_them</code> to map the metadata for samples or measurements from AM Bench project entered in Excel spreadsheets to XML files.  \n",
    "    * Select the types of samples or measurements to map and pass them as argment <code>DOC_TYPES2LOAD</code> of <code>map_them</code>.\n",
    "    * There are dependencies between the XML documents because of hyper links referring from one document to another. For example, documents for measurements refer to the documents describing the specimens used in their measurements. Or a specimen document may refer to the one for a source build part, or a material and etc.  Therefore, the documents must be generated in a proper order by their types as given in <code>ALL_DOC_TYPES</code> below.\n",
    "* Validate XML documents using <code>validate_amdocs</code>.\n",
    "* Upload using <code>load_amdocs_cdcs</code>"
   ]
  },
  {
   "cell_type": "code",
   "execution_count": 8,
   "metadata": {},
   "outputs": [],
   "source": [
    "def validate_amdocs(amdocs):\n",
    "    '''\n",
    "    Validate generated XML files.\n",
    "    \n",
    "    amdocs: a dict of generated  XML files and and flag indicating \n",
    "            whether XML file is new or not.\n",
    "    '''\n",
    "    for xmlfile,is_new in amdocs.items():\n",
    "        v=VALIDATOR.is_valid(xmlfile)\n",
    "        if not(v):\n",
    "            try:\n",
    "                VALIDATOR.validate(xmlfile)\n",
    "            except Exception as e:\n",
    "                print(xmlfile,\"\\n\",e,\"\\n=====\\n\")\n",
    "                raise e\n",
    "    return True"
   ]
  },
  {
   "cell_type": "code",
   "execution_count": 9,
   "metadata": {},
   "outputs": [],
   "source": [
    "def load_amdocs_cdcs(amdocs):\n",
    "    '''\n",
    "    Load XML documents to CDCS.\n",
    "    \n",
    "    amdocs: a dict of XML files and their flags indicating whether each XML file is new or not.\n",
    "    '''\n",
    "    uploaded={}\n",
    "    errors={}\n",
    "    for f,is_new in amdocs.items():\n",
    "        fn=os.path.basename(f)\n",
    "        if is_new:\n",
    "            print('upload new:', f)\n",
    "            response=ambench2022.upload_data(f)\n",
    "        else:\n",
    "            print('update existing:', f)\n",
    "            response=ambench2022.update_data(f)\n",
    "\n",
    "        if response.ok:\n",
    "            uploaded[fn]=response.json()    \n",
    "        else:\n",
    "            errors[fn]=response.json()\n",
    "    return uploaded,errors"
   ]
  },
  {
   "cell_type": "code",
   "execution_count": 10,
   "metadata": {},
   "outputs": [],
   "source": [
    "# The order of loading doc types.\n",
    "ALL_DOC_TYPES=['Material','AMPowder','AMBuildPlate','AMBuildPart','AMBSpecimen',\n",
    "               'AMComposition', 'AMLaserAbsorptivity', 'AMRadiography',  'AMMechanicalTesting']\n",
    "\n",
    "def map_them(DOC_TYPES2LOAD,doLoad=False,breakOnError=True,folder='TEMP'):\n",
    "    '''\n",
    "    Generate, and validate XML files.  If doLoad is True upload them to the CDCS AM Bench database. \n",
    "    \n",
    "    DOC_TYPES2LOAD: List of document types to generate and upload \n",
    "    doLoad: Flag whether to upload the generated documents to the CDCS instance or not.\n",
    "    breakOnError: Flag whether to break the loop or not if there is an error in generating a document.\n",
    "    folder: Name of folder where to stage the generated documents in local file system. The full folder \n",
    "            path depends on document type <outfolder> below.\n",
    "    '''\n",
    "    all_handled={}\n",
    "    for DOC_TYPE in DOC_TYPES2LOAD:\n",
    "        print(\"DOC_TYPE:\",DOC_TYPE)\n",
    "        \n",
    "        outfolder=f\"{CONFIG.LOADING}/{folder}/{DOC_TYPE}/\"\n",
    "        os.makedirs(outfolder,exist_ok=True)\n",
    "        \n",
    "        MAPPER=new_mapper(ambench2022, DOC_TYPE, CONFIG)\n",
    "        try :\n",
    "            amdocs=MAPPER.map_from_excel(outfolder,verbose=True) \n",
    "            ok = validate_amdocs(amdocs)\n",
    "            if not ok:\n",
    "                print()\n",
    "            if doLoad and ok:\n",
    "                load_amdocs_cdcs(amdocs)\n",
    "            all_handled[DOC_TYPE]=amdocs\n",
    "        except Exception as e:\n",
    "            print(e)\n",
    "            if breakOnError:\n",
    "                break\n",
    "    return all_handled"
   ]
  },
  {
   "cell_type": "code",
   "execution_count": 13,
   "metadata": {
    "scrolled": false,
    "tags": []
   },
   "outputs": [
    {
     "name": "stdout",
     "output_type": "stream",
     "text": [
      "DOC_TYPE: AMMechanicalTesting\n"
     ]
    },
    {
     "name": "stderr",
     "output_type": "stream",
     "text": [
      "100%|████████████████████████████████████████████████████████████████████████████| 100/100 [00:08<00:00, 11.02it/s]\n"
     ]
    },
    {
     "name": "stdout",
     "output_type": "stream",
     "text": [
      "Reading excel  15.214499473571777\n"
     ]
    },
    {
     "name": "stderr",
     "output_type": "stream",
     "text": [
      "100%|██████████████████████████████████████████████████████████████████████████████| 31/31 [00:02<00:00,  9.44it/s]\n",
      "100%|████████████████████████████████████████████████████████████████████████████| 232/232 [00:17<00:00, 12.98it/s]\n",
      "100%|██████████████████████████████████████████████████████████████████████████████| 89/89 [00:06<00:00, 13.04it/s]\n",
      "100%|██████████████████████████████████████████████████████████████████████████████| 12/12 [00:00<00:00,  3.32it/s]\n"
     ]
    },
    {
     "name": "stdout",
     "output_type": "stream",
     "text": [
      "Upload pids  27.636111974716187\n",
      "Found: AMB2022_Mech-Testing_44519001  ==>  https://ambench2022.nist.gov/pid/rest/local/cdcs/8AJQPZXAX2MD83YA update doc from excel\n",
      "Found: AMB2022_Mech-Testing_44519002  ==>  https://ambench2022.nist.gov/pid/rest/local/cdcs/9KG30PFO133OE10N update doc from excel\n",
      "Found: AMB2022_Mech-Testing_44519003  ==>  https://ambench2022.nist.gov/pid/rest/local/cdcs/GBLHRU6WNCHG65R8 update doc from excel\n",
      "Found: AMB2022_Mech-Testing_44522001  ==>  https://ambench2022.nist.gov/pid/rest/local/cdcs/RJ6FMA4GC5EDRSSA update doc from excel\n",
      "Found: AMB2022_Mech-Testing_44522002  ==>  https://ambench2022.nist.gov/pid/rest/local/cdcs/JVOD3OUUBPYC8ZO9 update doc from excel\n",
      "Found: AMB2022_Mech-Testing_44522003  ==>  https://ambench2022.nist.gov/pid/rest/local/cdcs/GXK73SNYHQFRG5F2 update doc from excel\n",
      "Found: AMB2022_Mech-Testing_625-CBM-B1-TH1-F  ==>  https://ambench2022.nist.gov/pid/rest/local/cdcs/LT0F73ZNQW0QLBKX update doc from excel\n",
      "Found: AMB2022_Mech-Testing_625-CBM-B2-0-X.01-1  ==>  https://ambench2022.nist.gov/pid/rest/local/cdcs/SA1SJSBPWYSTGIKM update doc from excel\n",
      "Found: AMB2022_Mech-Testing_625-CBM-B2-0-X.01-2  ==>  https://ambench2022.nist.gov/pid/rest/local/cdcs/IY04UW1XA0J9ISS5 update doc from excel\n",
      "Found: AMB2022_Mech-Testing_625-CBM-B2-0-X.01-3  ==>  https://ambench2022.nist.gov/pid/rest/local/cdcs/PUXVO7YGMMWKQ84K update doc from excel\n",
      "Found: AMB2022_Mech-Testing_625-CBM-B2-0-X.01-4  ==>  https://ambench2022.nist.gov/pid/rest/local/cdcs/ZEWTGYI6HAQWSG12 update doc from excel\n",
      "Found: AMB2022_Mech-Testing_625-CBM-B2-0-X.11-1  ==>  https://ambench2022.nist.gov/pid/rest/local/cdcs/534Y6DR55Y2I6N9Z update doc from excel\n",
      "Found: AMB2022_Mech-Testing_625-CBM-B2-0-X.11-2  ==>  https://ambench2022.nist.gov/pid/rest/local/cdcs/YMJU6BDM0QQ5ISZQ update doc from excel\n",
      "Found: AMB2022_Mech-Testing_625-CBM-B2-0-X.11-3  ==>  https://ambench2022.nist.gov/pid/rest/local/cdcs/KVK2Q3ATQ6T8CHMW update doc from excel\n",
      "Found: AMB2022_Mech-Testing_625-CBM-B2-0-X.11-4  ==>  https://ambench2022.nist.gov/pid/rest/local/cdcs/7UG0XHKEOQJJTMQK update doc from excel\n",
      "Found: AMB2022_Mech-Testing_625-CBM-B2-0-X.20-1  ==>  https://ambench2022.nist.gov/pid/rest/local/cdcs/S5VYRGTK1F4OPYOM update doc from excel\n",
      "Found: AMB2022_Mech-Testing_625-CBM-B2-0-X.20-2  ==>  https://ambench2022.nist.gov/pid/rest/local/cdcs/5WTBC0NN4I8856QN update doc from excel\n",
      "Found: AMB2022_Mech-Testing_625-CBM-B2-0-X.20-3  ==>  https://ambench2022.nist.gov/pid/rest/local/cdcs/0VHT9YE0CG0QDGZA update doc from excel\n",
      "Found: AMB2022_Mech-Testing_625-CBM-B2-0-X.20-4  ==>  https://ambench2022.nist.gov/pid/rest/local/cdcs/RNW4UWLC76FPYP06 update doc from excel\n",
      "Found: AMB2022_Mech-Testing_625-CBM-B2-0-XY.05-1  ==>  https://ambench2022.nist.gov/pid/rest/local/cdcs/8G5BN16DSIVCPXYP update doc from excel\n",
      "Found: AMB2022_Mech-Testing_625-CBM-B2-0-XY.05-2  ==>  https://ambench2022.nist.gov/pid/rest/local/cdcs/GUZXE6DBIHI0SAD9 update doc from excel\n",
      "Found: AMB2022_Mech-Testing_625-CBM-B2-0-XY.05-3  ==>  https://ambench2022.nist.gov/pid/rest/local/cdcs/8IYBLGAZYK5B1JU0 update doc from excel\n",
      "Found: AMB2022_Mech-Testing_625-CBM-B2-0-XY.05-4  ==>  https://ambench2022.nist.gov/pid/rest/local/cdcs/UJXH0FC778DKZN8O update doc from excel\n",
      "Found: AMB2022_Mech-Testing_625-CBM-B2-0-XY.10-1  ==>  https://ambench2022.nist.gov/pid/rest/local/cdcs/93K803MB1FNS2IZ7 update doc from excel\n",
      "Found: AMB2022_Mech-Testing_625-CBM-B2-0-XY.10-2  ==>  https://ambench2022.nist.gov/pid/rest/local/cdcs/9N9RD27R4WA5XWL4 update doc from excel\n",
      "Found: AMB2022_Mech-Testing_625-CBM-B2-0-XY.10-3  ==>  https://ambench2022.nist.gov/pid/rest/local/cdcs/JFDCJHW1MD239FP6 update doc from excel\n",
      "Found: AMB2022_Mech-Testing_625-CBM-B2-0-XY.10-4  ==>  https://ambench2022.nist.gov/pid/rest/local/cdcs/FBZBZHX8QQ1ZUPJI update doc from excel\n",
      "Found: AMB2022_Mech-Testing_625-CBM-B2-0-XY.20-1  ==>  https://ambench2022.nist.gov/pid/rest/local/cdcs/CE1GMEK7GBBKEH0W update doc from excel\n",
      "Found: AMB2022_Mech-Testing_625-CBM-B2-0-XY.20-2  ==>  https://ambench2022.nist.gov/pid/rest/local/cdcs/C16KZC4SV1IG60LQ update doc from excel\n",
      "Found: AMB2022_Mech-Testing_625-CBM-B2-0-XY.20-3  ==>  https://ambench2022.nist.gov/pid/rest/local/cdcs/8Y0KYXXQOYK4OVSY update doc from excel\n",
      "Found: AMB2022_Mech-Testing_625-CBM-B2-0-XY.20-4  ==>  https://ambench2022.nist.gov/pid/rest/local/cdcs/KOMMX8F4DY941ZHU update doc from excel\n",
      "Found: AMB2022_Mech-Testing_625-CBM-B2-30-XY.01-1  ==>  https://ambench2022.nist.gov/pid/rest/local/cdcs/249BJO8V2GBIBCSN update doc from excel\n",
      "Found: AMB2022_Mech-Testing_625-CBM-B2-30-XY.01-2  ==>  https://ambench2022.nist.gov/pid/rest/local/cdcs/RBYTCT9U489EKGZ7 update doc from excel\n",
      "Found: AMB2022_Mech-Testing_625-CBM-B2-30-XY.01-3  ==>  https://ambench2022.nist.gov/pid/rest/local/cdcs/WS3PKL78ZKK1UPMJ update doc from excel\n",
      "Found: AMB2022_Mech-Testing_625-CBM-B2-30-XY.01-4  ==>  https://ambench2022.nist.gov/pid/rest/local/cdcs/90SVMANY24ONL5OM update doc from excel\n",
      "Found: AMB2022_Mech-Testing_625-CBM-B2-30-XY.12-1  ==>  https://ambench2022.nist.gov/pid/rest/local/cdcs/KWJJHRQZNXZ8WBB1 update doc from excel\n",
      "Found: AMB2022_Mech-Testing_625-CBM-B2-30-XY.12-2  ==>  https://ambench2022.nist.gov/pid/rest/local/cdcs/PGIQK9CF8P5AE7LE update doc from excel\n",
      "Found: AMB2022_Mech-Testing_625-CBM-B2-30-XY.12-3  ==>  https://ambench2022.nist.gov/pid/rest/local/cdcs/WVXOWCWJE584GG7L update doc from excel\n",
      "Found: AMB2022_Mech-Testing_625-CBM-B2-30-XY.18-1  ==>  https://ambench2022.nist.gov/pid/rest/local/cdcs/RVEI8LIHW96MFGPX update doc from excel\n",
      "Found: AMB2022_Mech-Testing_625-CBM-B2-30-XY.18-2  ==>  https://ambench2022.nist.gov/pid/rest/local/cdcs/NIE0LSY4RVKTAXAF update doc from excel\n",
      "Found: AMB2022_Mech-Testing_625-CBM-B2-45-XY.02-1  ==>  https://ambench2022.nist.gov/pid/rest/local/cdcs/010387F1OA9VNZWD update doc from excel\n",
      "Found: AMB2022_Mech-Testing_625-CBM-B2-45-XY.02-2  ==>  https://ambench2022.nist.gov/pid/rest/local/cdcs/YLUU0G9BP7NFTPHI update doc from excel\n",
      "Found: AMB2022_Mech-Testing_625-CBM-B2-45-XY.02-3  ==>  https://ambench2022.nist.gov/pid/rest/local/cdcs/O95BU8X4BFN0YI2N update doc from excel\n",
      "Found: AMB2022_Mech-Testing_625-CBM-B2-45-XY.02-4  ==>  https://ambench2022.nist.gov/pid/rest/local/cdcs/UI75V2PM2S9XJLRC update doc from excel\n",
      "Found: AMB2022_Mech-Testing_625-CBM-B2-45-XY.08-1  ==>  https://ambench2022.nist.gov/pid/rest/local/cdcs/5QPFIPUEXHVETKF9 update doc from excel\n",
      "Found: AMB2022_Mech-Testing_625-CBM-B2-45-XY.08-2  ==>  https://ambench2022.nist.gov/pid/rest/local/cdcs/CV8QWPUE5OJJJ16H update doc from excel\n",
      "Found: AMB2022_Mech-Testing_625-CBM-B2-45-XY.08-3  ==>  https://ambench2022.nist.gov/pid/rest/local/cdcs/2N9KO1FRE3TB3T41 update doc from excel\n",
      "Found: AMB2022_Mech-Testing_625-CBM-B2-45-XY.08-4  ==>  https://ambench2022.nist.gov/pid/rest/local/cdcs/6MX1WQ44HSJGQPXL update doc from excel\n",
      "Found: AMB2022_Mech-Testing_625-CBM-B2-45-XY.13-1  ==>  https://ambench2022.nist.gov/pid/rest/local/cdcs/439OP63W0Y6QP6Z5 update doc from excel\n",
      "Found: AMB2022_Mech-Testing_625-CBM-B2-45-XY.13-2  ==>  https://ambench2022.nist.gov/pid/rest/local/cdcs/BWYHGEMSPQ9GX7C1 update doc from excel\n",
      "Found: AMB2022_Mech-Testing_625-CBM-B2-45-XY.13-3  ==>  https://ambench2022.nist.gov/pid/rest/local/cdcs/O83D2U0W0KIGMC0K update doc from excel\n",
      "Found: AMB2022_Mech-Testing_625-CBM-B2-45-XY.13-4  ==>  https://ambench2022.nist.gov/pid/rest/local/cdcs/V0I4OXKYHPQD6CSM update doc from excel\n",
      "Found: AMB2022_Mech-Testing_625-CBM-B2-60-X.05-1  ==>  https://ambench2022.nist.gov/pid/rest/local/cdcs/5JXJWHVOPLDEDNAU update doc from excel\n",
      "Found: AMB2022_Mech-Testing_625-CBM-B2-60-X.05-2  ==>  https://ambench2022.nist.gov/pid/rest/local/cdcs/FBY6UV4EQE9JGB52 update doc from excel\n",
      "Found: AMB2022_Mech-Testing_625-CBM-B2-60-X.05-3  ==>  https://ambench2022.nist.gov/pid/rest/local/cdcs/9YWW3XJ1645WN3X1 update doc from excel\n",
      "Found: AMB2022_Mech-Testing_625-CBM-B2-60-X.05-4  ==>  https://ambench2022.nist.gov/pid/rest/local/cdcs/0KK9IR036JFTFKXK update doc from excel\n",
      "Found: AMB2022_Mech-Testing_625-CBM-B2-60-X.12-1  ==>  https://ambench2022.nist.gov/pid/rest/local/cdcs/XNMX5C3V98W4RDE1 update doc from excel\n",
      "Found: AMB2022_Mech-Testing_625-CBM-B2-60-X.12-2  ==>  https://ambench2022.nist.gov/pid/rest/local/cdcs/1W4O3HJK5CUYM291 update doc from excel\n"
     ]
    },
    {
     "name": "stdout",
     "output_type": "stream",
     "text": [
      "Found: AMB2022_Mech-Testing_625-CBM-B2-60-X.12-3  ==>  https://ambench2022.nist.gov/pid/rest/local/cdcs/KJL5QHQPUL60MV9D update doc from excel\n",
      "Found: AMB2022_Mech-Testing_625-CBM-B2-60-X.12-4  ==>  https://ambench2022.nist.gov/pid/rest/local/cdcs/P3BLWKEM5FVRWUDK update doc from excel\n",
      "Found: AMB2022_Mech-Testing_625-CBM-B2-60-X.14-1  ==>  https://ambench2022.nist.gov/pid/rest/local/cdcs/QECRJGY9QGPNFW0J update doc from excel\n",
      "Found: AMB2022_Mech-Testing_625-CBM-B2-60-X.14-2  ==>  https://ambench2022.nist.gov/pid/rest/local/cdcs/AYTTGF50B1TG3KDQ update doc from excel\n",
      "Found: AMB2022_Mech-Testing_625-CBM-B2-60-X.14-3  ==>  https://ambench2022.nist.gov/pid/rest/local/cdcs/VX9GILX5G8UEPLMS update doc from excel\n",
      "Found: AMB2022_Mech-Testing_625-CBM-B2-60-X.14-4  ==>  https://ambench2022.nist.gov/pid/rest/local/cdcs/YR59WU8M9KIHRUW2 update doc from excel\n",
      "Found: AMB2022_Mech-Testing_625-CBM-B2-60-XY.04-1  ==>  https://ambench2022.nist.gov/pid/rest/local/cdcs/085206XQT3QAA8MO update doc from excel\n",
      "Found: AMB2022_Mech-Testing_625-CBM-B2-60-XY.04-2  ==>  https://ambench2022.nist.gov/pid/rest/local/cdcs/7A4ETFKNU7WZK6Z8 update doc from excel\n",
      "Found: AMB2022_Mech-Testing_625-CBM-B2-60-XY.04-3  ==>  https://ambench2022.nist.gov/pid/rest/local/cdcs/EEBYCYIDYMZRPMK1 update doc from excel\n",
      "Found: AMB2022_Mech-Testing_625-CBM-B2-60-XY.04-4  ==>  https://ambench2022.nist.gov/pid/rest/local/cdcs/OI7NDDK9S66XS6PT update doc from excel\n",
      "Found: AMB2022_Mech-Testing_625-CBM-B2-60-XY.09-1  ==>  https://ambench2022.nist.gov/pid/rest/local/cdcs/TZHY6NOL0B5665AK update doc from excel\n",
      "Found: AMB2022_Mech-Testing_625-CBM-B2-60-XY.09-2  ==>  https://ambench2022.nist.gov/pid/rest/local/cdcs/RCOGPWBFTGC43LCJ update doc from excel\n",
      "Found: AMB2022_Mech-Testing_625-CBM-B2-60-XY.09-3  ==>  https://ambench2022.nist.gov/pid/rest/local/cdcs/B8DIJHCGNLDVSV3M update doc from excel\n",
      "Found: AMB2022_Mech-Testing_625-CBM-B2-60-XY.09-4  ==>  https://ambench2022.nist.gov/pid/rest/local/cdcs/6WVF6YLWZUZ7JFE5 update doc from excel\n",
      "Found: AMB2022_Mech-Testing_625-CBM-B2-60-XY.15-1  ==>  https://ambench2022.nist.gov/pid/rest/local/cdcs/VGDCI670LSSASWC4 update doc from excel\n",
      "Found: AMB2022_Mech-Testing_625-CBM-B2-60-XY.15-2  ==>  https://ambench2022.nist.gov/pid/rest/local/cdcs/I5YJRCUZNN6HUF7C update doc from excel\n",
      "Found: AMB2022_Mech-Testing_625-CBM-B2-60-XY.15-3  ==>  https://ambench2022.nist.gov/pid/rest/local/cdcs/KMC1ZRDPKG60BY6B update doc from excel\n",
      "Found: AMB2022_Mech-Testing_625-CBM-B2-60-XY.15-4  ==>  https://ambench2022.nist.gov/pid/rest/local/cdcs/668ITZ6E5VYJRVPE update doc from excel\n",
      "Found: AMB2022_Mech-Testing_625-CBM-B2-90-X.08-1  ==>  https://ambench2022.nist.gov/pid/rest/local/cdcs/P23KLMJA002N9QNN update doc from excel\n",
      "Found: AMB2022_Mech-Testing_625-CBM-B2-90-X.08-2  ==>  https://ambench2022.nist.gov/pid/rest/local/cdcs/LAASRFEW0ANSMKCP update doc from excel\n",
      "Found: AMB2022_Mech-Testing_625-CBM-B2-90-X.08-3  ==>  https://ambench2022.nist.gov/pid/rest/local/cdcs/UO17GUYBX984L13H update doc from excel\n",
      "Found: AMB2022_Mech-Testing_625-CBM-B2-90-X.08-4  ==>  https://ambench2022.nist.gov/pid/rest/local/cdcs/OLY6CMXEZG8OIOD3 update doc from excel\n",
      "Found: AMB2022_Mech-Testing_625-CBM-B2-90-X.13-1  ==>  https://ambench2022.nist.gov/pid/rest/local/cdcs/UBZEJMS56BA6GBNI update doc from excel\n",
      "Found: AMB2022_Mech-Testing_625-CBM-B2-90-X.13-2  ==>  https://ambench2022.nist.gov/pid/rest/local/cdcs/QCRUZ7OPPCQRW87K update doc from excel\n",
      "Found: AMB2022_Mech-Testing_625-CBM-B2-90-X.13-3  ==>  https://ambench2022.nist.gov/pid/rest/local/cdcs/7MOG5BSMS5V1MMFV update doc from excel\n",
      "Found: AMB2022_Mech-Testing_625-CBM-B2-90-X.13-4  ==>  https://ambench2022.nist.gov/pid/rest/local/cdcs/FKXU8YKDG6KBH4OP update doc from excel\n",
      "Found: AMB2022_Mech-Testing_625-CBM-B2-90-X.19-1  ==>  https://ambench2022.nist.gov/pid/rest/local/cdcs/JAP0M8PMRCMX6V14 update doc from excel\n",
      "Found: AMB2022_Mech-Testing_625-CBM-B2-90-X.19-2  ==>  https://ambench2022.nist.gov/pid/rest/local/cdcs/9X70VD557YFKTJDJ update doc from excel\n",
      "Found: AMB2022_Mech-Testing_625-CBM-B2-90-X.19-3  ==>  https://ambench2022.nist.gov/pid/rest/local/cdcs/AH3PUFTETEW0FHI7 update doc from excel\n",
      "Found: AMB2022_Mech-Testing_625-CBM-B2-90-X.19-4  ==>  https://ambench2022.nist.gov/pid/rest/local/cdcs/H1LGTJQOI1JJRYZD update doc from excel\n",
      "Found: AMB2022_Mech-Testing_625-CBM-B2-90-XY.07-1  ==>  https://ambench2022.nist.gov/pid/rest/local/cdcs/8ZZPXC24C72B2QWD update doc from excel\n",
      "Found: AMB2022_Mech-Testing_625-CBM-B2-90-XY.07-2  ==>  https://ambench2022.nist.gov/pid/rest/local/cdcs/J5BSY04HST5QKUR7 update doc from excel\n",
      "Found: AMB2022_Mech-Testing_625-CBM-B2-90-XY.07-3  ==>  https://ambench2022.nist.gov/pid/rest/local/cdcs/J91EX0RHI92HQHRS update doc from excel\n",
      "Found: AMB2022_Mech-Testing_625-CBM-B2-90-XY.07-4  ==>  https://ambench2022.nist.gov/pid/rest/local/cdcs/NC3RMC70RPICBTC5 update doc from excel\n",
      "Found: AMB2022_Mech-Testing_625-CBM-B2-90-XY.16-1  ==>  https://ambench2022.nist.gov/pid/rest/local/cdcs/CXF2ZIIR712FFFBB update doc from excel\n",
      "Found: AMB2022_Mech-Testing_625-CBM-B2-90-XY.16-2  ==>  https://ambench2022.nist.gov/pid/rest/local/cdcs/OUNCL3PECQ7IXSDT update doc from excel\n",
      "Found: AMB2022_Mech-Testing_625-CBM-B2-90-XY.16-3  ==>  https://ambench2022.nist.gov/pid/rest/local/cdcs/JB7ZB2SDEKNNO76X update doc from excel\n",
      "Found: AMB2022_Mech-Testing_625-CBM-B2-90-XY.16-4  ==>  https://ambench2022.nist.gov/pid/rest/local/cdcs/FACHXWZMISJBYPHO update doc from excel\n",
      "Found: AMB2022_Mech-Testing_625-CBM-B2-90-XY.17-1  ==>  https://ambench2022.nist.gov/pid/rest/local/cdcs/RPTYSW3JT0GLTLRZ update doc from excel\n",
      "Found: AMB2022_Mech-Testing_625-CBM-B2-90-XY.17-2  ==>  https://ambench2022.nist.gov/pid/rest/local/cdcs/Z7AOZF3J0RI9YVAZ update doc from excel\n",
      "Found: AMB2022_Mech-Testing_625-CBM-B2-90-XY.17-3  ==>  https://ambench2022.nist.gov/pid/rest/local/cdcs/UMOM4RCT8S9T0HQ7 update doc from excel\n",
      "Found: AMB2022_Mech-Testing_625-CBM-B2-90-XY.17-4  ==>  https://ambench2022.nist.gov/pid/rest/local/cdcs/EL3XD30H0K4JMZ6M update doc from excel\n",
      "not well-formed (invalid token): line 89, column 23\n",
      "CPU times: total: 54.3 s\n",
      "Wall time: 2min 18s\n"
     ]
    }
   ],
   "source": [
    "%%time\n",
    "# Specify the list of AM Bench documnent types to map\n",
    "# doc_types=ALL_DOC_TYPES\n",
    "# doc_types=['AMBuildPlate']\n",
    "doc_types=['AMMechanicalTesting']\n",
    "r=map_them(doc_types,doLoad=False)"
   ]
  },
  {
   "cell_type": "code",
   "execution_count": null,
   "metadata": {},
   "outputs": [],
   "source": []
  },
  {
   "cell_type": "code",
   "execution_count": null,
   "metadata": {},
   "outputs": [],
   "source": []
  }
 ],
 "metadata": {
  "kernelspec": {
   "display_name": "Python 3 (ipykernel)",
   "language": "python",
   "name": "python3"
  },
  "language_info": {
   "codemirror_mode": {
    "name": "ipython",
    "version": 3
   },
   "file_extension": ".py",
   "mimetype": "text/x-python",
   "name": "python",
   "nbconvert_exporter": "python",
   "pygments_lexer": "ipython3",
   "version": "3.8.18"
  }
 },
 "nbformat": 4,
 "nbformat_minor": 4
}
