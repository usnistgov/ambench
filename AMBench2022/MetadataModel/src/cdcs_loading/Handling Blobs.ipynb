{
 "cells": [
  {
   "cell_type": "markdown",
   "metadata": {},
   "source": [
    "# Handling Blobs\n",
    "Sample code to query for and possibly delete blobs. Also loading QR codes as blobs"
   ]
  },
  {
   "cell_type": "code",
   "execution_count": 1,
   "metadata": {},
   "outputs": [],
   "source": [
    "import os\n",
    "import glob\n",
    "import json\n",
    "import io\n",
    "import sys\n",
    "import datetime\n",
    "import pandas\n",
    "import lxml.etree as ET\n",
    "import importlib\n",
    "import hashlib\n",
    "from cdcs import CDCS"
   ]
  },
  {
   "cell_type": "code",
   "execution_count": 2,
   "metadata": {},
   "outputs": [],
   "source": [
    "import pyxb\n",
    "pyxb.RequireValidWhenGenerating(False);"
   ]
  },
  {
   "cell_type": "code",
   "execution_count": 3,
   "metadata": {},
   "outputs": [],
   "source": [
    "from myconfig import *"
   ]
  },
  {
   "cell_type": "code",
   "execution_count": 4,
   "metadata": {},
   "outputs": [],
   "source": [
    "try: USER\n",
    "except: USER = input('username: ')\n",
    "try: PASS\n",
    "except: PASS = getpass.getpass('enter password ')\n",
    "AUTH=(USER,PASS)"
   ]
  },
  {
   "cell_type": "code",
   "execution_count": 5,
   "metadata": {},
   "outputs": [],
   "source": [
    "pyUTILS_path=f\"{os.getcwd()}/py\"\n",
    "sys.path.insert(0, pyUTILS_path)\n",
    "import cdcs_utils\n",
    "import amdoc"
   ]
  },
  {
   "cell_type": "code",
   "execution_count": 6,
   "metadata": {},
   "outputs": [],
   "source": [
    "importlib.reload(amdoc);"
   ]
  },
  {
   "cell_type": "code",
   "execution_count": 7,
   "metadata": {},
   "outputs": [],
   "source": [
    "importlib.reload(cdcs_utils)\n",
    "from cdcs_utils import *"
   ]
  },
  {
   "cell_type": "code",
   "execution_count": 8,
   "metadata": {},
   "outputs": [],
   "source": [
    "ambench2022=AMBench2022(TEMPLATE,AMBENCH_URL,auth=AUTH)\n",
    "VALIDATOR = ambench2022.create_schema_validator(); "
   ]
  },
  {
   "cell_type": "markdown",
   "metadata": {},
   "source": [
    "# find existing blobs"
   ]
  },
  {
   "cell_type": "code",
   "execution_count": 12,
   "metadata": {},
   "outputs": [
    {
     "name": "stdout",
     "output_type": "stream",
     "text": [
      "https://test-ambench2022.nist.gov/rest/blob/download/61953462ef2ff2d7523d693b/ 337971b4f1dc1fb600c7fe03fb67f936\n",
      "https://test-ambench2022.nist.gov/rest/blob/download/61953463eabc81389ad8aae8/ 59060b86d1d162a0650051c7fbda022e\n",
      "https://test-ambench2022.nist.gov/rest/blob/download/6195346408ff6bab6ab2097c/ 2e0434883853fa27a5ebcdcfddae5bb7\n",
      "https://test-ambench2022.nist.gov/rest/blob/download/61953465b39255f726bacd89/ ea5bc65435387a3ec8d82c3950eb979d\n",
      "https://test-ambench2022.nist.gov/rest/blob/download/61953465ef2ff2d7523d6943/ c8c8dd330dc3e93bdff04810bdcf814a\n",
      "https://test-ambench2022.nist.gov/rest/blob/download/619534660ae39d09d47244c3/ 18b883adfbeb1e57747c8fc0559f6ae9\n",
      "https://test-ambench2022.nist.gov/rest/blob/download/61953467ee1985f7165bb237/ 0269a323dfc4fe7f260b60287ea488d8\n",
      "https://test-ambench2022.nist.gov/rest/blob/download/619534680ae39d09d47244cb/ 5692952162eaa6cb2d74cfebea4c88b7\n",
      "https://test-ambench2022.nist.gov/rest/blob/download/61953469ef2ff2d7523d694e/ 79fab789d960ef03da6b84739a25126c\n",
      "https://test-ambench2022.nist.gov/rest/blob/download/619534690ae39d09d47244ce/ c52fe7f69b3a0cfe2a70e61a781e9b6a\n"
     ]
    }
   ],
   "source": [
    "blobs=ambench2022.query_all_amblobs()\n",
    "for t in blobs.itertuples():\n",
    "    blob=amdoc.CreateFromDocument(t.xml_content)\n",
    "    r=requests.get(blob.handle,auth=AUTH,verify=False)\n",
    "    checksum=hashlib.md5(r.content).hexdigest()\n",
    "    print(blob.handle,checksum)\n",
    "    "
   ]
  },
  {
   "cell_type": "code",
   "execution_count": 15,
   "metadata": {
    "tags": []
   },
   "outputs": [],
   "source": [
    "amblobs=ambench2022.query_all_amblobs()\n",
    "ch={}\n",
    "for t in amblobs.itertuples():\n",
    "    el=xpath(t.xml_content,'//AMBlob')[0]\n",
    "    handle=el.xpath(\"handle/text()\")[0]\n",
    "    format1=el.xpath(\"format/text()\")[0]\n",
    "    checksum1=el.xpath(\"checksum/text()\")[0]\n",
    "    r=requests.get(handle,auth=AUTH,verify=False)\n",
    "    checksum2=checksum4bytes(r.content)\n",
    "    format2=imageFormatForBytes(r.content)\n",
    "    if checksum1 != checksum2:\n",
    "        print(\"problem with\",handle,format1,format2)\n"
   ]
  },
  {
   "cell_type": "code",
   "execution_count": 16,
   "metadata": {},
   "outputs": [],
   "source": [
    "spec=ambench2022.query_docs_by_type('AMSpecimen')"
   ]
  },
  {
   "cell_type": "code",
   "execution_count": 19,
   "metadata": {},
   "outputs": [],
   "source": [
    "handles={}\n",
    "for _,row in spec.iterrows():\n",
    "    s=amdoc.CreateFromDocument(row['xml_content'])\n",
    "    if s.AMSpecimen.processingSteps is not None:\n",
    "        for ps in s.AMSpecimen.processingSteps.ProcessingStep:\n",
    "            if ps.processingIllustration is not None:\n",
    "                for i in ps.processingIllustration:\n",
    "                    r=requests.get(i.handle,auth=AUTH,verify=False)\n",
    "                    checksum=hashlib.md5(r.content).hexdigest()\n",
    "                    if i.checksum != checksum:\n",
    "                        print(\"PROBLEM:\",i.handle,i.checksum,checksum)\n"
   ]
  },
  {
   "cell_type": "markdown",
   "metadata": {},
   "source": [
    "## add AMBlob-s for blobs"
   ]
  },
  {
   "cell_type": "code",
   "execution_count": null,
   "metadata": {
    "tags": []
   },
   "outputs": [],
   "source": [
    "blobs=ambench2022.get_blobs()\n",
    "for blob in blobs.itertuples():\n",
    "    amblob=amdoc.AMBlob()\n",
    "    amblob.handle=blob.handle\n",
    "    r=requests.get(blob.handle,auth=AUTH,verify=False)\n",
    "    try:\n",
    "        image = Image.open(io.BytesIO(r.content))\n",
    "        frmt=image.format\n",
    "        checksum=checksum4image(image)\n",
    "        amblob.checksum=checksum\n",
    "        amblob.format=frmt\n",
    "        xml_content=amblob.toxml(\"utf-8\")#.decode('utf-8')\n",
    "        r = ambench2022.upload_data(xml_content=xml_content,title=amblob.checksum)\n",
    "        print(\"UPLOADED\",blob.handle,frmt,checksum)\n",
    "    except Exception as e:\n",
    "        print(blob.handle,e)\n",
    "         "
   ]
  },
  {
   "cell_type": "code",
   "execution_count": null,
   "metadata": {
    "tags": []
   },
   "outputs": [],
   "source": [
    "amblobs=ambench2022.query_all_amblobs()\n",
    "amblobs"
   ]
  },
  {
   "cell_type": "code",
   "execution_count": null,
   "metadata": {
    "tags": []
   },
   "outputs": [],
   "source": [
    "for t in amblobs.itertuples():\n",
    "    print(t.xml_content)\n",
    "    root=ET.fromstring(bytes(t.xml_content))\n",
    "    break"
   ]
  },
  {
   "cell_type": "markdown",
   "metadata": {},
   "source": [
    "## retrieve images from excel sheet"
   ]
  },
  {
   "cell_type": "code",
   "execution_count": null,
   "metadata": {},
   "outputs": [],
   "source": [
    "import string\n",
    "import itertools\n",
    "def read_excel(EXCEL_FILE, sheet_name):\n",
    "    xl = pandas.ExcelFile (EXCEL_FILE)\n",
    "    df=xl.parse(sheet_name).dropna(how='all') \n",
    "    return df\n",
    "\n",
    "def checksum4image(image):\n",
    "    b = pil2bytes(image)\n",
    "    return checksum4bytes(b)\n",
    "\n",
    "def pil2bytes(image):\n",
    "    '''\n",
    "    transform a PIL image to a bytearray\n",
    "    '''\n",
    "    imgByteArr = io.BytesIO()\n",
    "    image.save(imgByteArr, format=image.format)\n",
    "    imgByteArr = imgByteArr.getvalue()\n",
    "    return imgByteArr\n",
    "\n",
    "def retrieveAndLoadProcessingStepImages(ambench2022,excel,image_column,sheetname='Specimens'):\n",
    "    '''\n",
    "    retrieve processing step images for specimen\n",
    "    return dict checksum:handle pairs\n",
    "    '''\n",
    "    pandas_sheet=read_excel(excel,sheetname)\n",
    "    pxl_doc = openpyxl.load_workbook(excel)\n",
    "    pyxl_sheet = pxl_doc[SHEET]    \n",
    "    \n",
    "    image_loader = SheetImageLoader(pyxl_sheet)\n",
    "\n",
    "    ####################################################################################\n",
    "    # create mapping between pandas columns and openpyxl column headers\n",
    "    # for working with openpyxl, need to have the excel sheet headers. \n",
    "    # here a list is created from A-Z+AA-ZZ and this is mapped to the column headers in pandas data frame\n",
    "    alphabet = list(string.ascii_uppercase)\n",
    "    alphabets=[f'{a[0]}{a[1]}' for a in itertools.product(alphabet,alphabet)]\n",
    "    excel_header=alphabet+alphabets\n",
    "    colsmap={a[0]:a[1] for a in zip(pandas_sheet.columns,excel_header)}\n",
    "    ####################################################################################\n",
    "\n",
    "    header=colsmap[image_column]\n",
    "    # query for existing blobs in the database\n",
    "    all_images=ambench2022.query_amblob_refs()\n",
    "    cells=[]\n",
    "    blobRefs={}\n",
    "    for i,row in pandas_sheet.iterrows():\n",
    "        # cell possibly containing image for the current row\n",
    "        cell=f'{header}{i+2}'\n",
    "        cells.append(cell)\n",
    "        try:\n",
    "            image = image_loader.get(cell)\n",
    "            checksum=checksum4image(image)\n",
    "            \n",
    "            if checksum != checksum1:\n",
    "                print(cell,checksum,checksum1)\n",
    "\n",
    "            if checksum not in all_images:\n",
    "                print(\"MUST LOAD\",cell,checksum)\n",
    "#                 handle=ambench2022.upload_amblob_and_blob(image=image)\n",
    "#                 all_images[checksum]=handle\n",
    "\n",
    "            blobRef=amdoc.AMBlobReference()\n",
    "            blobRef.checksum=checksum\n",
    "            blobRef.handle=handle\n",
    "            blobRefs[cell]=blobRef\n",
    "        except Exception as e:\n",
    "            if str(e).endswith(\"doesn't contain an image\"):\n",
    "                pass\n",
    "            else:\n",
    "                raise e\n",
    "    pandas_sheet['processing_images_cells']=cells\n",
    "    return blobRefs\n"
   ]
  },
  {
   "cell_type": "code",
   "execution_count": null,
   "metadata": {},
   "outputs": [],
   "source": []
  },
  {
   "cell_type": "code",
   "execution_count": null,
   "metadata": {},
   "outputs": [],
   "source": [
    "from myconfig import *\n",
    "EXCEL_FILE=SAMPLES_EXCEL_FILE"
   ]
  },
  {
   "cell_type": "code",
   "execution_count": null,
   "metadata": {},
   "outputs": [],
   "source": [
    "SHEET='Specimens'\n",
    "sheet=read_excel(EXCEL_FILE,SHEET)\n",
    "pxl_doc = openpyxl.load_workbook(EXCEL_FILE)\n",
    "_sheet = pxl_doc[SHEET]"
   ]
  },
  {
   "cell_type": "code",
   "execution_count": null,
   "metadata": {
    "tags": []
   },
   "outputs": [],
   "source": [
    "# check whether images exist for any of the processing steps for these specimens and load those\n",
    "# returned a dict checksum:handle of all loaded blobs\n",
    "images = retrieveAndLoadProcessingStepImages(ambench2022,EXCEL_FILE,'Processing_diagrams_and_photos','Specimens')"
   ]
  },
  {
   "cell_type": "code",
   "execution_count": null,
   "metadata": {},
   "outputs": [],
   "source": [
    "all_images=ambench2022.query_amblob_refs()\n",
    "inv_map = {v: k for k, v in all_images.items()}"
   ]
  },
  {
   "cell_type": "code",
   "execution_count": null,
   "metadata": {},
   "outputs": [],
   "source": [
    "blobs=ambench2022.get_blobs()\n",
    "for blob in blobs.itertuples():\n",
    "    r=requests.get(blob.handle,auth=AUTH,verify=False)\n",
    "    checksum=hashlib.md5(r.content).hexdigest()\n",
    "    print(blob.handle,checksum,checksum in all_images,blob.handle in inv_map)"
   ]
  },
  {
   "cell_type": "code",
   "execution_count": null,
   "metadata": {},
   "outputs": [],
   "source": [
    "s='https://test-ambench2022.nist.gov/rest/blob/download/619534690ae39d09d47244ce/'\n",
    "r = requests.get(s, stream=True,verify=False,auth=AUTH).raw"
   ]
  },
  {
   "cell_type": "code",
   "execution_count": null,
   "metadata": {},
   "outputs": [],
   "source": [
    "image = np.asarray(bytearray(r.read()), dtype=\"uint8\")\n",
    "print(checksum4bytes(image),len(image))"
   ]
  },
  {
   "cell_type": "code",
   "execution_count": null,
   "metadata": {},
   "outputs": [],
   "source": [
    "with open(\"a.jpeg\",\"wb\") as f:\n",
    "    f.write(image)"
   ]
  },
  {
   "cell_type": "code",
   "execution_count": null,
   "metadata": {},
   "outputs": [],
   "source": [
    "a=Image.open(\"a.jpeg\")\n",
    "a.save(\"b.jpeg\")"
   ]
  },
  {
   "cell_type": "code",
   "execution_count": null,
   "metadata": {},
   "outputs": [],
   "source": [
    "# im=Image.open(io.BytesIO(image))\n",
    "print(checksum4image(a),im.format)"
   ]
  },
  {
   "cell_type": "code",
   "execution_count": null,
   "metadata": {},
   "outputs": [],
   "source": [
    "imgByteArr = io.BytesIO()\n",
    "im.save(imgByteArr, format=im.format)\n",
    "imgByteArr = imgByteArr.getvalue()\n",
    "print(checksum4bytes(imgByteArr),len(imgByteArr))"
   ]
  },
  {
   "cell_type": "code",
   "execution_count": null,
   "metadata": {},
   "outputs": [],
   "source": [
    "im=Image.open(io.BytesIO(imgByteArr))\n",
    "print(checksum4image(im))\n",
    "imgByteArr = io.BytesIO()\n",
    "im.save(imgByteArr, format=im.format)\n",
    "imgByteArr = imgByteArr.getvalue()\n",
    "print(checksum4bytes(imgByteArr),len(imgByteArr))\n",
    "print(r.content==imgByteArr)"
   ]
  },
  {
   "cell_type": "code",
   "execution_count": null,
   "metadata": {},
   "outputs": [],
   "source": [
    "%pip install opencv-python"
   ]
  },
  {
   "cell_type": "code",
   "execution_count": null,
   "metadata": {},
   "outputs": [],
   "source": [
    "import cv2\n",
    "import numpy as np"
   ]
  },
  {
   "cell_type": "code",
   "execution_count": null,
   "metadata": {},
   "outputs": [],
   "source": [
    "\n",
    "resp = requests.get(s, stream=True,verify=False,auth=AUTH).raw\n",
    "image = np.asarray(bytearray(resp.read()), dtype=\"uint8\")\n",
    "image = cv2.imdecode(image, cv2.IMREAD_COLOR)"
   ]
  },
  {
   "cell_type": "code",
   "execution_count": null,
   "metadata": {},
   "outputs": [],
   "source": []
  },
  {
   "cell_type": "code",
   "execution_count": null,
   "metadata": {},
   "outputs": [],
   "source": []
  },
  {
   "cell_type": "code",
   "execution_count": null,
   "metadata": {},
   "outputs": [],
   "source": []
  },
  {
   "cell_type": "code",
   "execution_count": null,
   "metadata": {},
   "outputs": [],
   "source": [
    "checksum4bytes(io.BytesIO(r.content).getvalue())"
   ]
  },
  {
   "cell_type": "code",
   "execution_count": null,
   "metadata": {},
   "outputs": [],
   "source": [
    "for i in range(0,len(r.content)):\n",
    "    if r.content[i]!=imgByteArr[i]:\n",
    "        print(i,r.content[i],imgByteArr[i])"
   ]
  },
  {
   "cell_type": "code",
   "execution_count": null,
   "metadata": {},
   "outputs": [],
   "source": []
  },
  {
   "cell_type": "code",
   "execution_count": null,
   "metadata": {},
   "outputs": [],
   "source": []
  },
  {
   "cell_type": "code",
   "execution_count": null,
   "metadata": {},
   "outputs": [],
   "source": [
    "blobs=ambench2022.get_blobs()\n",
    "ims=[]\n",
    "for blob in blobs.itertuples():\n",
    "    r=requests.get(blob.handle,auth=AUTH,verify=False)\n",
    "    im=Image.open(io.BytesIO(r.content))\n",
    "    ims.append((blob.handle,im))"
   ]
  },
  {
   "cell_type": "code",
   "execution_count": null,
   "metadata": {},
   "outputs": [],
   "source": [
    "specimens=ambench2022.docs_by_name_AMDOC('AMSpecimen')"
   ]
  },
  {
   "cell_type": "code",
   "execution_count": null,
   "metadata": {},
   "outputs": [],
   "source": [
    "for n,s in specimens.items():\n",
    "    name=s.AMSpecimen.name\n",
    "    pss=s.AMSpecimen.processingSteps\n",
    "    if pss is not None:\n",
    "        for ps in pss.ProcessingStep:\n",
    "            for i in  ps.processingIllustration:\n",
    "                r=requests.get(i.handle,auth=AUTH,verify=False)\n",
    "                print(name,ps.id, i.handle, i.checksum,i.checksum==checksum4bytes(r.content))\n",
    "                "
   ]
  },
  {
   "cell_type": "markdown",
   "metadata": {},
   "source": [
    "# delete the (AM)Blobs"
   ]
  },
  {
   "cell_type": "code",
   "execution_count": null,
   "metadata": {},
   "outputs": [],
   "source": [
    "amblobs = ambench2022.query_all_amblobs()\n",
    "amblobs"
   ]
  },
  {
   "cell_type": "code",
   "execution_count": null,
   "metadata": {},
   "outputs": [],
   "source": [
    "for row in amblobs.itertuples():\n",
    "    print(row)\n",
    "    ambench2022.delete_record(row)"
   ]
  },
  {
   "cell_type": "code",
   "execution_count": null,
   "metadata": {},
   "outputs": [],
   "source": [
    "blobs=ambench2022.get_blobs()\n",
    "blobs"
   ]
  },
  {
   "cell_type": "code",
   "execution_count": null,
   "metadata": {},
   "outputs": [],
   "source": [
    "for blob in blobs.itertuples():\n",
    "    print(blob.id)\n",
    "    ambench2022.delete_blob(id=blob.id)\n",
    "   "
   ]
  },
  {
   "cell_type": "code",
   "execution_count": null,
   "metadata": {},
   "outputs": [],
   "source": [
    "ambench2022.query_all_amblobs()"
   ]
  },
  {
   "cell_type": "code",
   "execution_count": null,
   "metadata": {
    "tags": []
   },
   "outputs": [],
   "source": [
    "for t in blobs.itertuples():\n",
    "    ambench2022.delete_amblob_and_blob(handle=t.handle)\n"
   ]
  },
  {
   "cell_type": "markdown",
   "metadata": {},
   "source": [
    "# load all QR images as AMBlobs"
   ]
  },
  {
   "cell_type": "code",
   "execution_count": null,
   "metadata": {
    "tags": []
   },
   "outputs": [],
   "source": [
    "def checksum4bytes(b):\n",
    "    return hashlib.md5(b).hexdigest()\n",
    "\n",
    "def checksum4image(image):\n",
    "    b = pil2bytes(image)\n",
    "    return checksum4bytes(b)\n",
    "\n",
    "def pil2bytes(image):\n",
    "    '''\n",
    "    transform a PIL image to a bytearray\n",
    "    '''\n",
    "    imgByteArr = io.BytesIO()\n",
    "    image.save(imgByteArr, format=image.format)\n",
    "    imgByteArr = imgByteArr.getvalue()\n",
    "    return imgByteArr\n"
   ]
  },
  {
   "cell_type": "code",
   "execution_count": null,
   "metadata": {
    "tags": []
   },
   "outputs": [],
   "source": [
    "# find QR images\n",
    "blobs_to_be_loaded=glob.glob('/home/idies/workspace/AMBench/DATA/CDCS/test-ambench2022/AMDocs/records/*/*.QR.png')\n",
    "blobs_to_be_loaded[:3]"
   ]
  },
  {
   "cell_type": "code",
   "execution_count": null,
   "metadata": {
    "tags": []
   },
   "outputs": [],
   "source": [
    "for f in blobs_to_be_loaded:\n",
    "    with open(f,'rb') as bf:\n",
    "        byte=bf.read()\n",
    "        print(\" FILE\",f,len(byte),checksum4bytes(byte))\n",
    "    im=Image.open(f)\n",
    "    byte=pil2bytes(im)\n",
    "    print(\"IMAGE\",f,len(byte),checksum4bytes(byte))\n",
    "    byte=im.tobytes()\n",
    "    print(\"IMAGE\",f,len(byte),checksum4bytes(byte))\n"
   ]
  },
  {
   "cell_type": "code",
   "execution_count": null,
   "metadata": {},
   "outputs": [],
   "source": []
  },
  {
   "cell_type": "code",
   "execution_count": null,
   "metadata": {},
   "outputs": [],
   "source": []
  },
  {
   "cell_type": "code",
   "execution_count": null,
   "metadata": {},
   "outputs": [],
   "source": []
  },
  {
   "cell_type": "code",
   "execution_count": null,
   "metadata": {},
   "outputs": [],
   "source": []
  },
  {
   "cell_type": "code",
   "execution_count": null,
   "metadata": {},
   "outputs": [],
   "source": [
    "handle0=ambench2022.upload_blob(filename=blobs_to_be_loaded[0])\n",
    "ambench2022.get_blob(id=handle0.split(\"/\")[-2])"
   ]
  },
  {
   "cell_type": "code",
   "execution_count": null,
   "metadata": {},
   "outputs": [],
   "source": [
    "response = requests.get(handle0,auth=AUTH,verify=False)\n",
    "img = Image.open(io.BytesIO(response.content))\n",
    "print('filename=',img1.filename,'\\nformat=',img1.format,\"\\nheaders=\",response.headers)\n",
    "img"
   ]
  },
  {
   "cell_type": "code",
   "execution_count": null,
   "metadata": {},
   "outputs": [],
   "source": [
    "with open(blobs_to_be_loaded[1],\"rb\") as blob:\n",
    "    blobbytes=blob.read()\n",
    "handle1=ambench2022.upload_blob(filename=blobs_to_be_loaded[1],blobbytes=blobbytes)"
   ]
  },
  {
   "cell_type": "code",
   "execution_count": null,
   "metadata": {},
   "outputs": [],
   "source": [
    "ambench2022.get_blob(id=handle1.split(\"/\")[-2])"
   ]
  },
  {
   "cell_type": "code",
   "execution_count": null,
   "metadata": {},
   "outputs": [],
   "source": [
    "response = requests.get(handle1,auth=AUTH,verify=False)\n",
    "img1 = Image.open(io.BytesIO(response.content))\n",
    "img1"
   ]
  },
  {
   "cell_type": "code",
   "execution_count": null,
   "metadata": {},
   "outputs": [],
   "source": [
    "response.headers"
   ]
  },
  {
   "cell_type": "code",
   "execution_count": null,
   "metadata": {},
   "outputs": [],
   "source": [
    "blobbytes = open(blobs_to_be_loaded[2], 'rb')\n",
    "handle2=ambench2022.upload_blob(filename=\"SomeQRImage2.png\",blobbytes=blobbytes)"
   ]
  },
  {
   "cell_type": "code",
   "execution_count": null,
   "metadata": {},
   "outputs": [],
   "source": [
    "ambench2022.get_blob(id=handle2.split(\"/\")[-2])"
   ]
  },
  {
   "cell_type": "code",
   "execution_count": null,
   "metadata": {},
   "outputs": [],
   "source": [
    "response = requests.get(handle2,auth=AUTH,verify=False)\n",
    "img2 = Image.open(io.BytesIO(response.content))\n",
    "img2"
   ]
  },
  {
   "cell_type": "code",
   "execution_count": null,
   "metadata": {},
   "outputs": [],
   "source": [
    "for h in [handle0,handle1,handle2]:\n",
    "    _id=h.split(\"/\")[-2]\n",
    "    ambench2022.delete_blob(id=_id)"
   ]
  },
  {
   "cell_type": "code",
   "execution_count": null,
   "metadata": {},
   "outputs": [],
   "source": []
  },
  {
   "cell_type": "code",
   "execution_count": null,
   "metadata": {},
   "outputs": [],
   "source": [
    "def read_excel(EXCEL_FILE):\n",
    "    xl = pandas.ExcelFile (EXCEL_FILE)\n",
    "    sheets={}\n",
    "    for s in xl.sheet_names:\n",
    "        df=xl.parse(s).dropna(how='all') \n",
    "        sheets[s]=df\n",
    "    return sheets\n",
    "\n",
    "def pil2bytes(pilimage):\n",
    "    '''\n",
    "    retriev PIL image as a byte array\n",
    "    '''\n",
    "    buf = io.BytesIO()\n",
    "    pilimage.save(buf, format='JPEG')\n",
    "    return buf.getvalue() "
   ]
  },
  {
   "cell_type": "code",
   "execution_count": null,
   "metadata": {},
   "outputs": [],
   "source": [
    "pxl_doc = openpyxl.load_workbook(SAMPLES_EXCEL_FILE)\n",
    "_sheet = pxl_doc['Specimens']\n",
    "image_loader = SheetImageLoader(_sheet)"
   ]
  },
  {
   "cell_type": "code",
   "execution_count": null,
   "metadata": {},
   "outputs": [],
   "source": [
    "cell='S19'\n",
    "image = image_loader.get(cell)\n",
    "print(\"filename=\",image.filename,\"\\nformat=\",image.format)\n",
    "image"
   ]
  },
  {
   "cell_type": "code",
   "execution_count": null,
   "metadata": {},
   "outputs": [],
   "source": []
  }
 ],
 "metadata": {
  "kernelspec": {
   "display_name": "Python 3.8 (py38)",
   "language": "python",
   "name": "py38"
  },
  "language_info": {
   "codemirror_mode": {
    "name": "ipython",
    "version": 3
   },
   "file_extension": ".py",
   "mimetype": "text/x-python",
   "name": "python",
   "nbconvert_exporter": "python",
   "pygments_lexer": "ipython3",
   "version": "3.8.5"
  }
 },
 "nbformat": 4,
 "nbformat_minor": 4
}
