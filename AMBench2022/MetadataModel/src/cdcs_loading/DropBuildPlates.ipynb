{
 "cells": [
  {
   "cell_type": "markdown",
   "metadata": {},
   "source": [
    "# Fix names/ids two Build Plates\n",
    "2022-02-02"
   ]
  },
  {
   "cell_type": "code",
   "execution_count": null,
   "metadata": {},
   "outputs": [],
   "source": [
    "import sys\n",
    "import os\n",
    "import io\n",
    "import pprint\n",
    "# import lxml\n",
    "import lxml.etree as ET\n",
    "import xml.dom.minidom\n",
    "import importlib\n",
    "import glob\n",
    "import json\n",
    "import string\n",
    "import datetime\n",
    "import pandas\n",
    "import getpass\n",
    "import matplotlib.pyplot as plt\n",
    "import requests\n",
    "from PIL import Image, ImageDraw, ImageFont"
   ]
  },
  {
   "cell_type": "code",
   "execution_count": null,
   "metadata": {},
   "outputs": [],
   "source": [
    "import pyxb\n",
    "pyxb.RequireValidWhenGenerating(False);"
   ]
  },
  {
   "cell_type": "raw",
   "metadata": {},
   "source": [
    "%pip install openpyxl\n",
    "%pip install openpyxl-image-loader"
   ]
  },
  {
   "cell_type": "markdown",
   "metadata": {},
   "source": [
    "# preliminaries"
   ]
  },
  {
   "cell_type": "code",
   "execution_count": null,
   "metadata": {},
   "outputs": [],
   "source": [
    "import myconfig"
   ]
  },
  {
   "cell_type": "code",
   "execution_count": null,
   "metadata": {},
   "outputs": [],
   "source": [
    "importlib.reload(myconfig)\n",
    "from myconfig import *"
   ]
  },
  {
   "cell_type": "code",
   "execution_count": null,
   "metadata": {},
   "outputs": [],
   "source": [
    "AMBENCH=AMBENCH_URL.split(\"/\")[2].split(\".\")[0]\n",
    "EXCEL_FILE = SAMPLES_EXCEL_FILE\n",
    "try : USER\n",
    "except: USER = input('username: ')\n",
    "try: PASS\n",
    "except : PASS = getpass.getpass('enter password ')\n",
    "AUTH=(USER, PASS)"
   ]
  },
  {
   "cell_type": "code",
   "execution_count": null,
   "metadata": {},
   "outputs": [],
   "source": [
    "sys.path.insert(0, pyUTILS_path)\n",
    "import ambench.cdcs_utils\n",
    "from ambench.mapping import new_mapper"
   ]
  },
  {
   "cell_type": "code",
   "execution_count": null,
   "metadata": {},
   "outputs": [],
   "source": [
    "importlib.reload(ambench.cdcs_utils)\n",
    "from ambench.cdcs_utils import *"
   ]
  },
  {
   "cell_type": "markdown",
   "metadata": {},
   "source": [
    "# create AMBench2022 instance"
   ]
  },
  {
   "cell_type": "code",
   "execution_count": null,
   "metadata": {},
   "outputs": [],
   "source": [
    "AMBENCH_URL='https://test-ambench2022.nist.gov/'\n",
    "ambench2022=AMBench2022(TEMPLATE,AMBENCH_URL,auth=AUTH)\n",
    "# create validator from in-memory XSDs\n",
    "CDCS_VALIDATOR = ambench2022.create_schema_validator(); "
   ]
  },
  {
   "cell_type": "code",
   "execution_count": null,
   "metadata": {},
   "outputs": [],
   "source": [
    "xsd_filename=f'{XSD}AMDocs.xsd'\n",
    "VALIDATOR=xmlschema.XMLSchema(xsd_filename,build=False)\n",
    "VALIDATOR.build()\n",
    "VALIDATOR.validity "
   ]
  },
  {
   "cell_type": "markdown",
   "metadata": {},
   "source": [
    "# Retrieve the docs"
   ]
  },
  {
   "cell_type": "code",
   "execution_count": null,
   "metadata": {},
   "outputs": [],
   "source": [
    "DOC_TYPE='AMBuildPlate'\n",
    "outfolder=f\"{ROOT}/xml/{DOC_TYPE}/\"\n",
    "os.makedirs(outfolder,exist_ok=True)"
   ]
  },
  {
   "cell_type": "code",
   "execution_count": null,
   "metadata": {},
   "outputs": [],
   "source": [
    "docs=ambench2022.docs_by_name_AMDOC(\"AMBuildPlate\")"
   ]
  },
  {
   "cell_type": "code",
   "execution_count": null,
   "metadata": {},
   "outputs": [],
   "source": [
    "docs"
   ]
  },
  {
   "cell_type": "markdown",
   "metadata": {},
   "source": [
    "## delete build plates with bad identifiers\n"
   ]
  },
  {
   "cell_type": "code",
   "execution_count": null,
   "metadata": {},
   "outputs": [],
   "source": [
    "# define bad instances\n",
    "names=[\"ABM2022-625-CBM-B1\",\"ABM2022-625-CBM-B2\"]"
   ]
  },
  {
   "cell_type": "code",
   "execution_count": null,
   "metadata": {},
   "outputs": [],
   "source": [
    "for n in names:\n",
    "    MQ={\"AMDoc.AMBuildPlate.name\":n}\n",
    "    records = ambench2022.mongo_query(MQ)\n",
    "    if len(records) ==1:\n",
    "        row=records.loc[0]\n",
    "        print(\"will delete\", row)\n",
    "        ambench2022.delete_record(row)"
   ]
  }
 ],
 "metadata": {
  "kernelspec": {
   "display_name": "Python 3.8 (py38)",
   "language": "python",
   "name": "py38"
  },
  "language_info": {
   "codemirror_mode": {
    "name": "ipython",
    "version": 3
   },
   "file_extension": ".py",
   "mimetype": "text/x-python",
   "name": "python",
   "nbconvert_exporter": "python",
   "pygments_lexer": "ipython3",
   "version": "3.8.5"
  }
 },
 "nbformat": 4,
 "nbformat_minor": 4
}
