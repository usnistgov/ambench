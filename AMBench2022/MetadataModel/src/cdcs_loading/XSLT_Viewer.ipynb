{
 "cells": [
  {
   "cell_type": "markdown",
   "metadata": {},
   "source": [
    "# transform AMBench2022 XML files to HTML"
   ]
  },
  {
   "cell_type": "code",
   "execution_count": null,
   "metadata": {},
   "outputs": [],
   "source": [
    "import lxml\n",
    "import lxml.etree as ET\n",
    "import os\n",
    "import sys\n",
    "import glob\n",
    "import xml.dom.minidom\n",
    "import xmlschema"
   ]
  },
  {
   "cell_type": "code",
   "execution_count": null,
   "metadata": {
    "scrolled": false
   },
   "outputs": [],
   "source": [
    "xml_filename='/home/idies/workspace/Storage/jkim485/persistent/GIT/informatics/src/cdcs_loading/xml_may1/AMRadiography/A-AMB2022_Radiography_Ti4d_031.xml'\n",
    "dom = ET.parse(xml_filename)"
   ]
  },
  {
   "cell_type": "code",
   "execution_count": null,
   "metadata": {},
   "outputs": [],
   "source": [
    "# read XSLT files, create transformers for build process and powder\n",
    "xsl_filename='AMBench.xsl'\n",
    "xslt = ET.parse(xsl_filename)\n",
    "transform = ET.XSLT(xslt)"
   ]
  },
  {
   "cell_type": "code",
   "execution_count": null,
   "metadata": {},
   "outputs": [],
   "source": [
    "_html=transform(dom)"
   ]
  },
  {
   "cell_type": "code",
   "execution_count": null,
   "metadata": {},
   "outputs": [],
   "source": [
    "html_file=xml_filename.replace(\".xml\",\".html\")\n",
    "_html.write(html_file,xml_declaration=False, encoding='UTF-8',pretty_print=True)"
   ]
  },
  {
   "cell_type": "code",
   "execution_count": null,
   "metadata": {},
   "outputs": [],
   "source": []
  }
 ],
 "metadata": {
  "kernelspec": {
   "display_name": "Python 3.8 (py38)",
   "language": "python",
   "name": "py38"
  },
  "language_info": {
   "codemirror_mode": {
    "name": "ipython",
    "version": 3
   },
   "file_extension": ".py",
   "mimetype": "text/x-python",
   "name": "python",
   "nbconvert_exporter": "python",
   "pygments_lexer": "ipython3",
   "version": "3.8.5"
  }
 },
 "nbformat": 4,
 "nbformat_minor": 4
}
